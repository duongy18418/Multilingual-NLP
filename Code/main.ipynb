{
 "cells": [
  {
   "cell_type": "markdown",
   "metadata": {},
   "source": [
    "### For this project, we have decide to use a pretrained model NLLB-200 and finetune it to fit our project needs.\n",
    "Model link: https://huggingface.co/facebook/nllb-200-distilled-600M"
   ]
  },
  {
   "cell_type": "code",
   "execution_count": 1,
   "metadata": {},
   "outputs": [
    {
     "name": "stderr",
     "output_type": "stream",
     "text": [
      "c:\\Users\\duong\\AppData\\Local\\Programs\\Python\\Python311\\Lib\\site-packages\\tqdm\\auto.py:21: TqdmWarning: IProgress not found. Please update jupyter and ipywidgets. See https://ipywidgets.readthedocs.io/en/stable/user_install.html\n",
      "  from .autonotebook import tqdm as notebook_tqdm\n"
     ]
    }
   ],
   "source": [
    "#Import packages\n",
    "from transformers import AutoTokenizer, AutoModelForSeq2SeqLM, TrainingArguments, Trainer, DataCollatorForSeq2Seq, pipeline\n",
    "import numpy\n",
    "import evaluate\n",
    "import pandas\n",
    "from sklearn.model_selection import train_test_split\n",
    "from datasets import load_dataset, Dataset, DatasetDict"
   ]
  },
  {
   "cell_type": "code",
   "execution_count": 2,
   "metadata": {},
   "outputs": [],
   "source": [
    "#Load model directly\n",
    "tokenizer = AutoTokenizer.from_pretrained(\"facebook/nllb-200-distilled-600M\", src_lang = 'en', tgt_lang = 'zh')\n",
    "model = AutoModelForSeq2SeqLM.from_pretrained(\"facebook/nllb-200-distilled-600M\")"
   ]
  },
  {
   "cell_type": "markdown",
   "metadata": {},
   "source": [
    "We will be using 2 datasets from Amazon to finetune the NLLB-200 model. The source dataset will be in English and the target dataset will be in Chinese."
   ]
  },
  {
   "cell_type": "code",
   "execution_count": 3,
   "metadata": {},
   "outputs": [
    {
     "data": {
      "text/plain": [
       "DatasetDict({\n",
       "    train: Dataset({\n",
       "        features: ['en', 'zh'],\n",
       "        num_rows: 4070\n",
       "    })\n",
       "    test: Dataset({\n",
       "        features: ['en', 'zh'],\n",
       "        num_rows: 1357\n",
       "    })\n",
       "})"
      ]
     },
     "execution_count": 3,
     "metadata": {},
     "output_type": "execute_result"
    }
   ],
   "source": [
    "#load the source dataset\n",
    "en_data = pandas.read_csv('./Datasets/Train/en-US.csv')\n",
    "zh_data = pandas.read_csv('./Datasets/Train/zh-CN.csv')\n",
    "\n",
    "data = pandas.concat([en_data['Categories'], zh_data['Categories']], axis=1, keys=['en', 'zh'])\n",
    "train_data, test_data = train_test_split(data)\n",
    "\n",
    "dataset = DatasetDict({\n",
    "                        'train': Dataset.from_pandas(train_data),\n",
    "                        'test': Dataset.from_pandas(test_data)\n",
    "                    })\n",
    "dataset = dataset.remove_columns([\"__index_level_0__\"])\n",
    "dataset\n"
   ]
  },
  {
   "cell_type": "markdown",
   "metadata": {},
   "source": [
    "We will be following the tutorials from Hugging Face to use PyTorch Trainer to finetune the pretrained model. https://huggingface.co/docs/transformers/en/training, https://huggingface.co/docs/transformers/tasks/translation"
   ]
  },
  {
   "cell_type": "code",
   "execution_count": 4,
   "metadata": {},
   "outputs": [],
   "source": [
    "def tokenize_function(data):\n",
    "    #return tokenizer(data['en'], data['zh'], truncation=True)\n",
    "    padding = 'max_length'\n",
    "    max_length = 100\n",
    "    sources = [str(d) for d in data['en']]\n",
    "    targets = [str(d) for d in data['zh']]\n",
    "    inputs = tokenizer(sources, max_length=max_length, padding=padding, truncation=True)\n",
    "    label = tokenizer(targets, max_length=max_length, padding=padding, truncation=True)\n",
    "    inputs['labels'] = label['input_ids']\n",
    "    return inputs\n"
   ]
  },
  {
   "cell_type": "code",
   "execution_count": 5,
   "metadata": {},
   "outputs": [
    {
     "name": "stderr",
     "output_type": "stream",
     "text": [
      "Map: 100%|██████████| 4070/4070 [00:00<00:00, 16943.49 examples/s]\n",
      "Map: 100%|██████████| 1357/1357 [00:00<00:00, 18846.53 examples/s]\n"
     ]
    },
    {
     "data": {
      "text/plain": [
       "DatasetDict({\n",
       "    train: Dataset({\n",
       "        features: ['en', 'zh', 'input_ids', 'attention_mask', 'labels'],\n",
       "        num_rows: 4070\n",
       "    })\n",
       "    test: Dataset({\n",
       "        features: ['en', 'zh', 'input_ids', 'attention_mask', 'labels'],\n",
       "        num_rows: 1357\n",
       "    })\n",
       "})"
      ]
     },
     "execution_count": 5,
     "metadata": {},
     "output_type": "execute_result"
    }
   ],
   "source": [
    "tokenized_dataset = dataset.map(tokenize_function, batched=True)\n",
    "tokenized_dataset"
   ]
  },
  {
   "cell_type": "code",
   "execution_count": 6,
   "metadata": {},
   "outputs": [],
   "source": [
    "metric = evaluate.load('accuracy')\n",
    "\n",
    "def compute_metrics(eval_pred):\n",
    "    logits, labels = eval_pred\n",
    "    predictions = numpy.argmax(logits, axis=-1)\n",
    "    return metric.compute(predictions=predictions, references=labels)\n",
    "\n",
    "data_collator = DataCollatorForSeq2Seq(tokenizer=tokenizer,model=model)"
   ]
  },
  {
   "cell_type": "code",
   "execution_count": 7,
   "metadata": {},
   "outputs": [
    {
     "name": "stdout",
     "output_type": "stream",
     "text": [
      "WARNING:tensorflow:From c:\\Users\\duong\\AppData\\Local\\Programs\\Python\\Python311\\Lib\\site-packages\\keras\\src\\losses.py:2976: The name tf.losses.sparse_softmax_cross_entropy is deprecated. Please use tf.compat.v1.losses.sparse_softmax_cross_entropy instead.\n",
      "\n"
     ]
    }
   ],
   "source": [
    "training_args = TrainingArguments(\n",
    "                    output_dir=\"Trained Model\", \n",
    "                    evaluation_strategy=\"epoch\"\n",
    "                    )\n",
    "\n",
    "trainer = Trainer(\n",
    "    model=model,\n",
    "    args=training_args,\n",
    "    train_dataset=tokenized_dataset['train'],\n",
    "    eval_dataset=tokenized_dataset['test'],\n",
    "    data_collator=data_collator,\n",
    "    tokenizer=tokenizer\n",
    ")\n"
   ]
  },
  {
   "cell_type": "code",
   "execution_count": 8,
   "metadata": {},
   "outputs": [
    {
     "name": "stderr",
     "output_type": "stream",
     "text": [
      "  0%|          | 4/1527 [00:27<2:50:39,  6.72s/it]"
     ]
    },
    {
     "ename": "KeyboardInterrupt",
     "evalue": "",
     "output_type": "error",
     "traceback": [
      "\u001b[1;31m---------------------------------------------------------------------------\u001b[0m",
      "\u001b[1;31mKeyboardInterrupt\u001b[0m                         Traceback (most recent call last)",
      "Cell \u001b[1;32mIn[8], line 1\u001b[0m\n\u001b[1;32m----> 1\u001b[0m \u001b[43mtrainer\u001b[49m\u001b[38;5;241;43m.\u001b[39;49m\u001b[43mtrain\u001b[49m\u001b[43m(\u001b[49m\u001b[43m)\u001b[49m\n",
      "File \u001b[1;32mc:\\Users\\duong\\AppData\\Local\\Programs\\Python\\Python311\\Lib\\site-packages\\transformers\\trainer.py:1539\u001b[0m, in \u001b[0;36mTrainer.train\u001b[1;34m(self, resume_from_checkpoint, trial, ignore_keys_for_eval, **kwargs)\u001b[0m\n\u001b[0;32m   1537\u001b[0m         hf_hub_utils\u001b[38;5;241m.\u001b[39menable_progress_bars()\n\u001b[0;32m   1538\u001b[0m \u001b[38;5;28;01melse\u001b[39;00m:\n\u001b[1;32m-> 1539\u001b[0m     \u001b[38;5;28;01mreturn\u001b[39;00m \u001b[43minner_training_loop\u001b[49m\u001b[43m(\u001b[49m\n\u001b[0;32m   1540\u001b[0m \u001b[43m        \u001b[49m\u001b[43margs\u001b[49m\u001b[38;5;241;43m=\u001b[39;49m\u001b[43margs\u001b[49m\u001b[43m,\u001b[49m\n\u001b[0;32m   1541\u001b[0m \u001b[43m        \u001b[49m\u001b[43mresume_from_checkpoint\u001b[49m\u001b[38;5;241;43m=\u001b[39;49m\u001b[43mresume_from_checkpoint\u001b[49m\u001b[43m,\u001b[49m\n\u001b[0;32m   1542\u001b[0m \u001b[43m        \u001b[49m\u001b[43mtrial\u001b[49m\u001b[38;5;241;43m=\u001b[39;49m\u001b[43mtrial\u001b[49m\u001b[43m,\u001b[49m\n\u001b[0;32m   1543\u001b[0m \u001b[43m        \u001b[49m\u001b[43mignore_keys_for_eval\u001b[49m\u001b[38;5;241;43m=\u001b[39;49m\u001b[43mignore_keys_for_eval\u001b[49m\u001b[43m,\u001b[49m\n\u001b[0;32m   1544\u001b[0m \u001b[43m    \u001b[49m\u001b[43m)\u001b[49m\n",
      "File \u001b[1;32mc:\\Users\\duong\\AppData\\Local\\Programs\\Python\\Python311\\Lib\\site-packages\\transformers\\trainer.py:1869\u001b[0m, in \u001b[0;36mTrainer._inner_training_loop\u001b[1;34m(self, batch_size, args, resume_from_checkpoint, trial, ignore_keys_for_eval)\u001b[0m\n\u001b[0;32m   1866\u001b[0m     \u001b[38;5;28mself\u001b[39m\u001b[38;5;241m.\u001b[39mcontrol \u001b[38;5;241m=\u001b[39m \u001b[38;5;28mself\u001b[39m\u001b[38;5;241m.\u001b[39mcallback_handler\u001b[38;5;241m.\u001b[39mon_step_begin(args, \u001b[38;5;28mself\u001b[39m\u001b[38;5;241m.\u001b[39mstate, \u001b[38;5;28mself\u001b[39m\u001b[38;5;241m.\u001b[39mcontrol)\n\u001b[0;32m   1868\u001b[0m \u001b[38;5;28;01mwith\u001b[39;00m \u001b[38;5;28mself\u001b[39m\u001b[38;5;241m.\u001b[39maccelerator\u001b[38;5;241m.\u001b[39maccumulate(model):\n\u001b[1;32m-> 1869\u001b[0m     tr_loss_step \u001b[38;5;241m=\u001b[39m \u001b[38;5;28;43mself\u001b[39;49m\u001b[38;5;241;43m.\u001b[39;49m\u001b[43mtraining_step\u001b[49m\u001b[43m(\u001b[49m\u001b[43mmodel\u001b[49m\u001b[43m,\u001b[49m\u001b[43m \u001b[49m\u001b[43minputs\u001b[49m\u001b[43m)\u001b[49m\n\u001b[0;32m   1871\u001b[0m \u001b[38;5;28;01mif\u001b[39;00m (\n\u001b[0;32m   1872\u001b[0m     args\u001b[38;5;241m.\u001b[39mlogging_nan_inf_filter\n\u001b[0;32m   1873\u001b[0m     \u001b[38;5;129;01mand\u001b[39;00m \u001b[38;5;129;01mnot\u001b[39;00m is_torch_tpu_available()\n\u001b[0;32m   1874\u001b[0m     \u001b[38;5;129;01mand\u001b[39;00m (torch\u001b[38;5;241m.\u001b[39misnan(tr_loss_step) \u001b[38;5;129;01mor\u001b[39;00m torch\u001b[38;5;241m.\u001b[39misinf(tr_loss_step))\n\u001b[0;32m   1875\u001b[0m ):\n\u001b[0;32m   1876\u001b[0m     \u001b[38;5;66;03m# if loss is nan or inf simply add the average of previous logged losses\u001b[39;00m\n\u001b[0;32m   1877\u001b[0m     tr_loss \u001b[38;5;241m+\u001b[39m\u001b[38;5;241m=\u001b[39m tr_loss \u001b[38;5;241m/\u001b[39m (\u001b[38;5;241m1\u001b[39m \u001b[38;5;241m+\u001b[39m \u001b[38;5;28mself\u001b[39m\u001b[38;5;241m.\u001b[39mstate\u001b[38;5;241m.\u001b[39mglobal_step \u001b[38;5;241m-\u001b[39m \u001b[38;5;28mself\u001b[39m\u001b[38;5;241m.\u001b[39m_globalstep_last_logged)\n",
      "File \u001b[1;32mc:\\Users\\duong\\AppData\\Local\\Programs\\Python\\Python311\\Lib\\site-packages\\transformers\\trainer.py:2772\u001b[0m, in \u001b[0;36mTrainer.training_step\u001b[1;34m(self, model, inputs)\u001b[0m\n\u001b[0;32m   2769\u001b[0m     \u001b[38;5;28;01mreturn\u001b[39;00m loss_mb\u001b[38;5;241m.\u001b[39mreduce_mean()\u001b[38;5;241m.\u001b[39mdetach()\u001b[38;5;241m.\u001b[39mto(\u001b[38;5;28mself\u001b[39m\u001b[38;5;241m.\u001b[39margs\u001b[38;5;241m.\u001b[39mdevice)\n\u001b[0;32m   2771\u001b[0m \u001b[38;5;28;01mwith\u001b[39;00m \u001b[38;5;28mself\u001b[39m\u001b[38;5;241m.\u001b[39mcompute_loss_context_manager():\n\u001b[1;32m-> 2772\u001b[0m     loss \u001b[38;5;241m=\u001b[39m \u001b[38;5;28;43mself\u001b[39;49m\u001b[38;5;241;43m.\u001b[39;49m\u001b[43mcompute_loss\u001b[49m\u001b[43m(\u001b[49m\u001b[43mmodel\u001b[49m\u001b[43m,\u001b[49m\u001b[43m \u001b[49m\u001b[43minputs\u001b[49m\u001b[43m)\u001b[49m\n\u001b[0;32m   2774\u001b[0m \u001b[38;5;28;01mif\u001b[39;00m \u001b[38;5;28mself\u001b[39m\u001b[38;5;241m.\u001b[39margs\u001b[38;5;241m.\u001b[39mn_gpu \u001b[38;5;241m>\u001b[39m \u001b[38;5;241m1\u001b[39m:\n\u001b[0;32m   2775\u001b[0m     loss \u001b[38;5;241m=\u001b[39m loss\u001b[38;5;241m.\u001b[39mmean()  \u001b[38;5;66;03m# mean() to average on multi-gpu parallel training\u001b[39;00m\n",
      "File \u001b[1;32mc:\\Users\\duong\\AppData\\Local\\Programs\\Python\\Python311\\Lib\\site-packages\\transformers\\trainer.py:2795\u001b[0m, in \u001b[0;36mTrainer.compute_loss\u001b[1;34m(self, model, inputs, return_outputs)\u001b[0m\n\u001b[0;32m   2793\u001b[0m \u001b[38;5;28;01melse\u001b[39;00m:\n\u001b[0;32m   2794\u001b[0m     labels \u001b[38;5;241m=\u001b[39m \u001b[38;5;28;01mNone\u001b[39;00m\n\u001b[1;32m-> 2795\u001b[0m outputs \u001b[38;5;241m=\u001b[39m \u001b[43mmodel\u001b[49m\u001b[43m(\u001b[49m\u001b[38;5;241;43m*\u001b[39;49m\u001b[38;5;241;43m*\u001b[39;49m\u001b[43minputs\u001b[49m\u001b[43m)\u001b[49m\n\u001b[0;32m   2796\u001b[0m \u001b[38;5;66;03m# Save past state if it exists\u001b[39;00m\n\u001b[0;32m   2797\u001b[0m \u001b[38;5;66;03m# TODO: this needs to be fixed and made cleaner later.\u001b[39;00m\n\u001b[0;32m   2798\u001b[0m \u001b[38;5;28;01mif\u001b[39;00m \u001b[38;5;28mself\u001b[39m\u001b[38;5;241m.\u001b[39margs\u001b[38;5;241m.\u001b[39mpast_index \u001b[38;5;241m>\u001b[39m\u001b[38;5;241m=\u001b[39m \u001b[38;5;241m0\u001b[39m:\n",
      "File \u001b[1;32mc:\\Users\\duong\\AppData\\Local\\Programs\\Python\\Python311\\Lib\\site-packages\\torch\\nn\\modules\\module.py:1511\u001b[0m, in \u001b[0;36mModule._wrapped_call_impl\u001b[1;34m(self, *args, **kwargs)\u001b[0m\n\u001b[0;32m   1509\u001b[0m     \u001b[38;5;28;01mreturn\u001b[39;00m \u001b[38;5;28mself\u001b[39m\u001b[38;5;241m.\u001b[39m_compiled_call_impl(\u001b[38;5;241m*\u001b[39margs, \u001b[38;5;241m*\u001b[39m\u001b[38;5;241m*\u001b[39mkwargs)  \u001b[38;5;66;03m# type: ignore[misc]\u001b[39;00m\n\u001b[0;32m   1510\u001b[0m \u001b[38;5;28;01melse\u001b[39;00m:\n\u001b[1;32m-> 1511\u001b[0m     \u001b[38;5;28;01mreturn\u001b[39;00m \u001b[38;5;28;43mself\u001b[39;49m\u001b[38;5;241;43m.\u001b[39;49m\u001b[43m_call_impl\u001b[49m\u001b[43m(\u001b[49m\u001b[38;5;241;43m*\u001b[39;49m\u001b[43margs\u001b[49m\u001b[43m,\u001b[49m\u001b[43m \u001b[49m\u001b[38;5;241;43m*\u001b[39;49m\u001b[38;5;241;43m*\u001b[39;49m\u001b[43mkwargs\u001b[49m\u001b[43m)\u001b[49m\n",
      "File \u001b[1;32mc:\\Users\\duong\\AppData\\Local\\Programs\\Python\\Python311\\Lib\\site-packages\\torch\\nn\\modules\\module.py:1520\u001b[0m, in \u001b[0;36mModule._call_impl\u001b[1;34m(self, *args, **kwargs)\u001b[0m\n\u001b[0;32m   1515\u001b[0m \u001b[38;5;66;03m# If we don't have any hooks, we want to skip the rest of the logic in\u001b[39;00m\n\u001b[0;32m   1516\u001b[0m \u001b[38;5;66;03m# this function, and just call forward.\u001b[39;00m\n\u001b[0;32m   1517\u001b[0m \u001b[38;5;28;01mif\u001b[39;00m \u001b[38;5;129;01mnot\u001b[39;00m (\u001b[38;5;28mself\u001b[39m\u001b[38;5;241m.\u001b[39m_backward_hooks \u001b[38;5;129;01mor\u001b[39;00m \u001b[38;5;28mself\u001b[39m\u001b[38;5;241m.\u001b[39m_backward_pre_hooks \u001b[38;5;129;01mor\u001b[39;00m \u001b[38;5;28mself\u001b[39m\u001b[38;5;241m.\u001b[39m_forward_hooks \u001b[38;5;129;01mor\u001b[39;00m \u001b[38;5;28mself\u001b[39m\u001b[38;5;241m.\u001b[39m_forward_pre_hooks\n\u001b[0;32m   1518\u001b[0m         \u001b[38;5;129;01mor\u001b[39;00m _global_backward_pre_hooks \u001b[38;5;129;01mor\u001b[39;00m _global_backward_hooks\n\u001b[0;32m   1519\u001b[0m         \u001b[38;5;129;01mor\u001b[39;00m _global_forward_hooks \u001b[38;5;129;01mor\u001b[39;00m _global_forward_pre_hooks):\n\u001b[1;32m-> 1520\u001b[0m     \u001b[38;5;28;01mreturn\u001b[39;00m \u001b[43mforward_call\u001b[49m\u001b[43m(\u001b[49m\u001b[38;5;241;43m*\u001b[39;49m\u001b[43margs\u001b[49m\u001b[43m,\u001b[49m\u001b[43m \u001b[49m\u001b[38;5;241;43m*\u001b[39;49m\u001b[38;5;241;43m*\u001b[39;49m\u001b[43mkwargs\u001b[49m\u001b[43m)\u001b[49m\n\u001b[0;32m   1522\u001b[0m \u001b[38;5;28;01mtry\u001b[39;00m:\n\u001b[0;32m   1523\u001b[0m     result \u001b[38;5;241m=\u001b[39m \u001b[38;5;28;01mNone\u001b[39;00m\n",
      "File \u001b[1;32mc:\\Users\\duong\\AppData\\Local\\Programs\\Python\\Python311\\Lib\\site-packages\\transformers\\models\\m2m_100\\modeling_m2m_100.py:1292\u001b[0m, in \u001b[0;36mM2M100ForConditionalGeneration.forward\u001b[1;34m(self, input_ids, attention_mask, decoder_input_ids, decoder_attention_mask, head_mask, decoder_head_mask, cross_attn_head_mask, encoder_outputs, past_key_values, inputs_embeds, decoder_inputs_embeds, labels, use_cache, output_attentions, output_hidden_states, return_dict)\u001b[0m\n\u001b[0;32m   1271\u001b[0m         decoder_input_ids \u001b[38;5;241m=\u001b[39m shift_tokens_right(\n\u001b[0;32m   1272\u001b[0m             labels, \u001b[38;5;28mself\u001b[39m\u001b[38;5;241m.\u001b[39mconfig\u001b[38;5;241m.\u001b[39mpad_token_id, \u001b[38;5;28mself\u001b[39m\u001b[38;5;241m.\u001b[39mconfig\u001b[38;5;241m.\u001b[39mdecoder_start_token_id\n\u001b[0;32m   1273\u001b[0m         )\n\u001b[0;32m   1275\u001b[0m outputs \u001b[38;5;241m=\u001b[39m \u001b[38;5;28mself\u001b[39m\u001b[38;5;241m.\u001b[39mmodel(\n\u001b[0;32m   1276\u001b[0m     input_ids,\n\u001b[0;32m   1277\u001b[0m     attention_mask\u001b[38;5;241m=\u001b[39mattention_mask,\n\u001b[1;32m   (...)\u001b[0m\n\u001b[0;32m   1290\u001b[0m     return_dict\u001b[38;5;241m=\u001b[39mreturn_dict,\n\u001b[0;32m   1291\u001b[0m )\n\u001b[1;32m-> 1292\u001b[0m lm_logits \u001b[38;5;241m=\u001b[39m \u001b[38;5;28;43mself\u001b[39;49m\u001b[38;5;241;43m.\u001b[39;49m\u001b[43mlm_head\u001b[49m\u001b[43m(\u001b[49m\u001b[43moutputs\u001b[49m\u001b[43m[\u001b[49m\u001b[38;5;241;43m0\u001b[39;49m\u001b[43m]\u001b[49m\u001b[43m)\u001b[49m\n\u001b[0;32m   1294\u001b[0m masked_lm_loss \u001b[38;5;241m=\u001b[39m \u001b[38;5;28;01mNone\u001b[39;00m\n\u001b[0;32m   1295\u001b[0m \u001b[38;5;28;01mif\u001b[39;00m labels \u001b[38;5;129;01mis\u001b[39;00m \u001b[38;5;129;01mnot\u001b[39;00m \u001b[38;5;28;01mNone\u001b[39;00m:\n\u001b[0;32m   1296\u001b[0m     \u001b[38;5;66;03m# move labels to the correct device to enable PP\u001b[39;00m\n",
      "File \u001b[1;32mc:\\Users\\duong\\AppData\\Local\\Programs\\Python\\Python311\\Lib\\site-packages\\torch\\nn\\modules\\module.py:1511\u001b[0m, in \u001b[0;36mModule._wrapped_call_impl\u001b[1;34m(self, *args, **kwargs)\u001b[0m\n\u001b[0;32m   1509\u001b[0m     \u001b[38;5;28;01mreturn\u001b[39;00m \u001b[38;5;28mself\u001b[39m\u001b[38;5;241m.\u001b[39m_compiled_call_impl(\u001b[38;5;241m*\u001b[39margs, \u001b[38;5;241m*\u001b[39m\u001b[38;5;241m*\u001b[39mkwargs)  \u001b[38;5;66;03m# type: ignore[misc]\u001b[39;00m\n\u001b[0;32m   1510\u001b[0m \u001b[38;5;28;01melse\u001b[39;00m:\n\u001b[1;32m-> 1511\u001b[0m     \u001b[38;5;28;01mreturn\u001b[39;00m \u001b[38;5;28;43mself\u001b[39;49m\u001b[38;5;241;43m.\u001b[39;49m\u001b[43m_call_impl\u001b[49m\u001b[43m(\u001b[49m\u001b[38;5;241;43m*\u001b[39;49m\u001b[43margs\u001b[49m\u001b[43m,\u001b[49m\u001b[43m \u001b[49m\u001b[38;5;241;43m*\u001b[39;49m\u001b[38;5;241;43m*\u001b[39;49m\u001b[43mkwargs\u001b[49m\u001b[43m)\u001b[49m\n",
      "File \u001b[1;32mc:\\Users\\duong\\AppData\\Local\\Programs\\Python\\Python311\\Lib\\site-packages\\torch\\nn\\modules\\module.py:1520\u001b[0m, in \u001b[0;36mModule._call_impl\u001b[1;34m(self, *args, **kwargs)\u001b[0m\n\u001b[0;32m   1515\u001b[0m \u001b[38;5;66;03m# If we don't have any hooks, we want to skip the rest of the logic in\u001b[39;00m\n\u001b[0;32m   1516\u001b[0m \u001b[38;5;66;03m# this function, and just call forward.\u001b[39;00m\n\u001b[0;32m   1517\u001b[0m \u001b[38;5;28;01mif\u001b[39;00m \u001b[38;5;129;01mnot\u001b[39;00m (\u001b[38;5;28mself\u001b[39m\u001b[38;5;241m.\u001b[39m_backward_hooks \u001b[38;5;129;01mor\u001b[39;00m \u001b[38;5;28mself\u001b[39m\u001b[38;5;241m.\u001b[39m_backward_pre_hooks \u001b[38;5;129;01mor\u001b[39;00m \u001b[38;5;28mself\u001b[39m\u001b[38;5;241m.\u001b[39m_forward_hooks \u001b[38;5;129;01mor\u001b[39;00m \u001b[38;5;28mself\u001b[39m\u001b[38;5;241m.\u001b[39m_forward_pre_hooks\n\u001b[0;32m   1518\u001b[0m         \u001b[38;5;129;01mor\u001b[39;00m _global_backward_pre_hooks \u001b[38;5;129;01mor\u001b[39;00m _global_backward_hooks\n\u001b[0;32m   1519\u001b[0m         \u001b[38;5;129;01mor\u001b[39;00m _global_forward_hooks \u001b[38;5;129;01mor\u001b[39;00m _global_forward_pre_hooks):\n\u001b[1;32m-> 1520\u001b[0m     \u001b[38;5;28;01mreturn\u001b[39;00m \u001b[43mforward_call\u001b[49m\u001b[43m(\u001b[49m\u001b[38;5;241;43m*\u001b[39;49m\u001b[43margs\u001b[49m\u001b[43m,\u001b[49m\u001b[43m \u001b[49m\u001b[38;5;241;43m*\u001b[39;49m\u001b[38;5;241;43m*\u001b[39;49m\u001b[43mkwargs\u001b[49m\u001b[43m)\u001b[49m\n\u001b[0;32m   1522\u001b[0m \u001b[38;5;28;01mtry\u001b[39;00m:\n\u001b[0;32m   1523\u001b[0m     result \u001b[38;5;241m=\u001b[39m \u001b[38;5;28;01mNone\u001b[39;00m\n",
      "File \u001b[1;32mc:\\Users\\duong\\AppData\\Local\\Programs\\Python\\Python311\\Lib\\site-packages\\torch\\nn\\modules\\linear.py:116\u001b[0m, in \u001b[0;36mLinear.forward\u001b[1;34m(self, input)\u001b[0m\n\u001b[0;32m    115\u001b[0m \u001b[38;5;28;01mdef\u001b[39;00m \u001b[38;5;21mforward\u001b[39m(\u001b[38;5;28mself\u001b[39m, \u001b[38;5;28minput\u001b[39m: Tensor) \u001b[38;5;241m-\u001b[39m\u001b[38;5;241m>\u001b[39m Tensor:\n\u001b[1;32m--> 116\u001b[0m     \u001b[38;5;28;01mreturn\u001b[39;00m \u001b[43mF\u001b[49m\u001b[38;5;241;43m.\u001b[39;49m\u001b[43mlinear\u001b[49m\u001b[43m(\u001b[49m\u001b[38;5;28;43minput\u001b[39;49m\u001b[43m,\u001b[49m\u001b[43m \u001b[49m\u001b[38;5;28;43mself\u001b[39;49m\u001b[38;5;241;43m.\u001b[39;49m\u001b[43mweight\u001b[49m\u001b[43m,\u001b[49m\u001b[43m \u001b[49m\u001b[38;5;28;43mself\u001b[39;49m\u001b[38;5;241;43m.\u001b[39;49m\u001b[43mbias\u001b[49m\u001b[43m)\u001b[49m\n",
      "\u001b[1;31mKeyboardInterrupt\u001b[0m: "
     ]
    }
   ],
   "source": [
    "trainer.train()"
   ]
  },
  {
   "cell_type": "markdown",
   "metadata": {},
   "source": [
    "Once we finished training our model, it is saved to the Trained Model folder. However, due to the size limit of GitHub, the final version of the FineTuned Model is pushed to a Hugging Face repo so that we can easily reference it for further usage."
   ]
  },
  {
   "cell_type": "code",
   "execution_count": null,
   "metadata": {},
   "outputs": [
    {
     "name": "stderr",
     "output_type": "stream",
     "text": [
      "Some non-default generation parameters are set in the model config. These should go into a GenerationConfig file (https://huggingface.co/docs/transformers/generation_strategies#save-a-custom-decoding-strategy-with-your-model) instead. This warning will be raised to an exception in v4.41.\n",
      "Non-default generation parameters: {'max_length': 200}\n"
     ]
    }
   ],
   "source": [
    "trainer.save_model('./Trained Model/FineTuned Model')"
   ]
  },
  {
   "cell_type": "markdown",
   "metadata": {},
   "source": [
    "The next step is to test our fine tune model to make sure everything is working correctly."
   ]
  },
  {
   "cell_type": "code",
   "execution_count": null,
   "metadata": {},
   "outputs": [
    {
     "data": {
      "application/vnd.jupyter.widget-view+json": {
       "model_id": "b4e2c3fd89c5485e98feaa4e07164dd4",
       "version_major": 2,
       "version_minor": 0
      },
      "text/plain": [
       "config.json:   0%|          | 0.00/896 [00:00<?, ?B/s]"
      ]
     },
     "metadata": {},
     "output_type": "display_data"
    },
    {
     "data": {
      "application/vnd.jupyter.widget-view+json": {
       "model_id": "fcf16778ef2b4640a16ec01b1360bf13",
       "version_major": 2,
       "version_minor": 0
      },
      "text/plain": [
       "model.safetensors:   0%|          | 0.00/2.46G [00:00<?, ?B/s]"
      ]
     },
     "metadata": {},
     "output_type": "display_data"
    },
    {
     "data": {
      "application/vnd.jupyter.widget-view+json": {
       "model_id": "97b30b3aacb042eb9c022e5b7eee094b",
       "version_major": 2,
       "version_minor": 0
      },
      "text/plain": [
       "generation_config.json:   0%|          | 0.00/184 [00:00<?, ?B/s]"
      ]
     },
     "metadata": {},
     "output_type": "display_data"
    },
    {
     "data": {
      "application/vnd.jupyter.widget-view+json": {
       "model_id": "0aa4522dd001449da32cf760fec50d11",
       "version_major": 2,
       "version_minor": 0
      },
      "text/plain": [
       "tokenizer_config.json:   0%|          | 0.00/39.9k [00:00<?, ?B/s]"
      ]
     },
     "metadata": {},
     "output_type": "display_data"
    },
    {
     "data": {
      "application/vnd.jupyter.widget-view+json": {
       "model_id": "eb124ce44fd44a81a65f9952dbf732a3",
       "version_major": 2,
       "version_minor": 0
      },
      "text/plain": [
       "sentencepiece.bpe.model:   0%|          | 0.00/4.85M [00:00<?, ?B/s]"
      ]
     },
     "metadata": {},
     "output_type": "display_data"
    },
    {
     "data": {
      "application/vnd.jupyter.widget-view+json": {
       "model_id": "f1209ef922734dd5ae58c8c2fc397805",
       "version_major": 2,
       "version_minor": 0
      },
      "text/plain": [
       "tokenizer.json:   0%|          | 0.00/17.3M [00:00<?, ?B/s]"
      ]
     },
     "metadata": {},
     "output_type": "display_data"
    },
    {
     "data": {
      "application/vnd.jupyter.widget-view+json": {
       "model_id": "808a390792304835b17c037091baca57",
       "version_major": 2,
       "version_minor": 0
      },
      "text/plain": [
       "special_tokens_map.json:   0%|          | 0.00/4.23k [00:00<?, ?B/s]"
      ]
     },
     "metadata": {},
     "output_type": "display_data"
    }
   ],
   "source": [
    "translator = pipeline(\"translation\", model=\"duongy18418/Multilingual_Model\")"
   ]
  },
  {
   "cell_type": "code",
   "execution_count": null,
   "metadata": {},
   "outputs": [],
   "source": [
    "ecommerce_dataset = pandas.read_csv(\"Amazon_Ecommerce_Data_2020.csv\", usecols=[\"Category\"], nrows=100)\n",
    "ecommerce_dataset = ecommerce_dataset.dropna()\n",
    "en_list = ecommerce_dataset['Category'].tolist()\n",
    "zh_list = []"
   ]
  },
  {
   "cell_type": "code",
   "execution_count": null,
   "metadata": {},
   "outputs": [],
   "source": [
    "for i in range(len(en_list)):\n",
    "    zh_list.append(translator(en_list[i], src_lang='en', tgt_lang='zh'))"
   ]
  },
  {
   "cell_type": "code",
   "execution_count": null,
   "metadata": {},
   "outputs": [
    {
     "name": "stdout",
     "output_type": "stream",
     "text": [
      "|    | Category-en                                                                                                                                         | Category-zh                                                                         |\n",
      "|---:|:----------------------------------------------------------------------------------------------------------------------------------------------------|:------------------------------------------------------------------------------------|\n",
      "|  0 | Sports & Outdoors | Outdoor Recreation | Skates, Skateboards & Scooters | Skateboarding | Standard Skateboards & Longboards | Longboards            | [{'translation_text': 'zheng 运动和户外娱乐滑板滑板滑板滑板滑板长板'}]              |\n",
      "|  1 | Toys & Games | Learning & Education | Science Kits & Toys                                                                                           | [{'translation_text': 'zheng 玩具游戏学习教育科学套件玩具'}]                        |\n",
      "|  2 | Toys & Games | Arts & Crafts | Craft Kits                                                                                                           | [{'translation_text': 'zheng 玩具和游戏'}]                                          |\n",
      "|  3 | Toys & Games | Hobbies | Models & Model Kits | Model Kits | Airplane & Jet Kits                                                                     | [{'translation_text': 'zheng 玩具和游戏趣味 模特和模型套餐 机器人和飞机套餐'}]      |\n",
      "|  4 | Toys & Games | Puzzles | Jigsaw Puzzles                                                                                                             | [{'translation_text': 'zheng 玩具游戏拼图'}]                                        |\n",
      "|  5 | Clothing, Shoes & Jewelry | Costumes & Accessories | Kids & Baby | Girls | Costumes                                                                 | [{'translation_text': 'zheng 衣服鞋子和珠宝 服装和配件 儿童和婴儿女孩服装'}]        |\n",
      "|  6 | Toys & Games | Arts & Crafts | Drawing & Painting Supplies | Crayons                                                                                | [{'translation_text': 'zheng 玩具游戏艺术和工艺绘画用品'}]                          |\n",
      "|  7 | Home & Kitchen | Home Décor | Window Treatments | Window Stickers & Films | Window Films                                                            | [{'translation_text': 'zheng 家庭和厨房家庭装修窗口治疗窗口贴纸和电影窗口电影'}]    |\n",
      "|  8 | Toys & Games | Baby & Toddler Toys                                                                                                                  | [{'translation_text': 'zhys 玩具和游戏宝宝宝宝宝宝宝宝宝'}]                         |\n",
      "|  9 | Toys & Games | Collectible Toys | Statues, Bobbleheads & Busts | Statues                                                                            | [{'translation_text': 'zheng 玩具和游戏 收藏玩具'}]                                 |\n",
      "| 10 | Baby Products | Nursery | Décor | Window Treatments | Valances                                                                                      | [{'translation_text': 'zheng 婴儿产品护理院装饰窗外治疗'}]                          |\n",
      "| 11 | Toys & Games | Building Toys | Building Sets                                                                                                        | [{'translation_text': 'zheng 玩具游戏'}]                                            |\n",
      "| 12 | Toys & Games | Arts & Crafts | Craft Kits                                                                                                           | [{'translation_text': 'zheng 玩具和游戏'}]                                          |\n",
      "| 13 | Toys & Games | Baby & Toddler Toys | Musical Toys                                                                                                   | [{'translation_text': 'zhys 玩具和游戏宝宝宝宝宝宝宝宝玩具音乐玩具'}]               |\n",
      "| 14 | Toys & Games | Learning & Education | Flash Cards                                                                                                   | [{'translation_text': 'zheng 玩具游戏学习教育闪卡'}]                                |\n",
      "| 15 | Home & Kitchen | Furniture | Kids' Furniture | Tables & Chairs | Tables                                                                             | [{'translation_text': 'zheng 家具厨房儿童家具桌子椅子'}]                            |\n",
      "| 16 | Toys & Games | Novelty & Gag Toys | Money Banks                                                                                                     | [{'translation_text': 'zheng 玩具游戏新奇之路玩具钱银行'}]                          |\n",
      "| 17 | Toys & Games | Baby & Toddler Toys | Musical Toys                                                                                                   | [{'translation_text': 'zhys 玩具和游戏宝宝宝宝宝宝宝宝玩具音乐玩具'}]               |\n",
      "| 18 | Toys & Games | Sports & Outdoor Play | Slumber Bags                                                                                                 | [{'translation_text': 'zheng 玩具和游戏 运动和户外播放睡袋'}]                       |\n",
      "| 19 | Toys & Games | Hobbies | Hobby Building Tools & Hardware | RC Linkages                                                                              | [{'translation_text': 'zheng 玩具和游戏趣味趣味建材工具和硬件'}]                    |\n",
      "| 20 | Toys & Games | Building Toys | Building Sets                                                                                                        | [{'translation_text': 'zheng 玩具游戏'}]                                            |\n",
      "| 21 | Toys & Games | Party Supplies | Party Tableware | Plates                                                                                            | [{'translation_text': 'zheng 玩具游戏聚会用餐'}]                                    |\n",
      "| 22 | Toys & Games | Baby & Toddler Toys | Teaching Clocks                                                                                                | [{'translation_text': 'zheng 玩具和游戏宝宝宝宝宝宝玩具教钟'}]                      |\n",
      "| 23 | Toys & Games | Tricycles, Scooters & Wagons | Balance Bikes                                                                                         | [{'translation_text': 'zheng 玩具游戏 三轮车,轮轮轮车和车轮平衡自行车'}]            |\n",
      "| 24 | Toys & Games | Kids' Electronics                                                                                                                    | [{'translation_text': 'zheng 儿童电子玩具'}]                                        |\n",
      "| 25 | Home & Kitchen | Home Décor | Kids' Room Décor                                                                                                      | [{'translation_text': 'zheng 家庭和厨房'}]                                          |\n",
      "| 26 | Baby Products | Nursery | Décor | Wall Décor | Growth Charts                                                                                        | [{'translation_text': 'zheng 婴儿产品护理院外观外观外观成长图表'}]                  |\n",
      "| 27 | Toys & Games | Puzzles | Jigsaw Puzzles                                                                                                             | [{'translation_text': 'zheng 玩具游戏拼图'}]                                        |\n",
      "| 28 | Sports & Outdoors | Sports & Fitness | Team Sports                                                                                                  | [{'translation_text': 'zheng 运动和户外运动和健身'}]                                |\n",
      "| 29 | Toys & Games | Dress Up & Pretend Play | Costumes                                                                                                   | [{'translation_text': 'zheng 玩具游戏穿衣服并假装播放服装'}]                        |\n",
      "| 30 | Home & Kitchen | Bedding | Kids' Bedding | Comforters & Sets | Comforter Sets                                                                       | [{'translation_text': 'zheng 家庭和厨房床单儿童床单舒适器具'}]                      |\n",
      "| 31 | Toys & Games | Toy Figures & Playsets | Action Figures                                                                                              | [{'translation_text': 'zheng 玩具和游戏玩具图像和剧情动作图像'}]                    |\n",
      "| 32 | Clothing, Shoes & Jewelry | Costumes & Accessories | Kids & Baby | Boys | Costumes                                                                  | [{'translation_text': 'zheng 衣服鞋子珠宝服装配件儿童婴儿男孩服装'}]                |\n",
      "| 33 | Toys & Games | Play Vehicles                                                                                                                        | [{'translation_text': 'zheng 玩具游戏 播放汽车'}]                                   |\n",
      "| 34 | Toys & Games | Novelty & Gag Toys                                                                                                                   | [{'translation_text': 'zheng 玩具游戏'}]                                            |\n",
      "| 35 | Toys & Games | Party Supplies                                                                                                                       | [{'translation_text': 'zheng 玩具游戏聚会用品'}]                                    |\n",
      "| 36 | Toys & Games | Party Supplies | Banners                                                                                                             | [{'translation_text': 'zheng 玩具游戏派对用品'}]                                    |\n",
      "| 37 | Toys & Games | Dolls & Accessories | Doll Accessories                                                                                               | [{'translation_text': 'zheng 玩具游戏玩具配件'}]                                    |\n",
      "| 38 | Toys & Games | Arts & Crafts | Craft Kits                                                                                                           | [{'translation_text': 'zheng 玩具和游戏'}]                                          |\n",
      "| 39 | Toys & Games | Games & Accessories                                                                                                                  | [{'translation_text': 'zheng 玩具游戏'}]                                            |\n",
      "| 40 | Toys & Games | Hobbies | Trains & Accessories | Train Cars | Freight Cars | Gondolas                                                                | [{'translation_text': 'zheng 玩具和游戏趣味列车配件列车汽车货车'}]                  |\n",
      "| 41 | Home & Kitchen | Bedding | Kids' Bedding | Blankets & Throws | Throws                                                                               | [{'translation_text': 'zheng 家庭和厨房床单儿童床单毯子和布袋子'}]                  |\n",
      "| 42 | Pet Supplies | Dogs | Training & Behavior Aids | Agility Equipment | Tunnels                                                                        | [{'translation_text': 'zheng 养狗供应 养狗训练和行为辅助敏捷设备'}]                 |\n",
      "| 43 | Toys & Games | Dolls & Accessories | Dolls                                                                                                          | [{'translation_text': 'zheng 玩具游戏'}]                                            |\n",
      "| 44 | Toys & Games | Hobbies | Remote & App Controlled Vehicles & Parts | Remote & App Controlled Vehicle Parts                                           | [{'translation_text': 'zheng 玩具游戏趣味遥控设备和部件'}]                          |\n",
      "| 45 | Toys & Games | Learning & Education                                                                                                                 | [{'translation_text': 'zheng 玩具游戏学习和教育'}]                                  |\n",
      "| 46 | Toys & Games | Kids' Electronics | Electronic Learning Toys                                                                                         | [{'translation_text': 'zheng 玩具和游戏'}]                                          |\n",
      "| 47 | Clothing, Shoes & Jewelry | Novelty & More | Clothing | Novelty | Men | Shirts | T-Shirts                                                           | [{'translation_text': 'zheng 衣服鞋子珠宝新奇之路新奇之路男士衫衫'}]                |\n",
      "| 48 | Toys & Games | Hobbies | Hobby Building Tools & Hardware | Paints                                                                                   | [{'translation_text': 'zheng 玩具和游戏趣味趣味建材工具和硬件涂料'}]                |\n",
      "| 49 | Toys & Games | Arts & Crafts                                                                                                                        | [{'translation_text': 'zheng 玩具和游戏艺术和工艺'}]                                |\n",
      "| 50 | Toys & Games | Games & Accessories | Card Games                                                                                                     | [{'translation_text': 'zheng 玩具游戏游戏及配件'}]                                  |\n",
      "| 51 | Toys & Games | Dress Up & Pretend Play | Pretend Play | Kitchen Toys                                                                                | [{'translation_text': 'zheng 玩具游戏 穿衣服并假装播放假装播放厨房玩具'}]           |\n",
      "| 52 | Toys & Games | Dolls & Accessories | Dolls                                                                                                          | [{'translation_text': 'zheng 玩具游戏'}]                                            |\n",
      "| 53 | Toys & Games | Kids' Electronics | Electronic Learning Toys                                                                                         | [{'translation_text': 'zheng 玩具和游戏'}]                                          |\n",
      "| 54 | Toys & Games | Games & Accessories                                                                                                                  | [{'translation_text': 'zheng 玩具游戏'}]                                            |\n",
      "| 55 | Clothing, Shoes & Jewelry | Men | Accessories | Wallets, Card Cases & Money Organizers | Wallets                                                    | [{'translation_text': 'zheng 衣服鞋子和珠宝 男子配件钱包卡套件和钱包组织者'}]       |\n",
      "| 56 | Toys & Games | Toy Figures & Playsets | Action Figures                                                                                              | [{'translation_text': 'zheng 玩具和游戏玩具图像和剧情动作图像'}]                    |\n",
      "| 57 | Toys & Games | Baby & Toddler Toys                                                                                                                  | [{'translation_text': 'zhys 玩具和游戏宝宝宝宝宝宝宝宝宝'}]                         |\n",
      "| 58 | Toys & Games | Baby & Toddler Toys | Sorting & Stacking Toys                                                                                        | [{'translation_text': 'zheng 玩具和游戏'}]                                          |\n",
      "| 59 | Toys & Games | Collectible Toys | Statues, Bobbleheads & Busts | Statues                                                                            | [{'translation_text': 'zheng 玩具和游戏 收藏玩具'}]                                 |\n",
      "| 60 | Clothing, Shoes & Jewelry | Costumes & Accessories | Women | Wigs                                                                                   | [{'translation_text': 'zheng 衣服鞋子和珠宝'}]                                      |\n",
      "| 61 | Toys & Games | Toy Figures & Playsets | Action Figures                                                                                              | [{'translation_text': 'zheng 玩具和游戏玩具图像和剧情动作图像'}]                    |\n",
      "| 62 | Toys & Games | Toy Figures & Playsets | Action Figures                                                                                              | [{'translation_text': 'zheng 玩具和游戏玩具图像和剧情动作图像'}]                    |\n",
      "| 63 | Toys & Games | Stuffed Animals & Plush Toys | Stuffed Animals & Teddy Bears                                                                         | [{'translation_text': 'zheng 玩具和游戏 色动物'}]                                   |\n",
      "| 64 | Toys & Games | Dolls & Accessories | Dolls                                                                                                          | [{'translation_text': 'zheng 玩具游戏'}]                                            |\n",
      "| 65 | Toys & Games | Dolls & Accessories | Playsets                                                                                                       | [{'translation_text': 'zheng 玩具游戏玩具配件'}]                                    |\n",
      "| 66 | Toys & Games | Stuffed Animals & Plush Toys | Stuffed Animals & Teddy Bears                                                                         | [{'translation_text': 'zheng 玩具和游戏 色动物'}]                                   |\n",
      "| 67 | Toys & Games | Novelty & Gag Toys | Miniatures                                                                                                      | [{'translation_text': 'zheng 玩具游戏小说'}]                                        |\n",
      "| 68 | Toys & Games | Stuffed Animals & Plush Toys | Plush Puppets                                                                                         | [{'translation_text': 'zheng 玩具和游戏'}]                                          |\n",
      "| 69 | Toys & Games | Hobbies | Remote & App Controlled Vehicles & Parts | Remote & App Controlled Vehicle Parts | Wheels & Tires | Tires                  | [{'translation_text': 'zheng 玩具游戏趣味遥控设备和零件'}]                          |\n",
      "| 70 | Home & Kitchen | Home Décor | Kids' Room Décor | Wall Décor                                                                                         | [{'translation_text': 'zheng 家庭和厨房家庭装修儿童房间壁画装修'}]                  |\n",
      "| 71 | Toys & Games | Stuffed Animals & Plush Toys | Plush Figures                                                                                         | [{'translation_text': 'zheng 玩具游戏 色动物'}]                                     |\n",
      "| 72 | Toys & Games | Hobbies | Remote & App Controlled Vehicles & Parts | Remote & App Controlled Vehicle Parts | Power Plant & Driveline Systems | Axles | [{'translation_text': 'zheng 玩具游戏趣味 远程控制车辆和部件'}]                     |\n",
      "| 73 | Sports & Outdoors | Sports & Fitness | Team Sports | Volleyball | Volleyballs | Outdoor Volleyballs                                                 | [{'translation_text': 'zheng 运动和户外运动和健身运动队运动排球排球外排球'}]        |\n",
      "| 74 | Toys & Games | Toy Figures & Playsets | Playsets & Vehicles | Playsets                                                                              | [{'translation_text': 'zheng 玩具图像和播放器播放器播放器播放器播放器'}]            |\n",
      "| 75 | Toys & Games | Arts & Crafts | Clay & Dough                                                                                                         | [{'translation_text': 'zheng 玩具和游戏'}]                                          |\n",
      "| 76 | Toys & Games | Games & Accessories | Board Games                                                                                                    | [{'translation_text': 'zheng 玩具游戏游戏及配件'}]                                  |\n",
      "| 77 | Toys & Games | Stuffed Animals & Plush Toys | Plush Figures                                                                                         | [{'translation_text': 'zheng 玩具游戏 色动物'}]                                     |\n",
      "| 78 | Toys & Games | Games & Accessories | Game Accessories | Standard Game Dice                                                                          | [{'translation_text': 'zheng 玩具和游戏游戏配件游戏配件标准游戏棋牌'}]              |\n",
      "| 79 | Toys & Games | Kids' Electronics                                                                                                                    | [{'translation_text': 'zheng 儿童电子玩具'}]                                        |\n",
      "| 80 | Toys & Games | Dolls & Accessories | Dolls                                                                                                          | [{'translation_text': 'zheng 玩具游戏'}]                                            |\n",
      "| 81 | Sports & Outdoors | Fan Shop | Toys & Game Room | Games                                                                                             | [{'translation_text': 'zheng 运动和户外粉丝店玩具和游戏室游戏'}]                    |\n",
      "| 82 | Toys & Games | Dress Up & Pretend Play | Pretend Play | Kitchen Toys | Play Food                                                                    | [{'translation_text': 'zheng 玩具和游戏 穿衣服并假装播放假装播放厨房玩具播放食物'}] |\n",
      "| 83 | Toys & Games | Party Supplies | Banners                                                                                                             | [{'translation_text': 'zheng 玩具游戏派对用品'}]                                    |\n",
      "| 84 | Toys & Games | Baby & Toddler Toys                                                                                                                  | [{'translation_text': 'zhys 玩具和游戏宝宝宝宝宝宝宝宝宝'}]                         |\n",
      "| 85 | Toys & Games | Hobbies | Trains & Accessories | Train Cars                                                                                          | [{'translation_text': 'zheng 玩具和游戏趣味火车和配件火车汽车'}]                    |\n",
      "| 86 | Toys & Games | Games & Accessories | Card Games | Standard Playing Card Decks                                                                       | [{'translation_text': 'zheng 玩具和游戏游戏配件卡片游戏标准播放卡片'}]              |\n",
      "| 87 | Toys & Games | Stuffed Animals & Plush Toys                                                                                                         | [{'translation_text': 'zheng 玩具游戏'}]                                            |\n",
      "| 88 | Toys & Games | Hobbies | Remote & App Controlled Vehicles & Parts | Remote & App Controlled Vehicle Parts                                           | [{'translation_text': 'zheng 玩具游戏趣味遥控设备和部件'}]                          |\n",
      "| 89 | Toys & Games | Kids' Electronics                                                                                                                    | [{'translation_text': 'zheng 儿童电子玩具'}]                                        |\n",
      "| 90 | Toys & Games | Games & Accessories | Card Games | Standard Playing Card Decks                                                                       | [{'translation_text': 'zheng 玩具和游戏游戏配件卡片游戏标准播放卡片'}]              |\n"
     ]
    }
   ],
   "source": [
    "ecommerce_dataset = pandas.DataFrame(list(zip(en_list, zh_list)), columns=['Category-en', 'Category-zh'])\n",
    "print(ecommerce_dataset.to_markdown())"
   ]
  }
 ],
 "metadata": {
  "kernelspec": {
   "display_name": "Python 3",
   "language": "python",
   "name": "python3"
  },
  "language_info": {
   "codemirror_mode": {
    "name": "ipython",
    "version": 3
   },
   "file_extension": ".py",
   "mimetype": "text/x-python",
   "name": "python",
   "nbconvert_exporter": "python",
   "pygments_lexer": "ipython3",
   "version": "3.11.8"
  }
 },
 "nbformat": 4,
 "nbformat_minor": 2
}
