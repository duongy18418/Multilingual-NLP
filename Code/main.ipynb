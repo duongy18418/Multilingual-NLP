{
 "cells": [
  {
   "cell_type": "markdown",
   "metadata": {},
   "source": [
    "### For this project, we have decide to use a pretrained model NLLB-200 and finetune it to fit our project needs.\n",
    "Model link: https://huggingface.co/facebook/nllb-200-distilled-600M"
   ]
  },
  {
   "cell_type": "code",
   "execution_count": 28,
   "metadata": {},
   "outputs": [],
   "source": [
    "#Import packages\n",
    "from transformers import AutoTokenizer, AutoModelForSeq2SeqLM, TrainingArguments, Trainer, DataCollatorForSeq2Seq, pipeline\n",
    "import numpy\n",
    "import evaluate\n",
    "import pandas\n",
    "from sklearn.model_selection import train_test_split\n",
    "from datasets import load_dataset, Dataset, DatasetDict\n",
    "from datetime import datetime"
   ]
  },
  {
   "cell_type": "code",
   "execution_count": 2,
   "metadata": {},
   "outputs": [],
   "source": [
    "#Load model directly\n",
    "tokenizer = AutoTokenizer.from_pretrained(\"facebook/nllb-200-distilled-600M\", src_lang = 'en', tgt_lang = 'zh')\n",
    "model = AutoModelForSeq2SeqLM.from_pretrained(\"facebook/nllb-200-distilled-600M\")"
   ]
  },
  {
   "cell_type": "markdown",
   "metadata": {},
   "source": [
    "We will be using 2 datasets from Amazon to finetune the NLLB-200 model. The source dataset will be in English and the target dataset will be in Chinese."
   ]
  },
  {
   "cell_type": "code",
   "execution_count": 3,
   "metadata": {},
   "outputs": [
    {
     "data": {
      "text/plain": [
       "DatasetDict({\n",
       "    train: Dataset({\n",
       "        features: ['en', 'zh'],\n",
       "        num_rows: 4070\n",
       "    })\n",
       "    test: Dataset({\n",
       "        features: ['en', 'zh'],\n",
       "        num_rows: 1357\n",
       "    })\n",
       "})"
      ]
     },
     "execution_count": 3,
     "metadata": {},
     "output_type": "execute_result"
    }
   ],
   "source": [
    "#load the source dataset\n",
    "en_data = pandas.read_csv('./Datasets/Train/en-US.csv')\n",
    "zh_data = pandas.read_csv('./Datasets/Train/zh-CN.csv')\n",
    "\n",
    "data = pandas.concat([en_data['Categories'], zh_data['Categories']], axis=1, keys=['en', 'zh'])\n",
    "train_data, test_data = train_test_split(data)\n",
    "\n",
    "dataset = DatasetDict({\n",
    "                        'train': Dataset.from_pandas(train_data),\n",
    "                        'test': Dataset.from_pandas(test_data)\n",
    "                    })\n",
    "dataset = dataset.remove_columns([\"__index_level_0__\"])\n",
    "dataset\n"
   ]
  },
  {
   "cell_type": "markdown",
   "metadata": {},
   "source": [
    "We will be following the tutorials from Hugging Face to use PyTorch Trainer to finetune the pretrained model. https://huggingface.co/docs/transformers/en/training, https://huggingface.co/docs/transformers/tasks/translation"
   ]
  },
  {
   "cell_type": "code",
   "execution_count": 19,
   "metadata": {},
   "outputs": [],
   "source": [
    "def tokenize_function(data):\n",
    "    #return tokenizer(data['en'], data['zh'], truncation=True)\n",
    "    padding = 'max_length'\n",
    "    max_length = 100\n",
    "    sources = [str(d) for d in data['en']]\n",
    "    targets = [str(d) for d in data['zh']]\n",
    "    inputs = tokenizer(sources, max_length=max_length, padding=padding, truncation=True)\n",
    "    label = tokenizer(targets, max_length=max_length, padding=padding, truncation=True)\n",
    "    inputs['labels'] = label['input_ids']\n",
    "    return inputs\n"
   ]
  },
  {
   "cell_type": "code",
   "execution_count": 20,
   "metadata": {},
   "outputs": [
    {
     "data": {
      "application/vnd.jupyter.widget-view+json": {
       "model_id": "919fb2f5d36346b1bfa895280101e655",
       "version_major": 2,
       "version_minor": 0
      },
      "text/plain": [
       "Map:   0%|          | 0/4070 [00:00<?, ? examples/s]"
      ]
     },
     "metadata": {},
     "output_type": "display_data"
    },
    {
     "data": {
      "application/vnd.jupyter.widget-view+json": {
       "model_id": "9b66fe259b8a4978a1b3707baf89d81f",
       "version_major": 2,
       "version_minor": 0
      },
      "text/plain": [
       "Map:   0%|          | 0/1357 [00:00<?, ? examples/s]"
      ]
     },
     "metadata": {},
     "output_type": "display_data"
    },
    {
     "data": {
      "text/plain": [
       "DatasetDict({\n",
       "    train: Dataset({\n",
       "        features: ['en', 'zh', 'input_ids', 'attention_mask', 'labels'],\n",
       "        num_rows: 4070\n",
       "    })\n",
       "    test: Dataset({\n",
       "        features: ['en', 'zh', 'input_ids', 'attention_mask', 'labels'],\n",
       "        num_rows: 1357\n",
       "    })\n",
       "})"
      ]
     },
     "execution_count": 20,
     "metadata": {},
     "output_type": "execute_result"
    }
   ],
   "source": [
    "tokenized_dataset = dataset.map(tokenize_function, batched=True)\n",
    "tokenized_dataset"
   ]
  },
  {
   "cell_type": "code",
   "execution_count": 21,
   "metadata": {},
   "outputs": [],
   "source": [
    "metric = evaluate.load('accuracy')\n",
    "\n",
    "def compute_metrics(eval_pred):\n",
    "    logits, labels = eval_pred\n",
    "    predictions = numpy.argmax(logits, axis=-1)\n",
    "    return metric.compute(predictions=predictions, references=labels)\n",
    "\n",
    "data_collator = DataCollatorForSeq2Seq(tokenizer=tokenizer,model=model)"
   ]
  },
  {
   "cell_type": "code",
   "execution_count": 22,
   "metadata": {},
   "outputs": [],
   "source": [
    "training_args = TrainingArguments(\n",
    "                    output_dir=\"Trained Model\", \n",
    "                    evaluation_strategy=\"epoch\"\n",
    "                    )\n",
    "\n",
    "trainer = Trainer(\n",
    "    model=model,\n",
    "    args=training_args,\n",
    "    train_dataset=tokenized_dataset['train'],\n",
    "    eval_dataset=tokenized_dataset['test'],\n",
    "    data_collator=data_collator,\n",
    "    tokenizer=tokenizer\n",
    ")"
   ]
  },
  {
   "cell_type": "code",
   "execution_count": 23,
   "metadata": {},
   "outputs": [
    {
     "data": {
      "application/vnd.jupyter.widget-view+json": {
       "model_id": "732608987cde4385a6b22c857e5dce64",
       "version_major": 2,
       "version_minor": 0
      },
      "text/plain": [
       "  0%|          | 0/1527 [00:00<?, ?it/s]"
      ]
     },
     "metadata": {},
     "output_type": "display_data"
    },
    {
     "name": "stderr",
     "output_type": "stream",
     "text": [
      "Checkpoint destination directory Trained Model/checkpoint-500 already exists and is non-empty. Saving will proceed but saved results may be invalid.\n",
      "Some non-default generation parameters are set in the model config. These should go into a GenerationConfig file (https://huggingface.co/docs/transformers/generation_strategies#save-a-custom-decoding-strategy-with-your-model) instead. This warning will be raised to an exception in v4.41.\n",
      "Non-default generation parameters: {'max_length': 200}\n"
     ]
    },
    {
     "name": "stdout",
     "output_type": "stream",
     "text": [
      "{'loss': 0.224, 'grad_norm': 0.6391696929931641, 'learning_rate': 3.362802881466929e-05, 'epoch': 0.98}\n"
     ]
    },
    {
     "data": {
      "application/vnd.jupyter.widget-view+json": {
       "model_id": "6b718f1715cd41babdf33368e839f686",
       "version_major": 2,
       "version_minor": 0
      },
      "text/plain": [
       "  0%|          | 0/170 [00:00<?, ?it/s]"
      ]
     },
     "metadata": {},
     "output_type": "display_data"
    },
    {
     "name": "stdout",
     "output_type": "stream",
     "text": [
      "{'eval_loss': 0.2343258112668991, 'eval_runtime': 52.3143, 'eval_samples_per_second': 25.939, 'eval_steps_per_second': 3.25, 'epoch': 1.0}\n"
     ]
    },
    {
     "name": "stderr",
     "output_type": "stream",
     "text": [
      "Checkpoint destination directory Trained Model/checkpoint-1000 already exists and is non-empty. Saving will proceed but saved results may be invalid.\n",
      "Some non-default generation parameters are set in the model config. These should go into a GenerationConfig file (https://huggingface.co/docs/transformers/generation_strategies#save-a-custom-decoding-strategy-with-your-model) instead. This warning will be raised to an exception in v4.41.\n",
      "Non-default generation parameters: {'max_length': 200}\n"
     ]
    },
    {
     "name": "stdout",
     "output_type": "stream",
     "text": [
      "{'loss': 0.1932, 'grad_norm': 0.40780875086784363, 'learning_rate': 1.7256057629338573e-05, 'epoch': 1.96}\n"
     ]
    },
    {
     "data": {
      "application/vnd.jupyter.widget-view+json": {
       "model_id": "f3450c8ba8dc481f96e4c58861c3119e",
       "version_major": 2,
       "version_minor": 0
      },
      "text/plain": [
       "  0%|          | 0/170 [00:00<?, ?it/s]"
      ]
     },
     "metadata": {},
     "output_type": "display_data"
    },
    {
     "name": "stdout",
     "output_type": "stream",
     "text": [
      "{'eval_loss': 0.22028295695781708, 'eval_runtime': 53.2208, 'eval_samples_per_second': 25.498, 'eval_steps_per_second': 3.194, 'epoch': 2.0}\n"
     ]
    },
    {
     "name": "stderr",
     "output_type": "stream",
     "text": [
      "Checkpoint destination directory Trained Model/checkpoint-1500 already exists and is non-empty. Saving will proceed but saved results may be invalid.\n",
      "Some non-default generation parameters are set in the model config. These should go into a GenerationConfig file (https://huggingface.co/docs/transformers/generation_strategies#save-a-custom-decoding-strategy-with-your-model) instead. This warning will be raised to an exception in v4.41.\n",
      "Non-default generation parameters: {'max_length': 200}\n"
     ]
    },
    {
     "name": "stdout",
     "output_type": "stream",
     "text": [
      "{'loss': 0.1909, 'grad_norm': 0.43432778120040894, 'learning_rate': 8.840864440078585e-07, 'epoch': 2.95}\n"
     ]
    },
    {
     "data": {
      "application/vnd.jupyter.widget-view+json": {
       "model_id": "34f7f354fbdc40e8a2cf9a7ebdb4ce29",
       "version_major": 2,
       "version_minor": 0
      },
      "text/plain": [
       "  0%|          | 0/170 [00:00<?, ?it/s]"
      ]
     },
     "metadata": {},
     "output_type": "display_data"
    },
    {
     "name": "stdout",
     "output_type": "stream",
     "text": [
      "{'eval_loss': 0.21806859970092773, 'eval_runtime': 52.4701, 'eval_samples_per_second': 25.862, 'eval_steps_per_second': 3.24, 'epoch': 3.0}\n",
      "{'train_runtime': 3105.3292, 'train_samples_per_second': 3.932, 'train_steps_per_second': 0.492, 'train_loss': 0.20297973766464303, 'epoch': 3.0}\n"
     ]
    },
    {
     "data": {
      "text/plain": [
       "TrainOutput(global_step=1527, training_loss=0.20297973766464303, metrics={'train_runtime': 3105.3292, 'train_samples_per_second': 3.932, 'train_steps_per_second': 0.492, 'train_loss': 0.20297973766464303, 'epoch': 3.0})"
      ]
     },
     "execution_count": 23,
     "metadata": {},
     "output_type": "execute_result"
    }
   ],
   "source": [
    "trainer.train()"
   ]
  },
  {
   "cell_type": "markdown",
   "metadata": {},
   "source": [
    "Once we finished training our model, it is saved to the Trained Model folder. However, due to the size limit of GitHub, the final version of the FineTuned Model is pushed to a Hugging Face repo so that we can easily reference it for further usage."
   ]
  },
  {
   "cell_type": "code",
   "execution_count": 24,
   "metadata": {},
   "outputs": [
    {
     "name": "stderr",
     "output_type": "stream",
     "text": [
      "Some non-default generation parameters are set in the model config. These should go into a GenerationConfig file (https://huggingface.co/docs/transformers/generation_strategies#save-a-custom-decoding-strategy-with-your-model) instead. This warning will be raised to an exception in v4.41.\n",
      "Non-default generation parameters: {'max_length': 200}\n"
     ]
    }
   ],
   "source": [
    "trainer.save_model('./Trained Model/FineTuned Model')"
   ]
  },
  {
   "cell_type": "markdown",
   "metadata": {},
   "source": [
    "The next step is to test our fine tune model to make sure everything is working correctly."
   ]
  },
  {
   "cell_type": "code",
   "execution_count": 25,
   "metadata": {},
   "outputs": [
    {
     "data": {
      "application/vnd.jupyter.widget-view+json": {
       "model_id": "b89c84f82b4643fcbf733f28c0056500",
       "version_major": 2,
       "version_minor": 0
      },
      "text/plain": [
       "config.json:   0%|          | 0.00/896 [00:00<?, ?B/s]"
      ]
     },
     "metadata": {},
     "output_type": "display_data"
    },
    {
     "data": {
      "application/vnd.jupyter.widget-view+json": {
       "model_id": "82fd8991354c4107871e67bc512fc757",
       "version_major": 2,
       "version_minor": 0
      },
      "text/plain": [
       "model.safetensors:   0%|          | 0.00/2.46G [00:00<?, ?B/s]"
      ]
     },
     "metadata": {},
     "output_type": "display_data"
    },
    {
     "data": {
      "application/vnd.jupyter.widget-view+json": {
       "model_id": "73ffc27d929449aca392474515bd9d07",
       "version_major": 2,
       "version_minor": 0
      },
      "text/plain": [
       "generation_config.json:   0%|          | 0.00/184 [00:00<?, ?B/s]"
      ]
     },
     "metadata": {},
     "output_type": "display_data"
    },
    {
     "data": {
      "application/vnd.jupyter.widget-view+json": {
       "model_id": "735083cf34a8475cb5d835f2a9192a6e",
       "version_major": 2,
       "version_minor": 0
      },
      "text/plain": [
       "tokenizer_config.json:   0%|          | 0.00/39.9k [00:00<?, ?B/s]"
      ]
     },
     "metadata": {},
     "output_type": "display_data"
    },
    {
     "data": {
      "application/vnd.jupyter.widget-view+json": {
       "model_id": "f05c4ff23f184e0f83c12167ecb42461",
       "version_major": 2,
       "version_minor": 0
      },
      "text/plain": [
       "tokenizer.json:   0%|          | 0.00/17.3M [00:00<?, ?B/s]"
      ]
     },
     "metadata": {},
     "output_type": "display_data"
    },
    {
     "data": {
      "application/vnd.jupyter.widget-view+json": {
       "model_id": "eb1bffa546e34d2ab0cde7627f3f089d",
       "version_major": 2,
       "version_minor": 0
      },
      "text/plain": [
       "special_tokens_map.json:   0%|          | 0.00/4.23k [00:00<?, ?B/s]"
      ]
     },
     "metadata": {},
     "output_type": "display_data"
    }
   ],
   "source": [
    "translator = pipeline(\"translation\", model=\"duongy18418/E-commerce_Translation_Model\")"
   ]
  },
  {
   "cell_type": "code",
   "execution_count": 26,
   "metadata": {},
   "outputs": [],
   "source": [
    "ecommerce_dataset = pandas.read_csv(\"./Datasets/Test/Amazon_Ecommerce_Data_2020.csv\", usecols=[\"Category\"], nrows=100)\n",
    "ecommerce_dataset = ecommerce_dataset.dropna()\n",
    "en_list = ecommerce_dataset['Category'].tolist()\n",
    "zh_list = []"
   ]
  },
  {
   "cell_type": "code",
   "execution_count": 27,
   "metadata": {},
   "outputs": [],
   "source": [
    "for i in range(len(en_list)):\n",
    "    zh_list.append(translator(en_list[i], src_lang='en', tgt_lang='zh'))"
   ]
  },
  {
   "cell_type": "code",
   "execution_count": 30,
   "metadata": {},
   "outputs": [
    {
     "name": "stdout",
     "output_type": "stream",
     "text": [
      "|    | Category-en                                                                                                                     | Category-zh                                                                                                                     |\n",
      "|---:|:--------------------------------------------------------------------------------------------------------------------------------|:--------------------------------------------------------------------------------------------------------------------------------|\n",
      "|  0 | Sports Outdoors Outdoor Recreation Skates, Skateboards Scooters Skateboarding Standard Skateboards Longboards Longboards        | [{'translation_text': 'zheng/公仔 玩具 玩具车船飞机 玩具车船飞机'}]                                                             |\n",
      "|  1 | Toys Games Learning Education Science Kits Toys                                                                                 | [{'translation_text': 'zheng/公仔 玩具 玩具车船飞机 玩具车船飞机'}]                                                             |\n",
      "|  2 | Toys Games Arts Crafts Craft Kits                                                                                               | [{'translation_text': 'zheng/ 天堂 餐饮/餐饮 厨具/厨房DIY用品 食品/'}]                                                          |\n",
      "|  3 | Toys Games Hobbies Models Model Kits Model Kits Airplane Jet Kits                                                               | [{'translation_text': 'zheng/ 天堂 餐饮 餐具 餐具 餐具 餐具 餐具 餐具 餐具 餐具'}]                                              |\n",
      "|  4 | Toys Games Puzzles Jigsaw Puzzles                                                                                               | [{'translation_text': 'zheng/公仔 玩具 玩具车船飞机 玩具车船飞机'}]                                                             |\n",
      "|  5 | Clothing, Shoes Jewelry Costumes Accessories Kids Baby Girls Costumes                                                           | [{'translation_text': 'zheng 电子产品 电子配件 供电设备 电池 电池'}]                                                            |\n",
      "|  6 | Toys Games Arts Crafts Drawing Painting Supplies Crayons                                                                        | [{'translation_text': 'zheng/公仔 玩具 玩具车船飞机 玩具车船飞机'}]                                                             |\n",
      "|  7 | Home Kitchen Home Decor Window Treatments Window Stickers Films Window Films                                                    | [{'translation_text': 'zheng/公仔 玩具 玩具车船飞机 玩具车船飞机'}]                                                             |\n",
      "|  8 | Toys Games Baby Toddler Toys                                                                                                    | [{'translation_text': 'zheng/公仔 玩具 玩具车船飞机 玩具车船飞机'}]                                                             |\n",
      "|  9 | Toys Games Collectible Toys Statues, Bobbleheads Busts Statues                                                                  | [{'translation_text': 'zheng/公仔 玩具 玩具车船飞机 玩具车船飞机'}]                                                             |\n",
      "| 10 | Baby Products Nursery decor Window Treatments Valances                                                                          | [{'translation_text': 'zheng 办公用品 办公耗材 办公耗材 办公耗材 办公耗材 办公耗材 办公耗材 办公耗材'}]                         |\n",
      "| 11 | Toys Games Building Toys Building Sets                                                                                          | [{'translation_text': 'zheng/公仔 玩具 玩具车船飞机 玩具车船飞机'}]                                                             |\n",
      "| 12 | Toys Games Arts Crafts Craft Kits                                                                                               | [{'translation_text': 'zheng/ 天堂 餐饮/餐饮 厨具/厨房DIY用品 食品/'}]                                                          |\n",
      "| 13 | Toys Games Baby Toddler Toys Musical Toys                                                                                       | [{'translation_text': 'zheng/公仔 玩具 玩具车船飞机 玩具车船飞机'}]                                                             |\n",
      "| 14 | Toys Games Learning Education Flash Cards                                                                                       | [{'translation_text': 'zheng/市政/医疗/服务 医疗/医院专用设备 医用家具 医用家具 医用家具 医用家具 医用家具'}]                   |\n",
      "| 15 | Home Kitchen Furniture Kids' Furniture Tables Chairs Tables                                                                     | [{'translation_text': 'zheng/公仔 玩具 玩具车船飞机 玩具车船飞机'}]                                                             |\n",
      "| 16 | Toys Games Novelty Gag Toys Money Banks                                                                                         | [{'translation_text': 'zheng/公仔 玩具 玩具车船飞机 玩具车船飞机'}]                                                             |\n",
      "| 17 | Toys Games Baby Toddler Toys Musical Toys                                                                                       | [{'translation_text': 'zheng/公仔 玩具 玩具车船飞机 玩具车船飞机'}]                                                             |\n",
      "| 18 | Toys Games Sports Outdoor Play Slumber Bags                                                                                     | [{'translation_text': 'zheng/公仔 玩具 玩具车船飞机 玩具车船飞机'}]                                                             |\n",
      "| 19 | Toys Games Hobbies Hobby Building Tools Hardware RC Linkages                                                                    | [{'translation_text': 'zheng/公仔 玩具 玩具车船飞机 玩具车船飞机'}]                                                             |\n",
      "| 20 | Toys Games Building Toys Building Sets                                                                                          | [{'translation_text': 'zheng/公仔 玩具 玩具车船飞机 玩具车船飞机'}]                                                             |\n",
      "| 21 | Toys Games Party Supplies Party Tableware Plates                                                                                | [{'translation_text': 'zheng/公仔 玩具 玩具车船飞机 玩具车船飞机'}]                                                             |\n",
      "| 22 | Toys Games Baby Toddler Toys Teaching Clocks                                                                                    | [{'translation_text': 'zheng/公仔 玩具 玩具车船飞机 玩具车船飞机'}]                                                             |\n",
      "| 23 | Toys Games Tricycles, Scooters Wagons Balance Bikes                                                                             | [{'translation_text': 'zheng/公仔 玩具 玩具车船飞机 玩具车船飞机'}]                                                             |\n",
      "| 24 | Toys Games Kids' Electronics                                                                                                    | [{'translation_text': 'zh?n? c?e?e?/i?/'}]                                                                                      |\n",
      "| 25 | Home Kitchen Home decor Kids' Room decor                                                                                        | [{'translation_text': 'zheng/公仔 玩具 玩具车船飞机 玩具车船飞机'}]                                                             |\n",
      "| 26 | Baby Products Nursery decor Wall decor Growth Charts                                                                            | [{'translation_text': 'zheng 电子产品 电子配件 供电设备 电池 电池'}]                                                            |\n",
      "| 27 | Toys Games Puzzles Jigsaw Puzzles                                                                                               | [{'translation_text': 'zheng/公仔 玩具 玩具车船飞机 玩具车船飞机'}]                                                             |\n",
      "| 28 | Sports Outdoors Sports Fitness Team Sports                                                                                      | [{'translation_text': 'zheng/ 天堂 交通工具/汽车/飞机/船舶 交通工具零配件 机动车/汽车/摩托车零部件 汽车引擎零件 汽车引擎零件'}] |\n",
      "| 29 | Toys Games Dress Up Pretend Play Costumes                                                                                       | [{'translation_text': 'zheng/公仔 玩具 玩具车船飞机 玩具车船飞机'}]                                                             |\n",
      "| 30 | Home Kitchen Bedding Kids' Bedding Comforters Sets Comforter Sets                                                               | [{'translation_text': 'zheng/公仔 玩具 玩具车船飞机 玩具车船飞机'}]                                                             |\n",
      "| 31 | Toys Games Toy Figures Playsets Action Figures                                                                                  | [{'translation_text': 'zheng/公仔 玩具 玩具车船飞机 玩具车船飞机'}]                                                             |\n",
      "| 32 | Clothing, Shoes Jewelry Costumes Accessories Kids Baby Boys Costumes                                                            | [{'translation_text': 'zheng 电子产品 电子配件 供电设备 电池 电池'}]                                                            |\n",
      "| 33 | Toys Games Play Vehicles                                                                                                        | [{'translation_text': 'zheng/公仔 玩具 玩具车船飞机 玩具车船飞机'}]                                                             |\n",
      "| 34 | Toys Games Novelty Gag Toys                                                                                                     | [{'translation_text': 'zheng/公仔 玩具 玩具车船飞机 玩具车船飞机'}]                                                             |\n",
      "| 35 | Toys Games Party Supplies                                                                                                       | [{'translation_text': 'zheng/公仔 玩具 玩具车船飞机 玩具车船飞机'}]                                                             |\n",
      "| 36 | Toys Games Party Supplies Banners                                                                                               | [{'translation_text': 'zheng/公仔 玩具 玩具车船飞机 玩具车船飞机'}]                                                             |\n",
      "| 37 | Toys Games Dolls Accessories Doll Accessories                                                                                   | [{'translation_text': 'zheng/公仔 玩具 玩具车船飞机 玩具车船飞机'}]                                                             |\n",
      "| 38 | Toys Games Arts Crafts Craft Kits                                                                                               | [{'translation_text': 'zheng/ 天堂 餐饮/餐饮 厨具/厨房DIY用品 食品/'}]                                                          |\n",
      "| 39 | Toys Games Games Accessories                                                                                                    | [{'translation_text': 'zheng/公仔 玩具 玩具车船飞机 玩具车船飞机'}]                                                             |\n",
      "| 40 | Toys Games Hobbies Trains Accessories Train Cars Freight Cars Gondolas                                                          | [{'translation_text': 'zheng/ 天堂 餐饮 餐具 餐具 餐具 餐具 餐具 餐具 餐具'}]                                                   |\n",
      "| 41 | Home Kitchen Bedding Kids' Bedding Blankets Throws Throws                                                                       | [{'translation_text': 'zheng/公仔 玩具 玩具车船飞机 玩具车船飞机'}]                                                             |\n",
      "| 42 | Pet Supplies Dogs Training Behavior Aids Agility Equipment Tunnels                                                              | [{'translation_text': 'zheng/公仔 玩具 玩具车船飞机 玩具车船飞机'}]                                                             |\n",
      "| 43 | Toys Games Dolls Accessories Dolls                                                                                              | [{'translation_text': 'zheng/公仔 玩具 玩具车船飞机 玩具车船飞机'}]                                                             |\n",
      "| 44 | Toys Games Hobbies Remote App Controlled Vehicles Parts Remote App Controlled Vehicle Parts                                     | [{'translation_text': 'zheng/ 天堂 五金/装修 水暖建材 水管装置 淋浴设备 淋浴机'}]                                               |\n",
      "| 45 | Toys Games Learning Education                                                                                                   | [{'translation_text': 'zheng/公仔 玩具 玩具车船飞机 玩具车船飞机'}]                                                             |\n",
      "| 46 | Toys Games Kids' Electronics Electronic Learning Toys                                                                           | [{'translation_text': 'zheng/公仔 玩具 玩具车船飞机 玩具车船飞机'}]                                                             |\n",
      "| 47 | Clothing, Shoes Jewelry Novelty More Clothing Novelty Men Shirts T-Shirts                                                       | [{'translation_text': 'zheng/公仔 玩具 玩具车船飞机 玩具车船飞机'}]                                                             |\n",
      "| 48 | Toys Games Hobbies Hobby Building Tools Hardware Paints                                                                         | [{'translation_text': 'zheng/公仔 玩具 玩具车船飞机 玩具车船飞机'}]                                                             |\n",
      "| 49 | Toys Games Arts Crafts                                                                                                          | [{'translation_text': 'zheng/公仔 玩具 玩具车船飞机 玩具车船飞机'}]                                                             |\n",
      "| 50 | Toys Games Games Accessories Card Games                                                                                         | [{'translation_text': 'zheng/公仔 玩具 玩具车船飞机 玩具车船飞机'}]                                                             |\n",
      "| 51 | Toys Games Dress Up Pretend Play Pretend Play Kitchen Toys                                                                      | [{'translation_text': 'zheng/公/市 公/市 公/市政部件 标签 标签 标签 标签 标签'}]                                                |\n",
      "| 52 | Toys Games Dolls Accessories Dolls                                                                                              | [{'translation_text': 'zheng/公仔 玩具 玩具车船飞机 玩具车船飞机'}]                                                             |\n",
      "| 53 | Toys Games Kids' Electronics Electronic Learning Toys                                                                           | [{'translation_text': 'zheng/公仔 玩具 玩具车船飞机 玩具车船飞机'}]                                                             |\n",
      "| 54 | Toys Games Games Accessories                                                                                                    | [{'translation_text': 'zheng/公仔 玩具 玩具车船飞机 玩具车船飞机'}]                                                             |\n",
      "| 55 | Clothing, Shoes Jewelry Men Accessories Wallets, Card Cases Money Organizers Wallets                                            | [{'translation_text': 'zheng 电子产品 电子配件 供电设备 电池 电池'}]                                                            |\n",
      "| 56 | Toys Games Toy Figures Playsets Action Figures                                                                                  | [{'translation_text': 'zheng/公仔 玩具 玩具车船飞机 玩具车船飞机'}]                                                             |\n",
      "| 57 | Toys Games Baby Toddler Toys                                                                                                    | [{'translation_text': 'zheng/公仔 玩具 玩具车船飞机 玩具车船飞机'}]                                                             |\n",
      "| 58 | Toys Games Baby Toddler Toys Sorting Stacking Toys                                                                              | [{'translation_text': 'zheng/公仔 玩具 玩具车船飞机 玩具车船飞机'}]                                                             |\n",
      "| 59 | Toys Games Collectible Toys Statues, Bobbleheads Busts Statues                                                                  | [{'translation_text': 'zheng/公仔 玩具 玩具车船飞机 玩具车船飞机'}]                                                             |\n",
      "| 60 | Clothing, Shoes Jewelry Costumes Accessories Women Wigs                                                                         | [{'translation_text': 'zheng 电子产品 电子配件 供电设备 电池 电池'}]                                                            |\n",
      "| 61 | Toys Games Toy Figures Playsets Action Figures                                                                                  | [{'translation_text': 'zheng/公仔 玩具 玩具车船飞机 玩具车船飞机'}]                                                             |\n",
      "| 62 | Toys Games Toy Figures Playsets Action Figures                                                                                  | [{'translation_text': 'zheng/公仔 玩具 玩具车船飞机 玩具车船飞机'}]                                                             |\n",
      "| 63 | Toys Games Stuffed Animals Plush Toys Stuffed Animals Teddy Bears                                                               | [{'translation_text': 'zheng/公仔 玩具 玩具车船飞机 玩具车船飞机'}]                                                             |\n",
      "| 64 | Toys Games Dolls Accessories Dolls                                                                                              | [{'translation_text': 'zheng/公仔 玩具 玩具车船飞机 玩具车船飞机'}]                                                             |\n",
      "| 65 | Toys Games Dolls Accessories Playsets                                                                                           | [{'translation_text': 'zheng/公仔 玩具 玩具车船飞机 玩具车船飞机'}]                                                             |\n",
      "| 66 | Toys Games Stuffed Animals Plush Toys Stuffed Animals Teddy Bears                                                               | [{'translation_text': 'zheng/公仔 玩具 玩具车船飞机 玩具车船飞机'}]                                                             |\n",
      "| 67 | Toys Games Novelty Gag Toys Miniatures                                                                                          | [{'translation_text': 'zheng/公仔 玩具 玩具车船飞机 玩具车船飞机'}]                                                             |\n",
      "| 68 | Toys Games Stuffed Animals Plush Toys Plush Puppets                                                                             | [{'translation_text': 'zheng/公仔 玩具 玩具车船飞机 玩具车船飞机'}]                                                             |\n",
      "| 69 | Toys Games Hobbies Remote App Controlled Vehicles Parts Remote App Controlled Vehicle Parts Wheels Tires Tires                  | [{'translation_text': 'zheng/公仔 玩具 玩具车船飞机 玩具车船飞机'}]                                                             |\n",
      "| 70 | Home Kitchen Home decor Kids' Room decor Wall decor                                                                             | [{'translation_text': 'zheng/公仔 玩具 玩具车船飞机 玩具车船飞机'}]                                                             |\n",
      "| 71 | Toys Games Stuffed Animals Plush Toys Plush Figures                                                                             | [{'translation_text': 'zheng/公仔 玩具 玩具车船飞机 玩具车船飞机'}]                                                             |\n",
      "| 72 | Toys Games Hobbies Remote App Controlled Vehicles Parts Remote App Controlled Vehicle Parts Power Plant Driveline Systems Axles | [{'translation_text': 'zheng/ 天堂 五金/装修 水暖建材 水管装置 淋浴设备 淋浴机'}]                                               |\n",
      "| 73 | Sports Outdoors Sports Fitness Team Sports Volleyball Volleyballs Outdoor Volleyballs                                           | [{'translation_text': 'zheng/ 天堂 交通工具/汽车/飞机/船舶 交通工具零配件 机动车/汽车/摩托车零部件 汽车引擎零件 汽车引擎零件'}] |\n",
      "| 74 | Toys Games Toy Figures Playsets Playsets Vehicles Playsets                                                                      | [{'translation_text': 'zheng/公仔 玩具 玩具车船飞机 玩具车船飞机'}]                                                             |\n",
      "| 75 | Toys Games Arts Crafts Clay Dough                                                                                               | [{'translation_text': 'zheng/公仔 玩具 玩具车船飞机 玩具车船飞机'}]                                                             |\n",
      "| 76 | Toys Games Games Accessories Board Games                                                                                        | [{'translation_text': 'zheng/公仔 玩具 玩具车船飞机 玩具车船飞机'}]                                                             |\n",
      "| 77 | Toys Games Stuffed Animals Plush Toys Plush Figures                                                                             | [{'translation_text': 'zheng/公仔 玩具 玩具车船飞机 玩具车船飞机'}]                                                             |\n",
      "| 78 | Toys Games Games Accessories Game Accessories Standard Game Dice                                                                | [{'translation_text': 'zheng/公仔 玩具 玩具车船飞机 玩具车船飞机'}]                                                             |\n",
      "| 79 | Toys Games Kids' Electronics                                                                                                    | [{'translation_text': 'zh?n? c?e?e?/i?/'}]                                                                                      |\n",
      "| 80 | Toys Games Dolls Accessories Dolls                                                                                              | [{'translation_text': 'zheng/公仔 玩具 玩具车船飞机 玩具车船飞机'}]                                                             |\n",
      "| 81 | Sports Outdoors Fan Shop Toys Game Room Games                                                                                   | [{'translation_text': 'zheng/ 天堂 交通工具/汽车/飞机/船舶 交通工具零配件 机动车/汽车/摩托车零部件 汽车引擎零件 汽车引擎零件'}] |\n",
      "| 82 | Toys Games Dress Up Pretend Play Pretend Play Kitchen Toys Play Food                                                            | [{'translation_text': 'zheng/公/市 公/市 公/市政部件 标签 标签 标签 标签'}]                                                     |\n",
      "| 83 | Toys Games Party Supplies Banners                                                                                               | [{'translation_text': 'zheng/公仔 玩具 玩具车船飞机 玩具车船飞机'}]                                                             |\n",
      "| 84 | Toys Games Baby Toddler Toys                                                                                                    | [{'translation_text': 'zheng/公仔 玩具 玩具车船飞机 玩具车船飞机'}]                                                             |\n",
      "| 85 | Toys Games Hobbies Trains Accessories Train Cars                                                                                | [{'translation_text': 'zheng/公仔 玩具 玩具车船飞机 玩具车船飞机'}]                                                             |\n",
      "| 86 | Toys Games Games Accessories Card Games Standard Playing Card Decks                                                             | [{'translation_text': 'zheng/公仔 玩具 玩具车船飞机 玩具车船飞机'}]                                                             |\n",
      "| 87 | Toys Games Stuffed Animals Plush Toys                                                                                           | [{'translation_text': 'zheng/公仔 玩具 玩具车船飞机 玩具车船飞机'}]                                                             |\n",
      "| 88 | Toys Games Hobbies Remote App Controlled Vehicles Parts Remote App Controlled Vehicle Parts                                     | [{'translation_text': 'zheng/ 天堂 五金/装修 水暖建材 水管装置 淋浴设备 淋浴机'}]                                               |\n",
      "| 89 | Toys Games Kids' Electronics                                                                                                    | [{'translation_text': 'zh?n? c?e?e?/i?/'}]                                                                                      |\n",
      "| 90 | Toys Games Games Accessories Card Games Standard Playing Card Decks                                                             | [{'translation_text': 'zheng/公仔 玩具 玩具车船飞机 玩具车船飞机'}]                                                             |\n",
      "| 91 | Toys Games Hobbies Remote App Controlled Vehicles Parts Remote App Controlled Vehicles Quadcopters Multirotors                  | [{'translation_text': 'zheng/公仔 玩具 玩具车船飞机 玩具车船飞机'}]                                                             |\n",
      "| 92 | Arts, Crafts Sewing Crafting Paper Paper Crafts Paper Craft Tools                                                               | [{'translation_text': 'zheng/公仔 玩具 玩具车船飞机 玩具车船飞机'}]                                                             |\n",
      "| 93 | Toys Games Building Toys                                                                                                        | [{'translation_text': 'zheng/公仔 玩具 玩具车船飞机 玩具车船飞机'}]                                                             |\n",
      "| 94 | Toys Games Party Supplies                                                                                                       | [{'translation_text': 'zheng/公仔 玩具 玩具车船飞机 玩具车船飞机'}]                                                             |\n",
      "| 95 | Clothing, Shoes Jewelry Costumes Accessories Kids Baby Girls Costumes                                                           | [{'translation_text': 'zheng 电子产品 电子配件 供电设备 电池 电池'}]                                                            |\n",
      "| 96 | Toys Games Learning Education Science Kits Toys                                                                                 | [{'translation_text': 'zheng/公仔 玩具 玩具车船飞机 玩具车船飞机'}]                                                             |\n",
      "| 97 | Toys Games Dolls Accessories Dolls                                                                                              | [{'translation_text': 'zheng/公仔 玩具 玩具车船飞机 玩具车船飞机'}]                                                             |\n",
      "| 98 | Toys Games Sports Outdoor Play Play Sets Playground Equipment                                                                   | [{'translation_text': 'zheng/公仔 玩具 玩具车船飞机 玩具车船飞机'}]                                                             |\n",
      "| 99 | Toys Games Stuffed Animals Plush Toys Plush Pillows                                                                             | [{'translation_text': 'zheng/公仔 玩具 玩具车船飞机 玩具车船飞机'}]                                                             |\n"
     ]
    }
   ],
   "source": [
    "ecommerce_dataset = pandas.DataFrame(list(zip(en_list, zh_list)), columns=['Category-en', 'Category-zh'])\n",
    "print(ecommerce_dataset.to_markdown())"
   ]
  },
  {
   "cell_type": "code",
   "execution_count": 32,
   "metadata": {},
   "outputs": [],
   "source": [
    "currentDateTime = datetime.now().strftime(\"%m-%d-%Y %H-%M-%S %p\")\n",
    "ecommerce_dataset.to_csv(f'./Results/result {currentDateTime}.csv', index=False)"
   ]
  },
  {
   "cell_type": "code",
   "execution_count": null,
   "metadata": {},
   "outputs": [],
   "source": []
  }
 ],
 "metadata": {
  "kernelspec": {
   "display_name": "Python 3",
   "language": "python",
   "name": "python3"
  },
  "language_info": {
   "codemirror_mode": {
    "name": "ipython",
    "version": 3
   },
   "file_extension": ".py",
   "mimetype": "text/x-python",
   "name": "python",
   "nbconvert_exporter": "python",
   "pygments_lexer": "ipython3",
   "version": "3.11.8"
  }
 },
 "nbformat": 4,
 "nbformat_minor": 2
}
