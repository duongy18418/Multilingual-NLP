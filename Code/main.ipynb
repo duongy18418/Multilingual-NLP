{
 "cells": [
  {
   "cell_type": "markdown",
   "metadata": {},
   "source": [
    "### For this project, we have decide to use a pretrained model NLLB-200 and finetune it to fit our project needs.\n",
    "Model link: https://huggingface.co/facebook/nllb-200-distilled-600M"
   ]
  },
  {
   "cell_type": "code",
   "execution_count": 2,
   "metadata": {},
   "outputs": [],
   "source": [
    "#Import packages\n",
    "from transformers import AutoTokenizer, AutoModelForSeq2SeqLM, TrainingArguments, Trainer, DataCollatorForSeq2Seq, pipeline\n",
    "import numpy\n",
    "import evaluate\n",
    "import pandas\n",
    "from sklearn.model_selection import train_test_split\n",
    "from datasets import load_dataset, Dataset, DatasetDict\n",
    "from datetime import datetime"
   ]
  },
  {
   "cell_type": "code",
   "execution_count": 3,
   "metadata": {},
   "outputs": [],
   "source": [
    "#Load model directly\n",
    "tokenizer = AutoTokenizer.from_pretrained(\"facebook/nllb-200-distilled-600M\", src_lang = 'en', tgt_lang = 'zh')\n",
    "model = AutoModelForSeq2SeqLM.from_pretrained(\"facebook/nllb-200-distilled-600M\")"
   ]
  },
  {
   "cell_type": "markdown",
   "metadata": {},
   "source": [
    "We will be using 2 datasets from Amazon to finetune the NLLB-200 model. The source dataset will be in English and the target dataset will be in Chinese."
   ]
  },
  {
   "cell_type": "code",
   "execution_count": 4,
   "metadata": {},
   "outputs": [
    {
     "data": {
      "text/plain": [
       "DatasetDict({\n",
       "    train: Dataset({\n",
       "        features: ['en', 'zh'],\n",
       "        num_rows: 4070\n",
       "    })\n",
       "    test: Dataset({\n",
       "        features: ['en', 'zh'],\n",
       "        num_rows: 1357\n",
       "    })\n",
       "})"
      ]
     },
     "execution_count": 4,
     "metadata": {},
     "output_type": "execute_result"
    }
   ],
   "source": [
    "#load the source dataset\n",
    "en_data = pandas.read_csv('./Datasets/Train/en-US.csv')\n",
    "zh_data = pandas.read_csv('./Datasets/Train/zh-CN.csv')\n",
    "\n",
    "data = pandas.concat([en_data['Categories'], zh_data['Categories']], axis=1, keys=['en', 'zh'])\n",
    "train_data, test_data = train_test_split(data)\n",
    "\n",
    "dataset = DatasetDict({\n",
    "                        'train': Dataset.from_pandas(train_data),\n",
    "                        'test': Dataset.from_pandas(test_data)\n",
    "                    })\n",
    "dataset = dataset.remove_columns([\"__index_level_0__\"])\n",
    "dataset"
   ]
  },
  {
   "cell_type": "markdown",
   "metadata": {},
   "source": [
    "We will be following the tutorials from Hugging Face to use PyTorch Trainer to finetune the pretrained model. https://huggingface.co/docs/transformers/en/training, https://huggingface.co/docs/transformers/tasks/translation"
   ]
  },
  {
   "cell_type": "code",
   "execution_count": 5,
   "metadata": {},
   "outputs": [],
   "source": [
    "def tokenize_function(data):\n",
    "    #return tokenizer(data['en'], data['zh'], truncation=True)\n",
    "    padding = 'max_length'\n",
    "    max_length = 300\n",
    "    sources = [str(d) for d in data['en']]\n",
    "    targets = [str(d) for d in data['zh']]\n",
    "    inputs = tokenizer(sources, max_length=max_length, padding=padding, truncation=True)\n",
    "    label = tokenizer(targets, max_length=max_length, padding=padding, truncation=True)\n",
    "    inputs['labels'] = label['input_ids']\n",
    "    return inputs"
   ]
  },
  {
   "cell_type": "code",
   "execution_count": 6,
   "metadata": {},
   "outputs": [
    {
     "data": {
      "application/vnd.jupyter.widget-view+json": {
       "model_id": "e946453dc9f14946bead7bf69302c9e9",
       "version_major": 2,
       "version_minor": 0
      },
      "text/plain": [
       "Map:   0%|          | 0/4070 [00:00<?, ? examples/s]"
      ]
     },
     "metadata": {},
     "output_type": "display_data"
    },
    {
     "data": {
      "application/vnd.jupyter.widget-view+json": {
       "model_id": "18b1e60d9af64e74856e79079e32b6e7",
       "version_major": 2,
       "version_minor": 0
      },
      "text/plain": [
       "Map:   0%|          | 0/1357 [00:00<?, ? examples/s]"
      ]
     },
     "metadata": {},
     "output_type": "display_data"
    },
    {
     "data": {
      "text/plain": [
       "DatasetDict({\n",
       "    train: Dataset({\n",
       "        features: ['en', 'zh', 'input_ids', 'attention_mask', 'labels'],\n",
       "        num_rows: 4070\n",
       "    })\n",
       "    test: Dataset({\n",
       "        features: ['en', 'zh', 'input_ids', 'attention_mask', 'labels'],\n",
       "        num_rows: 1357\n",
       "    })\n",
       "})"
      ]
     },
     "execution_count": 6,
     "metadata": {},
     "output_type": "execute_result"
    }
   ],
   "source": [
    "tokenized_dataset = dataset.map(tokenize_function, batched=True)\n",
    "tokenized_dataset"
   ]
  },
  {
   "cell_type": "code",
   "execution_count": 13,
   "metadata": {},
   "outputs": [],
   "source": [
    "metric = evaluate.load('accuracy')\n",
    "\n",
    "def compute_metrics(eval_pred):\n",
    "    logits, labels = eval_pred\n",
    "    predictions = numpy.argmax(logits, axis=-1)\n",
    "    return metric.compute(predictions=predictions, references=labels)\n",
    "\n",
    "data_collator = DataCollatorForSeq2Seq(tokenizer=tokenizer,model=model)"
   ]
  },
  {
   "cell_type": "code",
   "execution_count": 14,
   "metadata": {},
   "outputs": [],
   "source": [
    "training_args = TrainingArguments(\n",
    "                    output_dir=\"Trained Model\", \n",
    "                    evaluation_strategy=\"epoch\"\n",
    "                    )\n",
    "\n",
    "trainer = Trainer(\n",
    "    model=model,\n",
    "    args=training_args,\n",
    "    train_dataset=tokenized_dataset['train'],\n",
    "    eval_dataset=tokenized_dataset['test'],\n",
    "    data_collator=data_collator,\n",
    "    tokenizer=tokenizer\n",
    ")"
   ]
  },
  {
   "cell_type": "code",
   "execution_count": 15,
   "metadata": {},
   "outputs": [
    {
     "name": "stderr",
     "output_type": "stream",
     "text": [
      " 33%|███▎      | 500/1527 [2:20:37<4:45:40, 16.69s/it]Some non-default generation parameters are set in the model config. These should go into a GenerationConfig file (https://huggingface.co/docs/transformers/generation_strategies#save-a-custom-decoding-strategy-with-your-model) instead. This warning will be raised to an exception in v4.41.\n",
      "Non-default generation parameters: {'max_length': 200}\n"
     ]
    },
    {
     "name": "stdout",
     "output_type": "stream",
     "text": [
      "{'loss': 2.4492, 'learning_rate': 3.362802881466929e-05, 'epoch': 0.98}\n"
     ]
    },
    {
     "name": "stderr",
     "output_type": "stream",
     "text": [
      "                                                      \n",
      " 33%|███▎      | 509/1527 [2:38:37<4:28:27, 15.82s/it]"
     ]
    },
    {
     "name": "stdout",
     "output_type": "stream",
     "text": [
      "{'eval_loss': 0.10732854902744293, 'eval_runtime': 927.1849, 'eval_samples_per_second': 1.464, 'eval_steps_per_second': 0.183, 'epoch': 1.0}\n"
     ]
    },
    {
     "name": "stderr",
     "output_type": "stream",
     "text": [
      " 65%|██████▌   | 1000/1527 [4:55:54<2:27:24, 16.78s/it] Some non-default generation parameters are set in the model config. These should go into a GenerationConfig file (https://huggingface.co/docs/transformers/generation_strategies#save-a-custom-decoding-strategy-with-your-model) instead. This warning will be raised to an exception in v4.41.\n",
      "Non-default generation parameters: {'max_length': 200}\n"
     ]
    },
    {
     "name": "stdout",
     "output_type": "stream",
     "text": [
      "{'loss': 0.099, 'learning_rate': 1.7256057629338573e-05, 'epoch': 1.96}\n"
     ]
    },
    {
     "name": "stderr",
     "output_type": "stream",
     "text": [
      "                                                       \n",
      " 67%|██████▋   | 1018/1527 [5:16:25<2:13:51, 15.78s/it]"
     ]
    },
    {
     "name": "stdout",
     "output_type": "stream",
     "text": [
      "{'eval_loss': 0.08964341878890991, 'eval_runtime': 926.6748, 'eval_samples_per_second': 1.464, 'eval_steps_per_second': 0.183, 'epoch': 2.0}\n"
     ]
    },
    {
     "name": "stderr",
     "output_type": "stream",
     "text": [
      " 98%|█████████▊| 1500/1527 [7:31:12<07:32, 16.76s/it]    Some non-default generation parameters are set in the model config. These should go into a GenerationConfig file (https://huggingface.co/docs/transformers/generation_strategies#save-a-custom-decoding-strategy-with-your-model) instead. This warning will be raised to an exception in v4.41.\n",
      "Non-default generation parameters: {'max_length': 200}\n"
     ]
    },
    {
     "name": "stdout",
     "output_type": "stream",
     "text": [
      "{'loss': 0.0862, 'learning_rate': 8.840864440078585e-07, 'epoch': 2.95}\n"
     ]
    },
    {
     "name": "stderr",
     "output_type": "stream",
     "text": [
      "                                                     \n",
      "100%|██████████| 1527/1527 [7:54:16<00:00, 18.64s/it]\n",
      "Some non-default generation parameters are set in the model config. These should go into a GenerationConfig file (https://huggingface.co/docs/transformers/generation_strategies#save-a-custom-decoding-strategy-with-your-model) instead. This warning will be raised to an exception in v4.41.\n",
      "Non-default generation parameters: {'max_length': 200}\n"
     ]
    },
    {
     "name": "stdout",
     "output_type": "stream",
     "text": [
      "{'eval_loss': 0.08631503582000732, 'eval_runtime': 928.7818, 'eval_samples_per_second': 1.461, 'eval_steps_per_second': 0.183, 'epoch': 3.0}\n",
      "{'train_runtime': 28456.2952, 'train_samples_per_second': 0.429, 'train_steps_per_second': 0.054, 'train_loss': 0.8641671183535533, 'epoch': 3.0}\n"
     ]
    }
   ],
   "source": [
    "trainer.train()"
   ]
  },
  {
   "cell_type": "markdown",
   "metadata": {},
   "source": [
    "Once we finished training our model, it is saved to the Trained Model folder. However, due to the size limit of GitHub, the final version of the FineTuned Model is pushed to a Hugging Face repo so that we can easily reference it for further usage."
   ]
  },
  {
   "cell_type": "code",
   "execution_count": 24,
   "metadata": {},
   "outputs": [
    {
     "name": "stderr",
     "output_type": "stream",
     "text": [
      "Some non-default generation parameters are set in the model config. These should go into a GenerationConfig file (https://huggingface.co/docs/transformers/generation_strategies#save-a-custom-decoding-strategy-with-your-model) instead. This warning will be raised to an exception in v4.41.\n",
      "Non-default generation parameters: {'max_length': 200}\n"
     ]
    }
   ],
   "source": [
    "trainer.save_model('./Trained Model/FineTuned Model')"
   ]
  },
  {
   "cell_type": "markdown",
   "metadata": {},
   "source": [
    "The next step is to test our fine tune model to make sure everything is working correctly."
   ]
  },
  {
   "cell_type": "code",
   "execution_count": 9,
   "metadata": {},
   "outputs": [],
   "source": [
    "translator = pipeline(\"text2text-generation\", model=\"duongy18418/E-commerce_Translation_Model\")"
   ]
  },
  {
   "cell_type": "code",
   "execution_count": 11,
   "metadata": {},
   "outputs": [],
   "source": [
    "ecommerce_dataset = pandas.read_csv(\"./Datasets/Test/Amazon_Ecommerce_Data_2020.csv\", usecols=[\"Category\"], nrows=100)\n",
    "ecommerce_dataset = ecommerce_dataset.dropna()\n",
    "en_list = ecommerce_dataset['Category'].tolist()\n",
    "zh_list = []\n",
    "\n",
    "for i in range(len(en_list)):\n",
    "    zh_list.append(translator(en_list[i]))"
   ]
  },
  {
   "cell_type": "code",
   "execution_count": 12,
   "metadata": {},
   "outputs": [
    {
     "name": "stdout",
     "output_type": "stream",
     "text": [
      "|    | Category-en                                                                                                                     | Category-zh                                                                                                                                                                                                                                                                                                                                                                                                                                                       |\n",
      "|---:|:--------------------------------------------------------------------------------------------------------------------------------|:------------------------------------------------------------------------------------------------------------------------------------------------------------------------------------------------------------------------------------------------------------------------------------------------------------------------------------------------------------------------------------------------------------------------------------------------------------------|\n",
      "|  0 | Sports Outdoors Outdoor Recreation Skates, Skateboards Scooters Skateboarding Standard Skateboards Longboards Longboards        | [{'generated_text': 'en 电子产品 计算机/电脑 电脑组件 存储设备 存储设备 存储设备 存储设备 存储设备 存储设备 存储设备 存储设备 存储设备 存储设备 存储设备 存储设备 存储器'}]                                                                                                                                                                                                                                                                                       |\n",
      "|  1 | Toys Games Learning Education Science Kits Toys                                                                                 | [{'generated_text': 'en 电子产品 计算机/电脑 电脑组件 存储设备 存储设备 存储设备 存储设备 存储设备 存储设备 存储设备 存储设备 存储设备 存储设备 存储设备 存储设备 存储设备 存储设备 存储设备 存储设备 存储存储存器'}]                                                                                                                                                                                                                                             |\n",
      "|  2 | Toys Games Arts Crafts Craft Kits                                                                                               | [{'generated_text': 'en 电子产品 计算机/电脑 电脑组件 存储设备 存储设备 存储设备 存储设备 存储设备 存储设备 存储设备 存储设备 存储设备 存储设备 存储设备 存储设备 存储设备 存储设备 存储设备 存储设备 存储存储存器'}]                                                                                                                                                                                                                                             |\n",
      "|  3 | Toys Games Hobbies Models Model Kits Model Kits Airplane Jet Kits                                                               | [{'generated_text': 'en 电子产品 计算机/电脑 电脑组件 存储设备 存储设备 存储设备 存储设备'}]                                                                                                                                                                                                                                                                                                                                                                      |\n",
      "|  4 | Toys Games Puzzles Jigsaw Puzzles                                                                                               | [{'generated_text': 'en 电子产品 计算机/电脑 电脑组件 存储设备 存储设备 存储设备 存储设备 存储设备 存储设备 存储设备 存储设备 存储设备 存储设备 存储设备 存储设备 存储设备 存储设备 存储设备 存储设备 存储存储存器'}]                                                                                                                                                                                                                                             |\n",
      "|  5 | Clothing, Shoes Jewelry Costumes Accessories Kids Baby Girls Costumes                                                           | [{'generated_text': 'en 电子产品 计算机/电脑 电脑组件 存储设备 存储设备 存储设备 存储设备 存储设备 存储设备 存储设备 存储设备 存储设备 存储设备 存储设备 存储设备 存储设备 存储设备 存储设备 存储设备 存储设备 存储存储设备 存储存储设备 存储设备 存储存储设备 存储存储设备 存储存储设备 存储存储设备 存储存储设备 存储存储存储存储存储存储存储存储存储存储存储存储存储存储存储存储存储存储存储存储存储存储存储存储存储存储存储存储存储存储存储存储存储存储存'}]  |\n",
      "|  6 | Toys Games Arts Crafts Drawing Painting Supplies Crayons                                                                        | [{'generated_text': 'en 电子产品 计算机/电脑 电脑组件 存储设备 存储设备 存储设备 存储设备 存储设备 存储设备 存储设备 存储设备 存储设备 存储设备 存储设备 存储设备 存储设备 存储设备 存储设备 存储设备 存储存储存器'}]                                                                                                                                                                                                                                             |\n",
      "|  7 | Home Kitchen Home Decor Window Treatments Window Stickers Films Window Films                                                    | [{'generated_text': 'en 电子产品 计算机/电脑 电脑组件 存储设备 存储设备 存储设备 存储设备 存储设备 存储设备 存储设备 存储设备 存储设备 存储设备 存储设备 存储设备 存储设备 存储设备 存储设备 存储设备 存储存储存器'}]                                                                                                                                                                                                                                             |\n",
      "|  8 | Toys Games Baby Toddler Toys                                                                                                    | [{'generated_text': 'en 五金/装修 工具 刀/刀 刀/刀'}]                                                                                                                                                                                                                                                                                                                                                                                                             |\n",
      "|  9 | Toys Games Collectible Toys Statues, Bobbleheads Busts Statues                                                                  | [{'generated_text': 'en 电子产品 计算机/电脑 电脑组件 存储设备 存储设备 存储设备 存储设备 存储设备 存储设备 存储设备 存储设备 存储设备 存储设备 存储设备 存储设备 存储设备 存储设备 存储设备 存储设备 存储存储设备 存储设备 存储存储设备 存储存储设备 存储存储设备 存储存储设备 存储存储设备 存储存储设备 存储存储设备 存储存储设备 存储存储存储存储存储存储存储存储存储存储存储存储存储存储存储存储存储存储存储存储存储存储存储存储存储存储存储存储存储存储存'}] |\n",
      "| 10 | Baby Products Nursery decor Window Treatments Valances                                                                          | [{'generated_text': 'en 五金/装修 工具 刀/刀'}]                                                                                                                                                                                                                                                                                                                                                                                                                   |\n",
      "| 11 | Toys Games Building Toys Building Sets                                                                                          | [{'generated_text': 'en 电子产品 计算机/电脑 电脑组件 存储设备 存储设备 存储设备 存储设备 存储设备 存储设备 存储设备 存储设备 存储设备 存储设备 存储设备 存储设备 存储设备 存储设备 存储设备 存储设备 存储存储存器'}]                                                                                                                                                                                                                                             |\n",
      "| 12 | Toys Games Arts Crafts Craft Kits                                                                                               | [{'generated_text': 'en 电子产品 计算机/电脑 电脑组件 存储设备 存储设备 存储设备 存储设备 存储设备 存储设备 存储设备 存储设备 存储设备 存储设备 存储设备 存储设备 存储设备 存储设备 存储设备 存储设备 存储存储存器'}]                                                                                                                                                                                                                                             |\n",
      "| 13 | Toys Games Baby Toddler Toys Musical Toys                                                                                       | [{'generated_text': 'en 电子产品 计算机/电脑 电脑组件 存储设备 存储设备 存储设备 存储设备 存储设备 存储设备 存储设备 存储设备 存储设备 存储设备 存储设备 存储设备 存储设备 存储设备 存储设备 存储设备 存储存储存器'}]                                                                                                                                                                                                                                             |\n",
      "| 14 | Toys Games Learning Education Flash Cards                                                                                       | [{'generated_text': 'en 电子产品 计算机/电脑 电脑组件 存储设备 存储设备 存储设备 存储设备 存储设备 存储设备 存储设备 存储设备 存储设备 存储设备 存储设备 存储设备 存储设备 存储设备 存储设备 存储设备 存储存储存器'}]                                                                                                                                                                                                                                             |\n",
      "| 15 | Home Kitchen Furniture Kids' Furniture Tables Chairs Tables                                                                     | [{'generated_text': 'en 电子产品 计算机/电脑 电脑组件 存储设备 存储设备 存储设备 存储设备 存储设备 存储设备 存储设备 存储设备 存储设备 存储设备 存储设备 存储设备 存储设备 存储设备 存储设备 存储设备 存储存储存器'}]                                                                                                                                                                                                                                             |\n",
      "| 16 | Toys Games Novelty Gag Toys Money Banks                                                                                         | [{'generated_text': 'en 电子产品 计算机/电脑 电脑组件 存储设备 存储设备 存储设备 存储设备 存储设备 存储设备 存储设备 存储设备 存储设备 存储设备 存储设备 存储设备 存储设备 存储设备 存储设备 存储设备 存储存储存器'}]                                                                                                                                                                                                                                             |\n",
      "| 17 | Toys Games Baby Toddler Toys Musical Toys                                                                                       | [{'generated_text': 'en 电子产品 计算机/电脑 电脑组件 存储设备 存储设备 存储设备 存储设备 存储设备 存储设备 存储设备 存储设备 存储设备 存储设备 存储设备 存储设备 存储设备 存储设备 存储设备 存储设备 存储存储存器'}]                                                                                                                                                                                                                                             |\n",
      "| 18 | Toys Games Sports Outdoor Play Slumber Bags                                                                                     | [{'generated_text': 'en 电子产品 计算机/电脑 电脑组件 存储设备 存储设备 存储设备 存储设备 存储设备 存储设备 存储设备 存储设备 存储设备 存储设备 存储设备 存储设备 存储设备 存储设备 存储设备 存储设备 存储存储存器'}]                                                                                                                                                                                                                                             |\n",
      "| 19 | Toys Games Hobbies Hobby Building Tools Hardware RC Linkages                                                                    | [{'generated_text': 'en 电子产品 计算机/电脑 电脑组件 存储设备 存储设备 存储设备 存储设备'}]                                                                                                                                                                                                                                                                                                                                                                      |\n",
      "| 20 | Toys Games Building Toys Building Sets                                                                                          | [{'generated_text': 'en 电子产品 计算机/电脑 电脑组件 存储设备 存储设备 存储设备 存储设备 存储设备 存储设备 存储设备 存储设备 存储设备 存储设备 存储设备 存储设备 存储设备 存储设备 存储设备 存储设备 存储存储存器'}]                                                                                                                                                                                                                                             |\n",
      "| 21 | Toys Games Party Supplies Party Tableware Plates                                                                                | [{'generated_text': 'en 电子产品 计算机/电脑 电脑组件 存储设备 存储设备 存储设备 存储设备 存储设备 存储设备 存储设备 存储设备 存储设备 存储设备 存储设备 存储设备 存储设备 存储设备 存储设备 存储设备 存储存储存器'}]                                                                                                                                                                                                                                             |\n",
      "| 22 | Toys Games Baby Toddler Toys Teaching Clocks                                                                                    | [{'generated_text': 'en 电子产品 计算机/电脑 电脑组件 存储设备 存储设备 存储设备 存储设备 存储设备 存储设备 存储设备 存储设备 存储设备 存储设备 存储设备 存储设备 存储设备 存储设备 存储设备 存储设备 存储存储存器'}]                                                                                                                                                                                                                                             |\n",
      "| 23 | Toys Games Tricycles, Scooters Wagons Balance Bikes                                                                             | [{'generated_text': 'en 电子产品 计算机/电脑 电脑组件 存储设备 存储设备 存储设备 存储设备 存储设备 存储设备 存储设备 存储设备 存储设备 存储设备 存储设备 存储设备 存储设备 存储设备 存储设备 存储设备 存储存储存器'}]                                                                                                                                                                                                                                             |\n",
      "| 24 | Toys Games Kids' Electronics                                                                                                    | [{'generated_text': 'en 电子产品 计算机/电脑 电脑组件 存储设备 存储设备 存储设备 存储设备 存储设备 存储设备 存储设备 存储设备 存储设备 存储设备 存储设备 存储设备 存储设备 存储设备 存储设备 存储设备 存储存储存器'}]                                                                                                                                                                                                                                             |\n",
      "| 25 | Home Kitchen Home decor Kids' Room decor                                                                                        | [{'generated_text': 'en 五金/装修 工具 工具 刀/刀'}]                                                                                                                                                                                                                                                                                                                                                                                                              |\n",
      "| 26 | Baby Products Nursery decor Wall decor Growth Charts                                                                            | [{'generated_text': 'en 五金/装修 工具 刀/刀 刀/刀'}]                                                                                                                                                                                                                                                                                                                                                                                                             |\n",
      "| 27 | Toys Games Puzzles Jigsaw Puzzles                                                                                               | [{'generated_text': 'en 电子产品 计算机/电脑 电脑组件 存储设备 存储设备 存储设备 存储设备 存储设备 存储设备 存储设备 存储设备 存储设备 存储设备 存储设备 存储设备 存储设备 存储设备 存储设备 存储设备 存储存储存器'}]                                                                                                                                                                                                                                             |\n",
      "| 28 | Sports Outdoors Sports Fitness Team Sports                                                                                      | [{'generated_text': 'en 电子产品 计算机/电脑 电脑组件 存储设备 存储设备 存储设备 存储设备 存储设备 存储设备 存储设备 存储设备 存储设备 存储设备 存储设备 存储设备 存储设备 存储设备 存储设备 存储设备 存储存储存器'}]                                                                                                                                                                                                                                             |\n",
      "| 29 | Toys Games Dress Up Pretend Play Costumes                                                                                       | [{'generated_text': 'en 电子产品 计算机/电脑 电脑组件 存储设备 存储设备 存储设备 存储设备 存储设备 存储设备 存储设备 存储设备 存储设备 存储设备 存储设备 存储设备 存储设备 存储设备 存储设备 存储设备 存储存储存器'}]                                                                                                                                                                                                                                             |\n",
      "| 30 | Home Kitchen Bedding Kids' Bedding Comforters Sets Comforter Sets                                                               | [{'generated_text': 'en 五金/装修 工具 刀/刀'}]                                                                                                                                                                                                                                                                                                                                                                                                                   |\n",
      "| 31 | Toys Games Toy Figures Playsets Action Figures                                                                                  | [{'generated_text': 'en 电子产品 计算机/电脑 电脑组件 存储设备 存储设备 存储设备 存储设备 存储设备 存储设备 存储设备 存储设备 存储设备 存储设备 存储设备 存储设备 存储设备 存储设备 存储设备 存储设备 存储存储存器'}]                                                                                                                                                                                                                                             |\n",
      "| 32 | Clothing, Shoes Jewelry Costumes Accessories Kids Baby Boys Costumes                                                            | [{'generated_text': 'en 电子产品 计算机/电脑 电脑组件 存储设备 存储设备 存储设备 存储设备 存储设备 存储设备 存储设备 存储设备 存储设备 存储设备 存储设备 存储设备 存储设备 存储设备 存储设备 存储设备 存储设备 存储存储设备 存储存储设备 存储设备 存储存储设备 存储存储设备 存储存储设备 存储存储设备 存储存储设备 存储存储存储存储存储存储存储存储存储存储存储存储存储存储存储存储存储存储存储存储存储存储存储存储存储存储存储存储存储存储存储存储存储存储存'}]  |\n",
      "| 33 | Toys Games Play Vehicles                                                                                                        | [{'generated_text': 'en 电子产品 计算机/电脑 电脑组件 存储设备 存储设备 存储设备 存储设备 存储设备 存储设备 存储设备 存储设备 存储设备 存储设备 存储设备 存储设备 存储设备 存储设备 存储设备 存储设备 存储存储存器'}]                                                                                                                                                                                                                                             |\n",
      "| 34 | Toys Games Novelty Gag Toys                                                                                                     | [{'generated_text': 'en 电子产品 计算机/电脑 电脑组件 存储设备 存储设备 存储设备 存储设备 存储设备 存储设备 存储设备 存储设备 存储设备 存储设备 存储设备 存储设备 存储设备 存储设备 存储设备 存储设备 存储存储存器'}]                                                                                                                                                                                                                                             |\n",
      "| 35 | Toys Games Party Supplies                                                                                                       | [{'generated_text': 'en 电子产品 计算机/电脑 电脑组件 存储设备 存储设备 存储设备 存储设备 存储设备 存储设备 存储设备 存储设备 存储设备 存储设备 存储设备 存储设备 存储设备 存储设备 存储设备 存储设备 存储存储存器'}]                                                                                                                                                                                                                                             |\n",
      "| 36 | Toys Games Party Supplies Banners                                                                                               | [{'generated_text': 'en 电子产品 计算机/电脑 电脑组件 存储设备 存储设备 存储设备 存储设备 存储设备 存储设备 存储设备 存储设备 存储设备 存储设备 存储设备 存储设备 存储设备 存储设备 存储设备 存储设备 存储存储存器'}]                                                                                                                                                                                                                                             |\n",
      "| 37 | Toys Games Dolls Accessories Doll Accessories                                                                                   | [{'generated_text': 'en 电子产品 计算机/电脑 电脑组件 存储设备 存储设备 存储设备 存储设备 存储设备 存储设备 存储设备 存储设备 存储设备 存储设备 存储设备 存储设备 存储设备 存储设备 存储设备 存储设备 存储存储存器'}]                                                                                                                                                                                                                                             |\n",
      "| 38 | Toys Games Arts Crafts Craft Kits                                                                                               | [{'generated_text': 'en 电子产品 计算机/电脑 电脑组件 存储设备 存储设备 存储设备 存储设备 存储设备 存储设备 存储设备 存储设备 存储设备 存储设备 存储设备 存储设备 存储设备 存储设备 存储设备 存储设备 存储存储存器'}]                                                                                                                                                                                                                                             |\n",
      "| 39 | Toys Games Games Accessories                                                                                                    | [{'generated_text': 'en 电子产品 计算机/电脑 电脑组件 存储设备 存储设备 存储设备 存储设备 存储设备 存储设备 存储设备 存储设备 存储设备 存储设备 存储设备 存储设备 存储设备 存储设备 存储设备 存储设备 存储存储存器'}]                                                                                                                                                                                                                                             |\n",
      "| 40 | Toys Games Hobbies Trains Accessories Train Cars Freight Cars Gondolas                                                          | [{'generated_text': 'en 电子产品 计算机/电脑 电脑组件 存储设备 存储设备 存储设备 存储设备'}]                                                                                                                                                                                                                                                                                                                                                                      |\n",
      "| 41 | Home Kitchen Bedding Kids' Bedding Blankets Throws Throws                                                                       | [{'generated_text': 'en 电子产品 计算机/电脑 电脑组件 存储设备 存储设备 存储设备 存储设备 存储设备 存储设备 存储设备 存储设备 存储设备 存储设备 存储设备 存储设备 存储设备 存储设备 存储设备 存储设备 存储存储存器'}]                                                                                                                                                                                                                                             |\n",
      "| 42 | Pet Supplies Dogs Training Behavior Aids Agility Equipment Tunnels                                                              | [{'generated_text': 'en 电子产品 计算机/电脑 电脑组件 存储设备 存储设备 存储设备 存储设备'}]                                                                                                                                                                                                                                                                                                                                                                      |\n",
      "| 43 | Toys Games Dolls Accessories Dolls                                                                                              | [{'generated_text': 'en 五金/装修 工具 刀/刀'}]                                                                                                                                                                                                                                                                                                                                                                                                                   |\n",
      "| 44 | Toys Games Hobbies Remote App Controlled Vehicles Parts Remote App Controlled Vehicle Parts                                     | [{'generated_text': 'en 电子产品 计算机/电脑 电脑组件 存储设备 存储设备 存储设备 存储设备'}]                                                                                                                                                                                                                                                                                                                                                                      |\n",
      "| 45 | Toys Games Learning Education                                                                                                   | [{'generated_text': 'en 电子产品 计算机/电脑 电脑组件 存储设备 存储设备 存储设备 存储设备 存储设备 存储设备 存储设备 存储设备 存储设备 存储设备 存储设备 存储设备 存储设备 存储设备 存储设备 存储设备 存储存储存器'}]                                                                                                                                                                                                                                             |\n",
      "| 46 | Toys Games Kids' Electronics Electronic Learning Toys                                                                           | [{'generated_text': 'en 电子产品 计算机/电脑 电脑组件 存储设备 存储设备 存储设备 存储设备 存储设备 存储设备 存储设备 存储设备 存储设备 存储设备 存储设备 存储设备 存储设备 存储设备 存储设备 存储设备 存储存储存器'}]                                                                                                                                                                                                                                             |\n",
      "| 47 | Clothing, Shoes Jewelry Novelty More Clothing Novelty Men Shirts T-Shirts                                                       | [{'generated_text': 'en 电子产品 计算机/电脑 电脑组件 存储设备 存储设备 存储设备 存储设备 存储设备 存储设备 存储设备 存储设备 存储设备 存储设备 存储设备 存储设备 存储设备 存储设备 存储设备 存储设备 存储设备 存储存储设备 存储存储设备 存储存储设备 存储存储设备 存储存储设备 存储存储设备 存储存储设备 存储存储设备 存储存储存储存储存储存储存储存储存储存储存储存储存储存储存储存储存储存储存储存储存储存储存储存储存储存储存储存储存储存储存储存储存储存'}]  |\n",
      "| 48 | Toys Games Hobbies Hobby Building Tools Hardware Paints                                                                         | [{'generated_text': 'en 电子产品 计算机/电脑 电脑组件 存储设备 存储设备 存储设备 存储设备 存储设备 存储设备 存储设备 存储设备 存储设备 存储设备 存储设备 存储设备 存储设备 存储设备 存储设备 存储设备 存储存储存器'}]                                                                                                                                                                                                                                             |\n",
      "| 49 | Toys Games Arts Crafts                                                                                                          | [{'generated_text': 'en 电子产品 计算机/电脑 电脑组件 存储设备 存储设备 存储设备 存储设备 存储设备 存储设备 存储设备 存储设备 存储设备 存储设备 存储设备 存储设备 存储设备 存储设备 存储设备 存储设备 存储存储存器'}]                                                                                                                                                                                                                                             |\n",
      "| 50 | Toys Games Games Accessories Card Games                                                                                         | [{'generated_text': 'en 电子产品 计算机/电脑 电脑组件 存储设备 存储设备 存储设备 存储设备 存储设备 存储设备 存储设备 存储设备 存储设备 存储设备 存储设备 存储设备 存储设备 存储设备 存储设备 存储设备 存储存储存器'}]                                                                                                                                                                                                                                             |\n",
      "| 51 | Toys Games Dress Up Pretend Play Pretend Play Kitchen Toys                                                                      | [{'generated_text': 'en 电子产品 计算机/电脑 电脑组件 存储设备 存储设备 存储设备 存储设备 存储设备 存储设备 存储设备 存储设备 存储设备 存储设备 存储设备 存储设备 存储设备 存储设备 存储设备 存储设备 存储存储存器'}]                                                                                                                                                                                                                                             |\n",
      "| 52 | Toys Games Dolls Accessories Dolls                                                                                              | [{'generated_text': 'en 五金/装修 工具 刀/刀'}]                                                                                                                                                                                                                                                                                                                                                                                                                   |\n",
      "| 53 | Toys Games Kids' Electronics Electronic Learning Toys                                                                           | [{'generated_text': 'en 电子产品 计算机/电脑 电脑组件 存储设备 存储设备 存储设备 存储设备 存储设备 存储设备 存储设备 存储设备 存储设备 存储设备 存储设备 存储设备 存储设备 存储设备 存储设备 存储设备 存储存储存器'}]                                                                                                                                                                                                                                             |\n",
      "| 54 | Toys Games Games Accessories                                                                                                    | [{'generated_text': 'en 电子产品 计算机/电脑 电脑组件 存储设备 存储设备 存储设备 存储设备 存储设备 存储设备 存储设备 存储设备 存储设备 存储设备 存储设备 存储设备 存储设备 存储设备 存储设备 存储设备 存储存储存器'}]                                                                                                                                                                                                                                             |\n",
      "| 55 | Clothing, Shoes Jewelry Men Accessories Wallets, Card Cases Money Organizers Wallets                                            | [{'generated_text': 'en 电子产品 计算机/电脑 电脑组件 存储设备 存储设备 存储设备 存储设备'}]                                                                                                                                                                                                                                                                                                                                                                      |\n",
      "| 56 | Toys Games Toy Figures Playsets Action Figures                                                                                  | [{'generated_text': 'en 电子产品 计算机/电脑 电脑组件 存储设备 存储设备 存储设备 存储设备 存储设备 存储设备 存储设备 存储设备 存储设备 存储设备 存储设备 存储设备 存储设备 存储设备 存储设备 存储设备 存储存储存器'}]                                                                                                                                                                                                                                             |\n",
      "| 57 | Toys Games Baby Toddler Toys                                                                                                    | [{'generated_text': 'en 五金/装修 工具 刀/刀 刀/刀'}]                                                                                                                                                                                                                                                                                                                                                                                                             |\n",
      "| 58 | Toys Games Baby Toddler Toys Sorting Stacking Toys                                                                              | [{'generated_text': 'en 五金/装修 工具 刀/刀 刀/刀'}]                                                                                                                                                                                                                                                                                                                                                                                                             |\n",
      "| 59 | Toys Games Collectible Toys Statues, Bobbleheads Busts Statues                                                                  | [{'generated_text': 'en 电子产品 计算机/电脑 电脑组件 存储设备 存储设备 存储设备 存储设备 存储设备 存储设备 存储设备 存储设备 存储设备 存储设备 存储设备 存储设备 存储设备 存储设备 存储设备 存储设备 存储存储设备 存储设备 存储存储设备 存储存储设备 存储存储设备 存储存储设备 存储存储设备 存储存储设备 存储存储设备 存储存储设备 存储存储存储存储存储存储存储存储存储存储存储存储存储存储存储存储存储存储存储存储存储存储存储存储存储存储存储存储存储存储存'}] |\n",
      "| 60 | Clothing, Shoes Jewelry Costumes Accessories Women Wigs                                                                         | [{'generated_text': 'en 电子产品 计算机/电脑 电脑组件 存储设备 存储设备 存储设备 存储设备 存储设备 存储设备 存储设备 存储设备 存储设备 存储设备 存储设备 存储设备 存储设备 存储设备 存储设备 存储设备 存储设备 存储存储设备 存储存储设备 存储设备 存储存储设备 存储设备 存储存储设备 存储设备 存储存储设备 存储存储设备 存储存储设备 存储存储存储存储存储存储存储存储存储存'}]                                                                                    |\n",
      "| 61 | Toys Games Toy Figures Playsets Action Figures                                                                                  | [{'generated_text': 'en 电子产品 计算机/电脑 电脑组件 存储设备 存储设备 存储设备 存储设备 存储设备 存储设备 存储设备 存储设备 存储设备 存储设备 存储设备 存储设备 存储设备 存储设备 存储设备 存储设备 存储存储存器'}]                                                                                                                                                                                                                                             |\n",
      "| 62 | Toys Games Toy Figures Playsets Action Figures                                                                                  | [{'generated_text': 'en 电子产品 计算机/电脑 电脑组件 存储设备 存储设备 存储设备 存储设备 存储设备 存储设备 存储设备 存储设备 存储设备 存储设备 存储设备 存储设备 存储设备 存储设备 存储设备 存储设备 存储存储存器'}]                                                                                                                                                                                                                                             |\n",
      "| 63 | Toys Games Stuffed Animals Plush Toys Stuffed Animals Teddy Bears                                                               | [{'generated_text': 'en 电子产品 计算机/电脑 电脑组件 存储设备 存储设备 存储设备 存储设备 存储设备 存储设备 存储设备 存储设备 存储设备 存储设备 存储设备 存储设备 存储设备 存储设备 存储设备 存储设备 存储存储存器'}]                                                                                                                                                                                                                                             |\n",
      "| 64 | Toys Games Dolls Accessories Dolls                                                                                              | [{'generated_text': 'en 五金/装修 工具 刀/刀'}]                                                                                                                                                                                                                                                                                                                                                                                                                   |\n",
      "| 65 | Toys Games Dolls Accessories Playsets                                                                                           | [{'generated_text': 'en 电子产品 计算机/电脑 电脑组件 存储设备 存储设备 存储设备 存储设备 存储设备 存储设备 存储设备 存储设备 存储设备 存储设备 存储设备 存储设备 存储设备 存储设备 存储设备 存储设备 存储存储存器'}]                                                                                                                                                                                                                                             |\n",
      "| 66 | Toys Games Stuffed Animals Plush Toys Stuffed Animals Teddy Bears                                                               | [{'generated_text': 'en 电子产品 计算机/电脑 电脑组件 存储设备 存储设备 存储设备 存储设备 存储设备 存储设备 存储设备 存储设备 存储设备 存储设备 存储设备 存储设备 存储设备 存储设备 存储设备 存储设备 存储存储存器'}]                                                                                                                                                                                                                                             |\n",
      "| 67 | Toys Games Novelty Gag Toys Miniatures                                                                                          | [{'generated_text': 'en 电子产品 计算机/电脑 电脑组件 存储设备 存储设备 存储设备 存储设备 存储设备 存储设备 存储设备 存储设备 存储设备 存储设备 存储设备 存储设备 存储设备 存储设备 存储设备 存储设备 存储存储存器'}]                                                                                                                                                                                                                                             |\n",
      "| 68 | Toys Games Stuffed Animals Plush Toys Plush Puppets                                                                             | [{'generated_text': 'en 电子产品 计算机/电脑 电脑组件 存储设备 存储设备 存储设备 存储设备 存储设备 存储设备 存储设备 存储设备 存储设备 存储设备 存储设备 存储设备 存储设备 存储设备 存储设备 存储设备 存储存储存器'}]                                                                                                                                                                                                                                             |\n",
      "| 69 | Toys Games Hobbies Remote App Controlled Vehicles Parts Remote App Controlled Vehicle Parts Wheels Tires Tires                  | [{'generated_text': 'en 电子产品 计算机/电脑 电脑组件 存储设备 存储设备 存储设备 存储设备 存储设备 存储设备'}]                                                                                                                                                                                                                                                                                                                                                    |\n",
      "| 70 | Home Kitchen Home decor Kids' Room decor Wall decor                                                                             | [{'generated_text': 'en 五金/装修 工具 工具 刀/刀'}]                                                                                                                                                                                                                                                                                                                                                                                                              |\n",
      "| 71 | Toys Games Stuffed Animals Plush Toys Plush Figures                                                                             | [{'generated_text': 'en 电子产品 计算机/电脑 电脑组件 存储设备 存储设备 存储设备 存储设备 存储设备 存储设备 存储设备 存储设备 存储设备 存储设备 存储设备 存储设备 存储设备 存储设备 存储设备 存储设备 存储存储存器'}]                                                                                                                                                                                                                                             |\n",
      "| 72 | Toys Games Hobbies Remote App Controlled Vehicles Parts Remote App Controlled Vehicle Parts Power Plant Driveline Systems Axles | [{'generated_text': 'en 电子产品 计算机/电脑 电脑组件 存储设备 存储设备 存储设备 存储设备'}]                                                                                                                                                                                                                                                                                                                                                                      |\n",
      "| 73 | Sports Outdoors Sports Fitness Team Sports Volleyball Volleyballs Outdoor Volleyballs                                           | [{'generated_text': 'en 电子产品 计算机/电脑 电脑组件 存储设备 存储设备 存储设备 存储设备 存储设备 存储设备 存储设备 存储设备 存储设备 存储设备 存储设备 存储设备 存储设备 存储设备 存储设备 存储设备 存储存储存器'}]                                                                                                                                                                                                                                             |\n",
      "| 74 | Toys Games Toy Figures Playsets Playsets Vehicles Playsets                                                                      | [{'generated_text': 'en 电子产品 计算机/电脑 电脑组件 存储设备 存储设备 存储设备 存储设备 存储设备 存储设备 存储设备 存储设备 存储设备 存储设备 存储设备 存储设备 存储设备 存储设备 存储设备 存储设备 存储存储存器'}]                                                                                                                                                                                                                                             |\n",
      "| 75 | Toys Games Arts Crafts Clay Dough                                                                                               | [{'generated_text': 'en 电子产品 计算机/电脑 电脑组件 存储设备 存储设备 存储设备 存储设备 存储设备 存储设备 存储设备 存储设备 存储设备 存储设备 存储设备 存储设备 存储设备 存储设备 存储设备 存储设备 存储存储存器'}]                                                                                                                                                                                                                                             |\n",
      "| 76 | Toys Games Games Accessories Board Games                                                                                        | [{'generated_text': 'en 电子产品 计算机/电脑 电脑组件 存储设备 存储设备 存储设备 存储设备'}]                                                                                                                                                                                                                                                                                                                                                                      |\n",
      "| 77 | Toys Games Stuffed Animals Plush Toys Plush Figures                                                                             | [{'generated_text': 'en 电子产品 计算机/电脑 电脑组件 存储设备 存储设备 存储设备 存储设备 存储设备 存储设备 存储设备 存储设备 存储设备 存储设备 存储设备 存储设备 存储设备 存储设备 存储设备 存储设备 存储存储存器'}]                                                                                                                                                                                                                                             |\n",
      "| 78 | Toys Games Games Accessories Game Accessories Standard Game Dice                                                                | [{'generated_text': 'en 电子产品 计算机/电脑 电脑组件 存储设备 存储设备 存储设备 存储设备 存储设备 存储设备 存储设备 存储设备 存储设备 存储设备 存储设备 存储设备 存储设备 存储设备 存储设备 存储设备 存储存储存器'}]                                                                                                                                                                                                                                             |\n",
      "| 79 | Toys Games Kids' Electronics                                                                                                    | [{'generated_text': 'en 电子产品 计算机/电脑 电脑组件 存储设备 存储设备 存储设备 存储设备 存储设备 存储设备 存储设备 存储设备 存储设备 存储设备 存储设备 存储设备 存储设备 存储设备 存储设备 存储设备 存储存储存器'}]                                                                                                                                                                                                                                             |\n",
      "| 80 | Toys Games Dolls Accessories Dolls                                                                                              | [{'generated_text': 'en 五金/装修 工具 刀/刀'}]                                                                                                                                                                                                                                                                                                                                                                                                                   |\n",
      "| 81 | Sports Outdoors Fan Shop Toys Game Room Games                                                                                   | [{'generated_text': 'en 电子产品 计算机/电脑 电脑组件 存储设备 存储设备 存储设备 存储设备 存储设备 存储设备 存储设备 存储设备 存储设备 存储设备 存储设备 存储设备 存储设备 存储设备 存储设备 存储设备 存储存储存器'}]                                                                                                                                                                                                                                             |\n",
      "| 82 | Toys Games Dress Up Pretend Play Pretend Play Kitchen Toys Play Food                                                            | [{'generated_text': 'en 电子产品 计算机/电脑 电脑组件 存储设备 存储设备 存储设备 存储设备'}]                                                                                                                                                                                                                                                                                                                                                                      |\n",
      "| 83 | Toys Games Party Supplies Banners                                                                                               | [{'generated_text': 'en 电子产品 计算机/电脑 电脑组件 存储设备 存储设备 存储设备 存储设备 存储设备 存储设备 存储设备 存储设备 存储设备 存储设备 存储设备 存储设备 存储设备 存储设备 存储设备 存储设备 存储存储存器'}]                                                                                                                                                                                                                                             |\n",
      "| 84 | Toys Games Baby Toddler Toys                                                                                                    | [{'generated_text': 'en 五金/装修 工具 刀/刀 刀/刀'}]                                                                                                                                                                                                                                                                                                                                                                                                             |\n",
      "| 85 | Toys Games Hobbies Trains Accessories Train Cars                                                                                | [{'generated_text': 'en 电子产品 计算机/电脑 电脑组件 存储设备 存储设备 存储设备 存储设备 存储设备 存储设备 存储设备 存储设备 存储设备 存储设备 存储设备 存储设备 存储设备 存储设备 存储设备 存储设备 存储存储存器'}]                                                                                                                                                                                                                                             |\n",
      "| 86 | Toys Games Games Accessories Card Games Standard Playing Card Decks                                                             | [{'generated_text': 'en 电子产品 计算机/电脑 电脑组件 存储设备 存储设备 存储设备 存储设备 存储设备 存储设备 存储设备 存储设备 存储设备 存储设备 存储设备 存储设备 存储设备 存储设备 存储设备 存储设备 存储存储存器'}]                                                                                                                                                                                                                                             |\n",
      "| 87 | Toys Games Stuffed Animals Plush Toys                                                                                           | [{'generated_text': 'en 电子产品 计算机/电脑 电脑组件 存储设备 存储设备 存储设备 存储设备 存储设备 存储设备 存储设备 存储设备 存储设备 存储设备 存储设备 存储设备 存储设备 存储设备 存储设备 存储设备 存储存储存器'}]                                                                                                                                                                                                                                             |\n",
      "| 88 | Toys Games Hobbies Remote App Controlled Vehicles Parts Remote App Controlled Vehicle Parts                                     | [{'generated_text': 'en 电子产品 计算机/电脑 电脑组件 存储设备 存储设备 存储设备 存储设备'}]                                                                                                                                                                                                                                                                                                                                                                      |\n",
      "| 89 | Toys Games Kids' Electronics                                                                                                    | [{'generated_text': 'en 电子产品 计算机/电脑 电脑组件 存储设备 存储设备 存储设备 存储设备 存储设备 存储设备 存储设备 存储设备 存储设备 存储设备 存储设备 存储设备 存储设备 存储设备 存储设备 存储设备 存储存储存器'}]                                                                                                                                                                                                                                             |\n",
      "| 90 | Toys Games Games Accessories Card Games Standard Playing Card Decks                                                             | [{'generated_text': 'en 电子产品 计算机/电脑 电脑组件 存储设备 存储设备 存储设备 存储设备 存储设备 存储设备 存储设备 存储设备 存储设备 存储设备 存储设备 存储设备 存储设备 存储设备 存储设备 存储设备 存储存储存器'}]                                                                                                                                                                                                                                             |\n",
      "| 91 | Toys Games Hobbies Remote App Controlled Vehicles Parts Remote App Controlled Vehicles Quadcopters Multirotors                  | [{'generated_text': 'en 电子产品 计算机/电脑 电脑组件 存储设备 存储设备 存储设备 存储设备 存储设备'}]                                                                                                                                                                                                                                                                                                                                                             |\n",
      "| 92 | Arts, Crafts Sewing Crafting Paper Paper Crafts Paper Craft Tools                                                               | [{'generated_text': 'en 电子产品 计算机/电脑 电脑组件 存储设备 存储设备 存储设备 存储设备 存储设备 存储设备 存储设备 存储设备 存储设备 存储设备 存储设备 存储设备 存储设备 存储设备 存储设备 存储设备 存储设备 存储存储设备 存储存储设备 存储存储设备 存储存储设备 存储存储设备 存储存储设备 存储存储设备 存储存储存储存储存储存储存储存储存储存储存储存储存储存储存储存储存储存储存储存储存储存储存储存储存储存储存储存储存储存储存储存储存储存储存储存储存'}]   |\n",
      "| 93 | Toys Games Building Toys                                                                                                        | [{'generated_text': 'en 电子产品 计算机/电脑 电脑组件 存储设备 存储设备 存储设备 存储设备 存储设备 存储设备 存储设备 存储设备 存储设备 存储设备 存储设备 存储设备 存储设备 存储设备 存储设备 存储设备 存储存储存器'}]                                                                                                                                                                                                                                             |\n",
      "| 94 | Toys Games Party Supplies                                                                                                       | [{'generated_text': 'en 电子产品 计算机/电脑 电脑组件 存储设备 存储设备 存储设备 存储设备 存储设备 存储设备 存储设备 存储设备 存储设备 存储设备 存储设备 存储设备 存储设备 存储设备 存储设备 存储设备 存储存储存器'}]                                                                                                                                                                                                                                             |\n",
      "| 95 | Clothing, Shoes Jewelry Costumes Accessories Kids Baby Girls Costumes                                                           | [{'generated_text': 'en 电子产品 计算机/电脑 电脑组件 存储设备 存储设备 存储设备 存储设备 存储设备 存储设备 存储设备 存储设备 存储设备 存储设备 存储设备 存储设备 存储设备 存储设备 存储设备 存储设备 存储设备 存储存储设备 存储存储设备 存储设备 存储存储设备 存储存储设备 存储存储设备 存储存储设备 存储存储设备 存储存储存储存储存储存储存储存储存储存储存储存储存储存储存储存储存储存储存储存储存储存储存储存储存储存储存储存储存储存储存储存储存储存储存'}]  |\n",
      "| 96 | Toys Games Learning Education Science Kits Toys                                                                                 | [{'generated_text': 'en 电子产品 计算机/电脑 电脑组件 存储设备 存储设备 存储设备 存储设备 存储设备 存储设备 存储设备 存储设备 存储设备 存储设备 存储设备 存储设备 存储设备 存储设备 存储设备 存储设备 存储存储存器'}]                                                                                                                                                                                                                                             |\n",
      "| 97 | Toys Games Dolls Accessories Dolls                                                                                              | [{'generated_text': 'en 五金/装修 工具 刀/刀'}]                                                                                                                                                                                                                                                                                                                                                                                                                   |\n",
      "| 98 | Toys Games Sports Outdoor Play Play Sets Playground Equipment                                                                   | [{'generated_text': 'en 电子产品 计算机/电脑 电脑组件 存储设备 存储设备 存储设备 存储设备'}]                                                                                                                                                                                                                                                                                                                                                                      |\n",
      "| 99 | Toys Games Stuffed Animals Plush Toys Plush Pillows                                                                             | [{'generated_text': 'en 电子产品 计算机/电脑 电脑组件 存储设备 存储设备 存储设备 存储设备 存储设备 存储设备 存储设备 存储设备 存储设备 存储设备 存储设备 存储设备 存储设备 存储设备 存储设备 存储设备 存储存储存器'}]                                                                                                                                                                                                                                             |\n"
     ]
    }
   ],
   "source": [
    "ecommerce_dataset = pandas.DataFrame(list(zip(en_list, zh_list)), columns=['Category-en', 'Category-zh'])\n",
    "print(ecommerce_dataset.to_markdown())"
   ]
  },
  {
   "cell_type": "code",
   "execution_count": 14,
   "metadata": {},
   "outputs": [],
   "source": [
    "currentDateTime = datetime.now().strftime(\"%m-%d-%Y %H-%M-%S %p\")\n",
    "ecommerce_dataset.to_csv(f'./Results/result {currentDateTime}.csv', index=False)"
   ]
  }
 ],
 "metadata": {
  "kernelspec": {
   "display_name": "Python 3",
   "language": "python",
   "name": "python3"
  },
  "language_info": {
   "codemirror_mode": {
    "name": "ipython",
    "version": 3
   },
   "file_extension": ".py",
   "mimetype": "text/x-python",
   "name": "python",
   "nbconvert_exporter": "python",
   "pygments_lexer": "ipython3",
   "version": "3.11.8"
  }
 },
 "nbformat": 4,
 "nbformat_minor": 2
}
