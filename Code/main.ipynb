{
 "cells": [
  {
   "cell_type": "markdown",
   "metadata": {},
   "source": [
    "### For this project, we have decide to use a pretrained model NLLB-200 and finetune it to fit our project needs.\n",
    "Model link: https://huggingface.co/facebook/nllb-200-distilled-600M"
   ]
  },
  {
   "cell_type": "code",
   "execution_count": 16,
   "metadata": {},
   "outputs": [],
   "source": [
    "#Import packages\n",
    "from transformers import AutoTokenizer, AutoModelForSeq2SeqLM, TrainingArguments, Trainer, DataCollatorForSeq2Seq, pipeline\n",
    "import numpy\n",
    "import evaluate\n",
    "import pandas\n",
    "from sklearn.model_selection import train_test_split\n",
    "from datasets import load_dataset, Dataset, DatasetDict"
   ]
  },
  {
   "cell_type": "code",
   "execution_count": 2,
   "metadata": {},
   "outputs": [],
   "source": [
    "#Load model directly\n",
    "tokenizer = AutoTokenizer.from_pretrained(\"facebook/nllb-200-distilled-600M\", src_lang = 'en', tgt_lang = 'zh')\n",
    "model = AutoModelForSeq2SeqLM.from_pretrained(\"facebook/nllb-200-distilled-600M\")"
   ]
  },
  {
   "cell_type": "markdown",
   "metadata": {},
   "source": [
    "We will be using 2 datasets from Amazon to finetune the NLLB-200 model. The source dataset will be in English and the target dataset will be in Chinese."
   ]
  },
  {
   "cell_type": "code",
   "execution_count": 4,
   "metadata": {},
   "outputs": [
    {
     "data": {
      "text/plain": [
       "DatasetDict({\n",
       "    train: Dataset({\n",
       "        features: ['en', 'zh'],\n",
       "        num_rows: 5061\n",
       "    })\n",
       "    test: Dataset({\n",
       "        features: ['en', 'zh'],\n",
       "        num_rows: 2250\n",
       "    })\n",
       "    dev: Dataset({\n",
       "        features: ['en', 'zh'],\n",
       "        num_rows: 1688\n",
       "    })\n",
       "})"
      ]
     },
     "execution_count": 4,
     "metadata": {},
     "output_type": "execute_result"
    }
   ],
   "source": [
    "#load the source dataset\n",
    "en_data = pandas.read_json('en-US.json', lines=True)\n",
    "zh_data = pandas.read_json('zh-CN.json', lines=True)\n",
    "\n",
    "data = pandas.concat([en_data['utt'], zh_data['utt']], axis=1, keys=['en', 'zh'])\n",
    "train_data, test_data = train_test_split(data)\n",
    "train_data, dev_data = train_test_split(train_data)\n",
    "\n",
    "dataset = DatasetDict({\n",
    "                        'train': Dataset.from_pandas(train_data),\n",
    "                        'test': Dataset.from_pandas(test_data),\n",
    "                        'dev': Dataset.from_pandas(dev_data)\n",
    "                    })\n",
    "dataset = dataset.remove_columns([\"__index_level_0__\"])\n",
    "dataset\n"
   ]
  },
  {
   "cell_type": "markdown",
   "metadata": {},
   "source": [
    "We will be following the tutorials from Hugging Face to use PyTorch Trainer to finetune the pretrained model. https://huggingface.co/docs/transformers/en/training, https://huggingface.co/docs/transformers/tasks/translation"
   ]
  },
  {
   "cell_type": "code",
   "execution_count": 5,
   "metadata": {},
   "outputs": [
    {
     "name": "stderr",
     "output_type": "stream",
     "text": [
      "Map: 100%|██████████| 5061/5061 [00:00<00:00, 17626.68 examples/s]\n",
      "Map: 100%|██████████| 2250/2250 [00:00<00:00, 21323.02 examples/s]\n",
      "Map: 100%|██████████| 1688/1688 [00:00<00:00, 18623.26 examples/s]\n"
     ]
    },
    {
     "data": {
      "text/plain": [
       "DatasetDict({\n",
       "    train: Dataset({\n",
       "        features: ['en', 'zh', 'input_ids', 'attention_mask', 'labels'],\n",
       "        num_rows: 5061\n",
       "    })\n",
       "    test: Dataset({\n",
       "        features: ['en', 'zh', 'input_ids', 'attention_mask', 'labels'],\n",
       "        num_rows: 2250\n",
       "    })\n",
       "    dev: Dataset({\n",
       "        features: ['en', 'zh', 'input_ids', 'attention_mask', 'labels'],\n",
       "        num_rows: 1688\n",
       "    })\n",
       "})"
      ]
     },
     "execution_count": 5,
     "metadata": {},
     "output_type": "execute_result"
    }
   ],
   "source": [
    "def tokenize_function(data):\n",
    "    #return tokenizer(data['en'], data['zh'], truncation=True)\n",
    "    padding = 'max_length'\n",
    "    max_length = 100\n",
    "    sources = [d for d in data['en']]\n",
    "    targets = [d for d in data['zh']]\n",
    "    inputs = tokenizer(sources, max_length=max_length, padding=padding, truncation=True)\n",
    "    label = tokenizer(targets, max_length=max_length, padding=padding, truncation=True)\n",
    "    inputs['labels'] = label['input_ids']\n",
    "    return inputs\n",
    "\n",
    "tokenized_dataset = dataset.map(tokenize_function, batched=True)\n",
    "tokenized_dataset"
   ]
  },
  {
   "cell_type": "code",
   "execution_count": 6,
   "metadata": {},
   "outputs": [],
   "source": [
    "metric = evaluate.load('accuracy')\n",
    "\n",
    "def compute_metrics(eval_pred):\n",
    "    logits, labels = eval_pred\n",
    "    predictions = numpy.argmax(logits, axis=-1)\n",
    "    return metric.compute(predictions=predictions, references=labels)\n",
    "\n",
    "data_collator = DataCollatorForSeq2Seq(tokenizer=tokenizer,model=model)"
   ]
  },
  {
   "cell_type": "code",
   "execution_count": 7,
   "metadata": {},
   "outputs": [],
   "source": [
    "training_args = TrainingArguments(\n",
    "                    output_dir=\"Trained Model\", \n",
    "                    evaluation_strategy=\"epoch\"\n",
    "                    )\n",
    "\n",
    "trainer = Trainer(\n",
    "    model=model,\n",
    "    args=training_args,\n",
    "    train_dataset=tokenized_dataset['train'],\n",
    "    eval_dataset=tokenized_dataset['test'],\n",
    "    data_collator=data_collator,\n",
    "    tokenizer=tokenizer\n",
    ")\n"
   ]
  },
  {
   "cell_type": "code",
   "execution_count": 9,
   "metadata": {},
   "outputs": [
    {
     "name": "stderr",
     "output_type": "stream",
     "text": [
      " 26%|██▋       | 500/1899 [58:26<2:34:04,  6.61s/it]Some non-default generation parameters are set in the model config. These should go into a GenerationConfig file (https://huggingface.co/docs/transformers/generation_strategies#save-a-custom-decoding-strategy-with-your-model) instead. This warning will be raised to an exception in v4.41.\n",
      "Non-default generation parameters: {'max_length': 200}\n"
     ]
    },
    {
     "name": "stdout",
     "output_type": "stream",
     "text": [
      "{'loss': 2.4285, 'learning_rate': 3.683517640863612e-05, 'epoch': 0.79}\n"
     ]
    },
    {
     "name": "stderr",
     "output_type": "stream",
     "text": [
      "                                                      \n",
      " 33%|███▎      | 633/1899 [1:21:44<2:13:30,  6.33s/it]"
     ]
    },
    {
     "name": "stdout",
     "output_type": "stream",
     "text": [
      "{'eval_loss': 0.11612840741872787, 'eval_runtime': 466.6431, 'eval_samples_per_second': 4.822, 'eval_steps_per_second': 0.604, 'epoch': 1.0}\n"
     ]
    },
    {
     "name": "stderr",
     "output_type": "stream",
     "text": [
      " 53%|█████▎    | 1000/1899 [2:03:11<1:40:42,  6.72s/it] Some non-default generation parameters are set in the model config. These should go into a GenerationConfig file (https://huggingface.co/docs/transformers/generation_strategies#save-a-custom-decoding-strategy-with-your-model) instead. This warning will be raised to an exception in v4.41.\n",
      "Non-default generation parameters: {'max_length': 200}\n"
     ]
    },
    {
     "name": "stdout",
     "output_type": "stream",
     "text": [
      "{'loss': 0.1067, 'learning_rate': 2.367035281727225e-05, 'epoch': 1.58}\n"
     ]
    },
    {
     "name": "stderr",
     "output_type": "stream",
     "text": [
      "                                                       \n",
      " 67%|██████▋   | 1266/1899 [2:41:07<1:04:42,  6.13s/it]"
     ]
    },
    {
     "name": "stdout",
     "output_type": "stream",
     "text": [
      "{'eval_loss': 0.10672058910131454, 'eval_runtime': 466.9341, 'eval_samples_per_second': 4.819, 'eval_steps_per_second': 0.604, 'epoch': 2.0}\n"
     ]
    },
    {
     "name": "stderr",
     "output_type": "stream",
     "text": [
      " 79%|███████▉  | 1500/1899 [3:07:14<44:32,  6.70s/it]    Some non-default generation parameters are set in the model config. These should go into a GenerationConfig file (https://huggingface.co/docs/transformers/generation_strategies#save-a-custom-decoding-strategy-with-your-model) instead. This warning will be raised to an exception in v4.41.\n",
      "Non-default generation parameters: {'max_length': 200}\n"
     ]
    },
    {
     "name": "stdout",
     "output_type": "stream",
     "text": [
      "{'loss': 0.0856, 'learning_rate': 1.0505529225908373e-05, 'epoch': 2.37}\n"
     ]
    },
    {
     "name": "stderr",
     "output_type": "stream",
     "text": [
      "                                                     \n",
      "100%|██████████| 1899/1899 [3:59:35<00:00,  7.57s/it]"
     ]
    },
    {
     "name": "stdout",
     "output_type": "stream",
     "text": [
      "{'eval_loss': 0.10698454082012177, 'eval_runtime': 470.4405, 'eval_samples_per_second': 4.783, 'eval_steps_per_second': 0.599, 'epoch': 3.0}\n",
      "{'train_runtime': 14375.3035, 'train_samples_per_second': 1.056, 'train_steps_per_second': 0.132, 'train_loss': 0.7063732468623622, 'epoch': 3.0}\n"
     ]
    },
    {
     "name": "stderr",
     "output_type": "stream",
     "text": [
      "\n"
     ]
    },
    {
     "data": {
      "text/plain": [
       "TrainOutput(global_step=1899, training_loss=0.7063732468623622, metrics={'train_runtime': 14375.3035, 'train_samples_per_second': 1.056, 'train_steps_per_second': 0.132, 'train_loss': 0.7063732468623622, 'epoch': 3.0})"
      ]
     },
     "execution_count": 9,
     "metadata": {},
     "output_type": "execute_result"
    }
   ],
   "source": [
    "trainer.train()"
   ]
  },
  {
   "cell_type": "markdown",
   "metadata": {},
   "source": [
    "Once we finished training our model, it is saved to the Trained Model folder. However, due to the size limit of GitHub, the final version of the FineTuned Model is pushed to a Hugging Face repo so that we can easily reference it for further usage."
   ]
  },
  {
   "cell_type": "code",
   "execution_count": 10,
   "metadata": {},
   "outputs": [
    {
     "name": "stderr",
     "output_type": "stream",
     "text": [
      "Some non-default generation parameters are set in the model config. These should go into a GenerationConfig file (https://huggingface.co/docs/transformers/generation_strategies#save-a-custom-decoding-strategy-with-your-model) instead. This warning will be raised to an exception in v4.41.\n",
      "Non-default generation parameters: {'max_length': 200}\n"
     ]
    }
   ],
   "source": [
    "trainer.save_model('./Trained Model/FineTuned Model')"
   ]
  },
  {
   "cell_type": "markdown",
   "metadata": {},
   "source": [
    "The next step is to test our fine tune model to make sure everything is working correctly."
   ]
  },
  {
   "cell_type": "code",
   "execution_count": 84,
   "metadata": {},
   "outputs": [],
   "source": [
    "translator = pipeline(\"translation\", model=\"duongy18418/Multilingual_Model\")"
   ]
  },
  {
   "cell_type": "code",
   "execution_count": 114,
   "metadata": {},
   "outputs": [],
   "source": [
    "ecommerce_dataset = pandas.read_csv(\"Amazon_Ecommerce_Data_2020.csv\", usecols=[\"Category\"], nrows=100)\n",
    "ecommerce_dataset = ecommerce_dataset.dropna()\n",
    "en_list = ecommerce_dataset['Category'].tolist()\n",
    "zh_list = []"
   ]
  },
  {
   "cell_type": "code",
   "execution_count": 116,
   "metadata": {},
   "outputs": [],
   "source": [
    "for i in range(len(en_list)):\n",
    "    zh_list.append(translator(en_list[i], src_lang='en', tgt_lang='zh'))"
   ]
  },
  {
   "cell_type": "code",
   "execution_count": 123,
   "metadata": {},
   "outputs": [
    {
     "name": "stdout",
     "output_type": "stream",
     "text": [
      "|    | Category-en                                                                                                                                         | Category-zh                                                                         |\n",
      "|---:|:----------------------------------------------------------------------------------------------------------------------------------------------------|:------------------------------------------------------------------------------------|\n",
      "|  0 | Sports & Outdoors | Outdoor Recreation | Skates, Skateboards & Scooters | Skateboarding | Standard Skateboards & Longboards | Longboards            | [{'translation_text': 'zheng 运动和户外娱乐滑板滑板滑板滑板滑板长板'}]              |\n",
      "|  1 | Toys & Games | Learning & Education | Science Kits & Toys                                                                                           | [{'translation_text': 'zheng 玩具游戏学习教育科学套件玩具'}]                        |\n",
      "|  2 | Toys & Games | Arts & Crafts | Craft Kits                                                                                                           | [{'translation_text': 'zheng 玩具和游戏'}]                                          |\n",
      "|  3 | Toys & Games | Hobbies | Models & Model Kits | Model Kits | Airplane & Jet Kits                                                                     | [{'translation_text': 'zheng 玩具和游戏趣味 模特和模型套餐 机器人和飞机套餐'}]      |\n",
      "|  4 | Toys & Games | Puzzles | Jigsaw Puzzles                                                                                                             | [{'translation_text': 'zheng 玩具游戏拼图'}]                                        |\n",
      "|  5 | Clothing, Shoes & Jewelry | Costumes & Accessories | Kids & Baby | Girls | Costumes                                                                 | [{'translation_text': 'zheng 衣服鞋子和珠宝 服装和配件 儿童和婴儿女孩服装'}]        |\n",
      "|  6 | Toys & Games | Arts & Crafts | Drawing & Painting Supplies | Crayons                                                                                | [{'translation_text': 'zheng 玩具游戏艺术和工艺绘画用品'}]                          |\n",
      "|  7 | Home & Kitchen | Home Décor | Window Treatments | Window Stickers & Films | Window Films                                                            | [{'translation_text': 'zheng 家庭和厨房家庭装修窗口治疗窗口贴纸和电影窗口电影'}]    |\n",
      "|  8 | Toys & Games | Baby & Toddler Toys                                                                                                                  | [{'translation_text': 'zhys 玩具和游戏宝宝宝宝宝宝宝宝宝'}]                         |\n",
      "|  9 | Toys & Games | Collectible Toys | Statues, Bobbleheads & Busts | Statues                                                                            | [{'translation_text': 'zheng 玩具和游戏 收藏玩具'}]                                 |\n",
      "| 10 | Baby Products | Nursery | Décor | Window Treatments | Valances                                                                                      | [{'translation_text': 'zheng 婴儿产品护理院装饰窗外治疗'}]                          |\n",
      "| 11 | Toys & Games | Building Toys | Building Sets                                                                                                        | [{'translation_text': 'zheng 玩具游戏'}]                                            |\n",
      "| 12 | Toys & Games | Arts & Crafts | Craft Kits                                                                                                           | [{'translation_text': 'zheng 玩具和游戏'}]                                          |\n",
      "| 13 | Toys & Games | Baby & Toddler Toys | Musical Toys                                                                                                   | [{'translation_text': 'zhys 玩具和游戏宝宝宝宝宝宝宝宝玩具音乐玩具'}]               |\n",
      "| 14 | Toys & Games | Learning & Education | Flash Cards                                                                                                   | [{'translation_text': 'zheng 玩具游戏学习教育闪卡'}]                                |\n",
      "| 15 | Home & Kitchen | Furniture | Kids' Furniture | Tables & Chairs | Tables                                                                             | [{'translation_text': 'zheng 家具厨房儿童家具桌子椅子'}]                            |\n",
      "| 16 | Toys & Games | Novelty & Gag Toys | Money Banks                                                                                                     | [{'translation_text': 'zheng 玩具游戏新奇之路玩具钱银行'}]                          |\n",
      "| 17 | Toys & Games | Baby & Toddler Toys | Musical Toys                                                                                                   | [{'translation_text': 'zhys 玩具和游戏宝宝宝宝宝宝宝宝玩具音乐玩具'}]               |\n",
      "| 18 | Toys & Games | Sports & Outdoor Play | Slumber Bags                                                                                                 | [{'translation_text': 'zheng 玩具和游戏 运动和户外播放睡袋'}]                       |\n",
      "| 19 | Toys & Games | Hobbies | Hobby Building Tools & Hardware | RC Linkages                                                                              | [{'translation_text': 'zheng 玩具和游戏趣味趣味建材工具和硬件'}]                    |\n",
      "| 20 | Toys & Games | Building Toys | Building Sets                                                                                                        | [{'translation_text': 'zheng 玩具游戏'}]                                            |\n",
      "| 21 | Toys & Games | Party Supplies | Party Tableware | Plates                                                                                            | [{'translation_text': 'zheng 玩具游戏聚会用餐'}]                                    |\n",
      "| 22 | Toys & Games | Baby & Toddler Toys | Teaching Clocks                                                                                                | [{'translation_text': 'zheng 玩具和游戏宝宝宝宝宝宝玩具教钟'}]                      |\n",
      "| 23 | Toys & Games | Tricycles, Scooters & Wagons | Balance Bikes                                                                                         | [{'translation_text': 'zheng 玩具游戏 三轮车,轮轮轮车和车轮平衡自行车'}]            |\n",
      "| 24 | Toys & Games | Kids' Electronics                                                                                                                    | [{'translation_text': 'zheng 儿童电子玩具'}]                                        |\n",
      "| 25 | Home & Kitchen | Home Décor | Kids' Room Décor                                                                                                      | [{'translation_text': 'zheng 家庭和厨房'}]                                          |\n",
      "| 26 | Baby Products | Nursery | Décor | Wall Décor | Growth Charts                                                                                        | [{'translation_text': 'zheng 婴儿产品护理院外观外观外观成长图表'}]                  |\n",
      "| 27 | Toys & Games | Puzzles | Jigsaw Puzzles                                                                                                             | [{'translation_text': 'zheng 玩具游戏拼图'}]                                        |\n",
      "| 28 | Sports & Outdoors | Sports & Fitness | Team Sports                                                                                                  | [{'translation_text': 'zheng 运动和户外运动和健身'}]                                |\n",
      "| 29 | Toys & Games | Dress Up & Pretend Play | Costumes                                                                                                   | [{'translation_text': 'zheng 玩具游戏穿衣服并假装播放服装'}]                        |\n",
      "| 30 | Home & Kitchen | Bedding | Kids' Bedding | Comforters & Sets | Comforter Sets                                                                       | [{'translation_text': 'zheng 家庭和厨房床单儿童床单舒适器具'}]                      |\n",
      "| 31 | Toys & Games | Toy Figures & Playsets | Action Figures                                                                                              | [{'translation_text': 'zheng 玩具和游戏玩具图像和剧情动作图像'}]                    |\n",
      "| 32 | Clothing, Shoes & Jewelry | Costumes & Accessories | Kids & Baby | Boys | Costumes                                                                  | [{'translation_text': 'zheng 衣服鞋子珠宝服装配件儿童婴儿男孩服装'}]                |\n",
      "| 33 | Toys & Games | Play Vehicles                                                                                                                        | [{'translation_text': 'zheng 玩具游戏 播放汽车'}]                                   |\n",
      "| 34 | Toys & Games | Novelty & Gag Toys                                                                                                                   | [{'translation_text': 'zheng 玩具游戏'}]                                            |\n",
      "| 35 | Toys & Games | Party Supplies                                                                                                                       | [{'translation_text': 'zheng 玩具游戏聚会用品'}]                                    |\n",
      "| 36 | Toys & Games | Party Supplies | Banners                                                                                                             | [{'translation_text': 'zheng 玩具游戏派对用品'}]                                    |\n",
      "| 37 | Toys & Games | Dolls & Accessories | Doll Accessories                                                                                               | [{'translation_text': 'zheng 玩具游戏玩具配件'}]                                    |\n",
      "| 38 | Toys & Games | Arts & Crafts | Craft Kits                                                                                                           | [{'translation_text': 'zheng 玩具和游戏'}]                                          |\n",
      "| 39 | Toys & Games | Games & Accessories                                                                                                                  | [{'translation_text': 'zheng 玩具游戏'}]                                            |\n",
      "| 40 | Toys & Games | Hobbies | Trains & Accessories | Train Cars | Freight Cars | Gondolas                                                                | [{'translation_text': 'zheng 玩具和游戏趣味列车配件列车汽车货车'}]                  |\n",
      "| 41 | Home & Kitchen | Bedding | Kids' Bedding | Blankets & Throws | Throws                                                                               | [{'translation_text': 'zheng 家庭和厨房床单儿童床单毯子和布袋子'}]                  |\n",
      "| 42 | Pet Supplies | Dogs | Training & Behavior Aids | Agility Equipment | Tunnels                                                                        | [{'translation_text': 'zheng 养狗供应 养狗训练和行为辅助敏捷设备'}]                 |\n",
      "| 43 | Toys & Games | Dolls & Accessories | Dolls                                                                                                          | [{'translation_text': 'zheng 玩具游戏'}]                                            |\n",
      "| 44 | Toys & Games | Hobbies | Remote & App Controlled Vehicles & Parts | Remote & App Controlled Vehicle Parts                                           | [{'translation_text': 'zheng 玩具游戏趣味遥控设备和部件'}]                          |\n",
      "| 45 | Toys & Games | Learning & Education                                                                                                                 | [{'translation_text': 'zheng 玩具游戏学习和教育'}]                                  |\n",
      "| 46 | Toys & Games | Kids' Electronics | Electronic Learning Toys                                                                                         | [{'translation_text': 'zheng 玩具和游戏'}]                                          |\n",
      "| 47 | Clothing, Shoes & Jewelry | Novelty & More | Clothing | Novelty | Men | Shirts | T-Shirts                                                           | [{'translation_text': 'zheng 衣服鞋子珠宝新奇之路新奇之路男士衫衫'}]                |\n",
      "| 48 | Toys & Games | Hobbies | Hobby Building Tools & Hardware | Paints                                                                                   | [{'translation_text': 'zheng 玩具和游戏趣味趣味建材工具和硬件涂料'}]                |\n",
      "| 49 | Toys & Games | Arts & Crafts                                                                                                                        | [{'translation_text': 'zheng 玩具和游戏艺术和工艺'}]                                |\n",
      "| 50 | Toys & Games | Games & Accessories | Card Games                                                                                                     | [{'translation_text': 'zheng 玩具游戏游戏及配件'}]                                  |\n",
      "| 51 | Toys & Games | Dress Up & Pretend Play | Pretend Play | Kitchen Toys                                                                                | [{'translation_text': 'zheng 玩具游戏 穿衣服并假装播放假装播放厨房玩具'}]           |\n",
      "| 52 | Toys & Games | Dolls & Accessories | Dolls                                                                                                          | [{'translation_text': 'zheng 玩具游戏'}]                                            |\n",
      "| 53 | Toys & Games | Kids' Electronics | Electronic Learning Toys                                                                                         | [{'translation_text': 'zheng 玩具和游戏'}]                                          |\n",
      "| 54 | Toys & Games | Games & Accessories                                                                                                                  | [{'translation_text': 'zheng 玩具游戏'}]                                            |\n",
      "| 55 | Clothing, Shoes & Jewelry | Men | Accessories | Wallets, Card Cases & Money Organizers | Wallets                                                    | [{'translation_text': 'zheng 衣服鞋子和珠宝 男子配件钱包卡套件和钱包组织者'}]       |\n",
      "| 56 | Toys & Games | Toy Figures & Playsets | Action Figures                                                                                              | [{'translation_text': 'zheng 玩具和游戏玩具图像和剧情动作图像'}]                    |\n",
      "| 57 | Toys & Games | Baby & Toddler Toys                                                                                                                  | [{'translation_text': 'zhys 玩具和游戏宝宝宝宝宝宝宝宝宝'}]                         |\n",
      "| 58 | Toys & Games | Baby & Toddler Toys | Sorting & Stacking Toys                                                                                        | [{'translation_text': 'zheng 玩具和游戏'}]                                          |\n",
      "| 59 | Toys & Games | Collectible Toys | Statues, Bobbleheads & Busts | Statues                                                                            | [{'translation_text': 'zheng 玩具和游戏 收藏玩具'}]                                 |\n",
      "| 60 | Clothing, Shoes & Jewelry | Costumes & Accessories | Women | Wigs                                                                                   | [{'translation_text': 'zheng 衣服鞋子和珠宝'}]                                      |\n",
      "| 61 | Toys & Games | Toy Figures & Playsets | Action Figures                                                                                              | [{'translation_text': 'zheng 玩具和游戏玩具图像和剧情动作图像'}]                    |\n",
      "| 62 | Toys & Games | Toy Figures & Playsets | Action Figures                                                                                              | [{'translation_text': 'zheng 玩具和游戏玩具图像和剧情动作图像'}]                    |\n",
      "| 63 | Toys & Games | Stuffed Animals & Plush Toys | Stuffed Animals & Teddy Bears                                                                         | [{'translation_text': 'zheng 玩具和游戏 色动物'}]                                   |\n",
      "| 64 | Toys & Games | Dolls & Accessories | Dolls                                                                                                          | [{'translation_text': 'zheng 玩具游戏'}]                                            |\n",
      "| 65 | Toys & Games | Dolls & Accessories | Playsets                                                                                                       | [{'translation_text': 'zheng 玩具游戏玩具配件'}]                                    |\n",
      "| 66 | Toys & Games | Stuffed Animals & Plush Toys | Stuffed Animals & Teddy Bears                                                                         | [{'translation_text': 'zheng 玩具和游戏 色动物'}]                                   |\n",
      "| 67 | Toys & Games | Novelty & Gag Toys | Miniatures                                                                                                      | [{'translation_text': 'zheng 玩具游戏小说'}]                                        |\n",
      "| 68 | Toys & Games | Stuffed Animals & Plush Toys | Plush Puppets                                                                                         | [{'translation_text': 'zheng 玩具和游戏'}]                                          |\n",
      "| 69 | Toys & Games | Hobbies | Remote & App Controlled Vehicles & Parts | Remote & App Controlled Vehicle Parts | Wheels & Tires | Tires                  | [{'translation_text': 'zheng 玩具游戏趣味遥控设备和零件'}]                          |\n",
      "| 70 | Home & Kitchen | Home Décor | Kids' Room Décor | Wall Décor                                                                                         | [{'translation_text': 'zheng 家庭和厨房家庭装修儿童房间壁画装修'}]                  |\n",
      "| 71 | Toys & Games | Stuffed Animals & Plush Toys | Plush Figures                                                                                         | [{'translation_text': 'zheng 玩具游戏 色动物'}]                                     |\n",
      "| 72 | Toys & Games | Hobbies | Remote & App Controlled Vehicles & Parts | Remote & App Controlled Vehicle Parts | Power Plant & Driveline Systems | Axles | [{'translation_text': 'zheng 玩具游戏趣味 远程控制车辆和部件'}]                     |\n",
      "| 73 | Sports & Outdoors | Sports & Fitness | Team Sports | Volleyball | Volleyballs | Outdoor Volleyballs                                                 | [{'translation_text': 'zheng 运动和户外运动和健身运动队运动排球排球外排球'}]        |\n",
      "| 74 | Toys & Games | Toy Figures & Playsets | Playsets & Vehicles | Playsets                                                                              | [{'translation_text': 'zheng 玩具图像和播放器播放器播放器播放器播放器'}]            |\n",
      "| 75 | Toys & Games | Arts & Crafts | Clay & Dough                                                                                                         | [{'translation_text': 'zheng 玩具和游戏'}]                                          |\n",
      "| 76 | Toys & Games | Games & Accessories | Board Games                                                                                                    | [{'translation_text': 'zheng 玩具游戏游戏及配件'}]                                  |\n",
      "| 77 | Toys & Games | Stuffed Animals & Plush Toys | Plush Figures                                                                                         | [{'translation_text': 'zheng 玩具游戏 色动物'}]                                     |\n",
      "| 78 | Toys & Games | Games & Accessories | Game Accessories | Standard Game Dice                                                                          | [{'translation_text': 'zheng 玩具和游戏游戏配件游戏配件标准游戏棋牌'}]              |\n",
      "| 79 | Toys & Games | Kids' Electronics                                                                                                                    | [{'translation_text': 'zheng 儿童电子玩具'}]                                        |\n",
      "| 80 | Toys & Games | Dolls & Accessories | Dolls                                                                                                          | [{'translation_text': 'zheng 玩具游戏'}]                                            |\n",
      "| 81 | Sports & Outdoors | Fan Shop | Toys & Game Room | Games                                                                                             | [{'translation_text': 'zheng 运动和户外粉丝店玩具和游戏室游戏'}]                    |\n",
      "| 82 | Toys & Games | Dress Up & Pretend Play | Pretend Play | Kitchen Toys | Play Food                                                                    | [{'translation_text': 'zheng 玩具和游戏 穿衣服并假装播放假装播放厨房玩具播放食物'}] |\n",
      "| 83 | Toys & Games | Party Supplies | Banners                                                                                                             | [{'translation_text': 'zheng 玩具游戏派对用品'}]                                    |\n",
      "| 84 | Toys & Games | Baby & Toddler Toys                                                                                                                  | [{'translation_text': 'zhys 玩具和游戏宝宝宝宝宝宝宝宝宝'}]                         |\n",
      "| 85 | Toys & Games | Hobbies | Trains & Accessories | Train Cars                                                                                          | [{'translation_text': 'zheng 玩具和游戏趣味火车和配件火车汽车'}]                    |\n",
      "| 86 | Toys & Games | Games & Accessories | Card Games | Standard Playing Card Decks                                                                       | [{'translation_text': 'zheng 玩具和游戏游戏配件卡片游戏标准播放卡片'}]              |\n",
      "| 87 | Toys & Games | Stuffed Animals & Plush Toys                                                                                                         | [{'translation_text': 'zheng 玩具游戏'}]                                            |\n",
      "| 88 | Toys & Games | Hobbies | Remote & App Controlled Vehicles & Parts | Remote & App Controlled Vehicle Parts                                           | [{'translation_text': 'zheng 玩具游戏趣味遥控设备和部件'}]                          |\n",
      "| 89 | Toys & Games | Kids' Electronics                                                                                                                    | [{'translation_text': 'zheng 儿童电子玩具'}]                                        |\n",
      "| 90 | Toys & Games | Games & Accessories | Card Games | Standard Playing Card Decks                                                                       | [{'translation_text': 'zheng 玩具和游戏游戏配件卡片游戏标准播放卡片'}]              |\n"
     ]
    }
   ],
   "source": [
    "ecommerce_dataset = pandas.DataFrame(list(zip(en_list, zh_list)), columns=['Category-en', 'Category-zh'])\n",
    "print(ecommerce_dataset.to_markdown())"
   ]
  }
 ],
 "metadata": {
  "kernelspec": {
   "display_name": "Python 3",
   "language": "python",
   "name": "python3"
  },
  "language_info": {
   "codemirror_mode": {
    "name": "ipython",
    "version": 3
   },
   "file_extension": ".py",
   "mimetype": "text/x-python",
   "name": "python",
   "nbconvert_exporter": "python",
   "pygments_lexer": "ipython3",
   "version": "3.11.8"
  }
 },
 "nbformat": 4,
 "nbformat_minor": 2
}
