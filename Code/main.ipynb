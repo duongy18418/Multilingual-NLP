{
 "cells": [
  {
   "cell_type": "markdown",
   "metadata": {},
   "source": [
    "### For this project, we have decide to use a pretrained model NLLB-200 and finetune it to fit our project needs.\n",
    "Model link: https://huggingface.co/facebook/nllb-200-distilled-600M"
   ]
  },
  {
   "cell_type": "code",
   "execution_count": 2,
   "metadata": {},
   "outputs": [],
   "source": [
    "#Import packages\n",
    "from transformers import AutoTokenizer, AutoModelForSeq2SeqLM, TrainingArguments, Trainer, DataCollatorForSeq2Seq\n",
    "import numpy\n",
    "import evaluate\n",
    "import pandas\n",
    "from sklearn.model_selection import train_test_split\n",
    "from datasets import load_dataset, Dataset, DatasetDict"
   ]
  },
  {
   "cell_type": "code",
   "execution_count": 3,
   "metadata": {},
   "outputs": [],
   "source": [
    "#Load model directly\n",
    "tokenizer = AutoTokenizer.from_pretrained(\"facebook/nllb-200-distilled-600M\", src_lang = 'en', tgt_lang = 'zh')\n",
    "model = AutoModelForSeq2SeqLM.from_pretrained(\"facebook/nllb-200-distilled-600M\")"
   ]
  },
  {
   "cell_type": "markdown",
   "metadata": {},
   "source": [
    "We will be using 2 datasets from Amazon to finetune the NLLB-200 model. The source dataset will be in English and the target dataset will be in Chinese."
   ]
  },
  {
   "cell_type": "code",
   "execution_count": 4,
   "metadata": {},
   "outputs": [
    {
     "data": {
      "text/plain": [
       "DatasetDict({\n",
       "    train: Dataset({\n",
       "        features: ['en', 'zh'],\n",
       "        num_rows: 5061\n",
       "    })\n",
       "    test: Dataset({\n",
       "        features: ['en', 'zh'],\n",
       "        num_rows: 2250\n",
       "    })\n",
       "    dev: Dataset({\n",
       "        features: ['en', 'zh'],\n",
       "        num_rows: 1688\n",
       "    })\n",
       "})"
      ]
     },
     "execution_count": 4,
     "metadata": {},
     "output_type": "execute_result"
    }
   ],
   "source": [
    "#load the source dataset\n",
    "en_data = pandas.read_json('en-US.jsonl', lines=True)\n",
    "zh_data = pandas.read_json('zh-CN.jsonl', lines=True)\n",
    "\n",
    "data = pandas.concat([en_data['utt'], zh_data['utt']], axis=1, keys=['en', 'zh'])\n",
    "train_data, test_data = train_test_split(data)\n",
    "train_data, dev_data = train_test_split(train_data)\n",
    "\n",
    "dataset = DatasetDict({\n",
    "                        'train': Dataset.from_pandas(train_data),\n",
    "                        'test': Dataset.from_pandas(test_data),\n",
    "                        'dev': Dataset.from_pandas(dev_data)\n",
    "                    })\n",
    "dataset = dataset.remove_columns([\"__index_level_0__\"])\n",
    "dataset\n"
   ]
  },
  {
   "cell_type": "code",
   "execution_count": 5,
   "metadata": {},
   "outputs": [
    {
     "name": "stderr",
     "output_type": "stream",
     "text": [
      "Map: 100%|██████████| 5061/5061 [00:00<00:00, 12358.18 examples/s]\n",
      "Map: 100%|██████████| 2250/2250 [00:00<00:00, 20734.64 examples/s]\n",
      "Map: 100%|██████████| 1688/1688 [00:00<00:00, 19973.38 examples/s]\n"
     ]
    },
    {
     "data": {
      "text/plain": [
       "DatasetDict({\n",
       "    train: Dataset({\n",
       "        features: ['en', 'zh', 'input_ids', 'attention_mask', 'labels'],\n",
       "        num_rows: 5061\n",
       "    })\n",
       "    test: Dataset({\n",
       "        features: ['en', 'zh', 'input_ids', 'attention_mask', 'labels'],\n",
       "        num_rows: 2250\n",
       "    })\n",
       "    dev: Dataset({\n",
       "        features: ['en', 'zh', 'input_ids', 'attention_mask', 'labels'],\n",
       "        num_rows: 1688\n",
       "    })\n",
       "})"
      ]
     },
     "execution_count": 5,
     "metadata": {},
     "output_type": "execute_result"
    }
   ],
   "source": [
    "def tokenize_function(data):\n",
    "    #return tokenizer(data['en'], data['zh'], truncation=True)\n",
    "    padding = 'max_length'\n",
    "    max_length = 100\n",
    "    sources = [d for d in data['en']]\n",
    "    targets = [d for d in data['zh']]\n",
    "    inputs = tokenizer(sources, max_length=max_length, padding=padding, truncation=True)\n",
    "    label = tokenizer(targets, max_length=max_length, padding=padding, truncation=True)\n",
    "    inputs['labels'] = label['input_ids']\n",
    "    return inputs\n",
    "\n",
    "tokenized_dataset = dataset.map(tokenize_function, batched=True)\n",
    "tokenized_dataset"
   ]
  },
  {
   "cell_type": "markdown",
   "metadata": {},
   "source": [
    "We will be following the tutorial from Hugging Face to use PyTorch Trainer to finetune the pretrained model. https://huggingface.co/docs/transformers/en/training"
   ]
  },
  {
   "cell_type": "code",
   "execution_count": 6,
   "metadata": {},
   "outputs": [],
   "source": [
    "metric = evaluate.load('accuracy')\n",
    "\n",
    "def compute_metrics(eval_pred):\n",
    "    logits, labels = eval_pred\n",
    "    predictions = numpy.argmax(logits, axis=-1)\n",
    "    return metric.compute(predictions=predictions, references=labels)\n",
    "\n",
    "data_collator = DataCollatorForSeq2Seq(tokenizer=tokenizer,model=model)"
   ]
  },
  {
   "cell_type": "code",
   "execution_count": 7,
   "metadata": {},
   "outputs": [],
   "source": [
    "training_args = TrainingArguments(\n",
    "                    output_dir=\"Trained Model\", \n",
    "                    evaluation_strategy=\"epoch\"\n",
    "                    )\n",
    "\n",
    "trainer = Trainer(\n",
    "    model=model,\n",
    "    args=training_args,\n",
    "    train_dataset=tokenized_dataset['train'],\n",
    "    eval_dataset=tokenized_dataset['test'],\n",
    "    data_collator=data_collator,\n",
    "    tokenizer=tokenizer\n",
    ")\n"
   ]
  },
  {
   "cell_type": "code",
   "execution_count": 9,
   "metadata": {},
   "outputs": [
    {
     "name": "stderr",
     "output_type": "stream",
     "text": [
      " 26%|██▋       | 500/1899 [58:26<2:34:04,  6.61s/it]Some non-default generation parameters are set in the model config. These should go into a GenerationConfig file (https://huggingface.co/docs/transformers/generation_strategies#save-a-custom-decoding-strategy-with-your-model) instead. This warning will be raised to an exception in v4.41.\n",
      "Non-default generation parameters: {'max_length': 200}\n"
     ]
    },
    {
     "name": "stdout",
     "output_type": "stream",
     "text": [
      "{'loss': 2.4285, 'learning_rate': 3.683517640863612e-05, 'epoch': 0.79}\n"
     ]
    },
    {
     "name": "stderr",
     "output_type": "stream",
     "text": [
      "                                                      \n",
      " 33%|███▎      | 633/1899 [1:21:44<2:13:30,  6.33s/it]"
     ]
    },
    {
     "name": "stdout",
     "output_type": "stream",
     "text": [
      "{'eval_loss': 0.11612840741872787, 'eval_runtime': 466.6431, 'eval_samples_per_second': 4.822, 'eval_steps_per_second': 0.604, 'epoch': 1.0}\n"
     ]
    },
    {
     "name": "stderr",
     "output_type": "stream",
     "text": [
      " 53%|█████▎    | 1000/1899 [2:03:11<1:40:42,  6.72s/it] Some non-default generation parameters are set in the model config. These should go into a GenerationConfig file (https://huggingface.co/docs/transformers/generation_strategies#save-a-custom-decoding-strategy-with-your-model) instead. This warning will be raised to an exception in v4.41.\n",
      "Non-default generation parameters: {'max_length': 200}\n"
     ]
    },
    {
     "name": "stdout",
     "output_type": "stream",
     "text": [
      "{'loss': 0.1067, 'learning_rate': 2.367035281727225e-05, 'epoch': 1.58}\n"
     ]
    },
    {
     "name": "stderr",
     "output_type": "stream",
     "text": [
      "                                                       \n",
      " 67%|██████▋   | 1266/1899 [2:41:07<1:04:42,  6.13s/it]"
     ]
    },
    {
     "name": "stdout",
     "output_type": "stream",
     "text": [
      "{'eval_loss': 0.10672058910131454, 'eval_runtime': 466.9341, 'eval_samples_per_second': 4.819, 'eval_steps_per_second': 0.604, 'epoch': 2.0}\n"
     ]
    },
    {
     "name": "stderr",
     "output_type": "stream",
     "text": [
      " 79%|███████▉  | 1500/1899 [3:07:14<44:32,  6.70s/it]    Some non-default generation parameters are set in the model config. These should go into a GenerationConfig file (https://huggingface.co/docs/transformers/generation_strategies#save-a-custom-decoding-strategy-with-your-model) instead. This warning will be raised to an exception in v4.41.\n",
      "Non-default generation parameters: {'max_length': 200}\n"
     ]
    },
    {
     "name": "stdout",
     "output_type": "stream",
     "text": [
      "{'loss': 0.0856, 'learning_rate': 1.0505529225908373e-05, 'epoch': 2.37}\n"
     ]
    },
    {
     "name": "stderr",
     "output_type": "stream",
     "text": [
      "                                                     \n",
      "100%|██████████| 1899/1899 [3:59:35<00:00,  7.57s/it]"
     ]
    },
    {
     "name": "stdout",
     "output_type": "stream",
     "text": [
      "{'eval_loss': 0.10698454082012177, 'eval_runtime': 470.4405, 'eval_samples_per_second': 4.783, 'eval_steps_per_second': 0.599, 'epoch': 3.0}\n",
      "{'train_runtime': 14375.3035, 'train_samples_per_second': 1.056, 'train_steps_per_second': 0.132, 'train_loss': 0.7063732468623622, 'epoch': 3.0}\n"
     ]
    },
    {
     "name": "stderr",
     "output_type": "stream",
     "text": [
      "\n"
     ]
    },
    {
     "data": {
      "text/plain": [
       "TrainOutput(global_step=1899, training_loss=0.7063732468623622, metrics={'train_runtime': 14375.3035, 'train_samples_per_second': 1.056, 'train_steps_per_second': 0.132, 'train_loss': 0.7063732468623622, 'epoch': 3.0})"
      ]
     },
     "execution_count": 9,
     "metadata": {},
     "output_type": "execute_result"
    }
   ],
   "source": [
    "trainer.train()"
   ]
  },
  {
   "cell_type": "code",
   "execution_count": 10,
   "metadata": {},
   "outputs": [
    {
     "name": "stderr",
     "output_type": "stream",
     "text": [
      "Some non-default generation parameters are set in the model config. These should go into a GenerationConfig file (https://huggingface.co/docs/transformers/generation_strategies#save-a-custom-decoding-strategy-with-your-model) instead. This warning will be raised to an exception in v4.41.\n",
      "Non-default generation parameters: {'max_length': 200}\n"
     ]
    }
   ],
   "source": [
    "trainer.save_model('./Trained Model/FineTuned Model')"
   ]
  }
 ],
 "metadata": {
  "kernelspec": {
   "display_name": "Python 3",
   "language": "python",
   "name": "python3"
  },
  "language_info": {
   "codemirror_mode": {
    "name": "ipython",
    "version": 3
   },
   "file_extension": ".py",
   "mimetype": "text/x-python",
   "name": "python",
   "nbconvert_exporter": "python",
   "pygments_lexer": "ipython3",
   "version": "3.11.8"
  }
 },
 "nbformat": 4,
 "nbformat_minor": 2
}
