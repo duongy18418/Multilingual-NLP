{
 "cells": [
  {
   "cell_type": "markdown",
   "metadata": {},
   "source": [
    "### For this project, we have decide to use a pretrained model NLLB-200 and finetune it to fit our project needs.\n",
    "Model link: https://huggingface.co/facebook/nllb-200-distilled-600M"
   ]
  },
  {
   "cell_type": "code",
   "execution_count": 1,
   "metadata": {},
   "outputs": [
    {
     "name": "stderr",
     "output_type": "stream",
     "text": [
      "c:\\Users\\duong\\AppData\\Local\\Programs\\Python\\Python311\\Lib\\site-packages\\tqdm\\auto.py:21: TqdmWarning: IProgress not found. Please update jupyter and ipywidgets. See https://ipywidgets.readthedocs.io/en/stable/user_install.html\n",
      "  from .autonotebook import tqdm as notebook_tqdm\n"
     ]
    }
   ],
   "source": [
    "#Import packages\n",
    "from transformers import AutoTokenizer, AutoModelForSeq2SeqLM, TrainingArguments, Trainer, DataCollatorForSeq2Seq, pipeline\n",
    "import numpy\n",
    "import evaluate\n",
    "import pandas\n",
    "from sklearn.model_selection import train_test_split\n",
    "from datasets import load_dataset, Dataset, DatasetDict\n",
    "from datetime import datetime"
   ]
  },
  {
   "cell_type": "code",
   "execution_count": 2,
   "metadata": {},
   "outputs": [],
   "source": [
    "#Load model directly\n",
    "tokenizer = AutoTokenizer.from_pretrained(\"facebook/nllb-200-distilled-600M\", src_lang = 'en', tgt_lang = 'zh')\n",
    "model = AutoModelForSeq2SeqLM.from_pretrained(\"facebook/nllb-200-distilled-600M\")"
   ]
  },
  {
   "cell_type": "markdown",
   "metadata": {},
   "source": [
    "We will be using 2 datasets from Amazon to finetune the NLLB-200 model. The source dataset will be in English and the target dataset will be in Chinese."
   ]
  },
  {
   "cell_type": "code",
   "execution_count": 3,
   "metadata": {},
   "outputs": [
    {
     "data": {
      "text/plain": [
       "DatasetDict({\n",
       "    train: Dataset({\n",
       "        features: ['en', 'zh'],\n",
       "        num_rows: 4070\n",
       "    })\n",
       "    test: Dataset({\n",
       "        features: ['en', 'zh'],\n",
       "        num_rows: 1357\n",
       "    })\n",
       "})"
      ]
     },
     "execution_count": 3,
     "metadata": {},
     "output_type": "execute_result"
    }
   ],
   "source": [
    "#load the source dataset\n",
    "en_data = pandas.read_csv('./Datasets/Train/en-US.csv')\n",
    "zh_data = pandas.read_csv('./Datasets/Train/zh-CN.csv')\n",
    "\n",
    "data = pandas.concat([en_data['Categories'], zh_data['Categories']], axis=1, keys=['en', 'zh'])\n",
    "train_data, test_data = train_test_split(data)\n",
    "\n",
    "dataset = DatasetDict({\n",
    "                        'train': Dataset.from_pandas(train_data),\n",
    "                        'test': Dataset.from_pandas(test_data)\n",
    "                    })\n",
    "dataset = dataset.remove_columns([\"__index_level_0__\"])\n",
    "dataset"
   ]
  },
  {
   "cell_type": "markdown",
   "metadata": {},
   "source": [
    "We will be following the tutorials from Hugging Face to use PyTorch Trainer to finetune the pretrained model. https://huggingface.co/docs/transformers/en/training, https://huggingface.co/docs/transformers/tasks/translation"
   ]
  },
  {
   "cell_type": "code",
   "execution_count": 11,
   "metadata": {},
   "outputs": [],
   "source": [
    "def tokenize_function(data):\n",
    "    #return tokenizer(data['en'], data['zh'], truncation=True)\n",
    "    padding = 'max_length'\n",
    "    max_length = 300\n",
    "    sources = [str(d) for d in data['en']]\n",
    "    targets = [str(d) for d in data['zh']]\n",
    "    inputs = tokenizer(sources, max_length=max_length, padding=padding, truncation=True)\n",
    "    label = tokenizer(targets, max_length=max_length, padding=padding, truncation=True)\n",
    "    inputs['labels'] = label['input_ids']\n",
    "    return inputs"
   ]
  },
  {
   "cell_type": "code",
   "execution_count": 12,
   "metadata": {},
   "outputs": [
    {
     "name": "stderr",
     "output_type": "stream",
     "text": [
      "Map: 100%|██████████| 4070/4070 [00:00<00:00, 8343.75 examples/s]\n",
      "Map: 100%|██████████| 1357/1357 [00:00<00:00, 8430.81 examples/s]\n"
     ]
    },
    {
     "data": {
      "text/plain": [
       "DatasetDict({\n",
       "    train: Dataset({\n",
       "        features: ['en', 'zh', 'input_ids', 'attention_mask', 'labels'],\n",
       "        num_rows: 4070\n",
       "    })\n",
       "    test: Dataset({\n",
       "        features: ['en', 'zh', 'input_ids', 'attention_mask', 'labels'],\n",
       "        num_rows: 1357\n",
       "    })\n",
       "})"
      ]
     },
     "execution_count": 12,
     "metadata": {},
     "output_type": "execute_result"
    }
   ],
   "source": [
    "tokenized_dataset = dataset.map(tokenize_function, batched=True)\n",
    "tokenized_dataset"
   ]
  },
  {
   "cell_type": "code",
   "execution_count": 13,
   "metadata": {},
   "outputs": [],
   "source": [
    "metric = evaluate.load('accuracy')\n",
    "\n",
    "def compute_metrics(eval_pred):\n",
    "    logits, labels = eval_pred\n",
    "    predictions = numpy.argmax(logits, axis=-1)\n",
    "    return metric.compute(predictions=predictions, references=labels)\n",
    "\n",
    "data_collator = DataCollatorForSeq2Seq(tokenizer=tokenizer,model=model)"
   ]
  },
  {
   "cell_type": "code",
   "execution_count": 14,
   "metadata": {},
   "outputs": [],
   "source": [
    "training_args = TrainingArguments(\n",
    "                    output_dir=\"Trained Model\", \n",
    "                    evaluation_strategy=\"epoch\"\n",
    "                    )\n",
    "\n",
    "trainer = Trainer(\n",
    "    model=model,\n",
    "    args=training_args,\n",
    "    train_dataset=tokenized_dataset['train'],\n",
    "    eval_dataset=tokenized_dataset['test'],\n",
    "    data_collator=data_collator,\n",
    "    tokenizer=tokenizer\n",
    ")"
   ]
  },
  {
   "cell_type": "code",
   "execution_count": 15,
   "metadata": {},
   "outputs": [
    {
     "name": "stderr",
     "output_type": "stream",
     "text": [
      " 33%|███▎      | 500/1527 [2:20:37<4:45:40, 16.69s/it]Some non-default generation parameters are set in the model config. These should go into a GenerationConfig file (https://huggingface.co/docs/transformers/generation_strategies#save-a-custom-decoding-strategy-with-your-model) instead. This warning will be raised to an exception in v4.41.\n",
      "Non-default generation parameters: {'max_length': 200}\n"
     ]
    },
    {
     "name": "stdout",
     "output_type": "stream",
     "text": [
      "{'loss': 2.4492, 'learning_rate': 3.362802881466929e-05, 'epoch': 0.98}\n"
     ]
    },
    {
     "name": "stderr",
     "output_type": "stream",
     "text": [
      "                                                      \n",
      " 33%|███▎      | 509/1527 [2:38:37<4:28:27, 15.82s/it]"
     ]
    },
    {
     "name": "stdout",
     "output_type": "stream",
     "text": [
      "{'eval_loss': 0.10732854902744293, 'eval_runtime': 927.1849, 'eval_samples_per_second': 1.464, 'eval_steps_per_second': 0.183, 'epoch': 1.0}\n"
     ]
    },
    {
     "name": "stderr",
     "output_type": "stream",
     "text": [
      " 65%|██████▌   | 1000/1527 [4:55:54<2:27:24, 16.78s/it] Some non-default generation parameters are set in the model config. These should go into a GenerationConfig file (https://huggingface.co/docs/transformers/generation_strategies#save-a-custom-decoding-strategy-with-your-model) instead. This warning will be raised to an exception in v4.41.\n",
      "Non-default generation parameters: {'max_length': 200}\n"
     ]
    },
    {
     "name": "stdout",
     "output_type": "stream",
     "text": [
      "{'loss': 0.099, 'learning_rate': 1.7256057629338573e-05, 'epoch': 1.96}\n"
     ]
    },
    {
     "name": "stderr",
     "output_type": "stream",
     "text": [
      "                                                       \n",
      " 67%|██████▋   | 1018/1527 [5:16:25<2:13:51, 15.78s/it]"
     ]
    },
    {
     "name": "stdout",
     "output_type": "stream",
     "text": [
      "{'eval_loss': 0.08964341878890991, 'eval_runtime': 926.6748, 'eval_samples_per_second': 1.464, 'eval_steps_per_second': 0.183, 'epoch': 2.0}\n"
     ]
    },
    {
     "name": "stderr",
     "output_type": "stream",
     "text": [
      " 98%|█████████▊| 1500/1527 [7:31:12<07:32, 16.76s/it]    Some non-default generation parameters are set in the model config. These should go into a GenerationConfig file (https://huggingface.co/docs/transformers/generation_strategies#save-a-custom-decoding-strategy-with-your-model) instead. This warning will be raised to an exception in v4.41.\n",
      "Non-default generation parameters: {'max_length': 200}\n"
     ]
    },
    {
     "name": "stdout",
     "output_type": "stream",
     "text": [
      "{'loss': 0.0862, 'learning_rate': 8.840864440078585e-07, 'epoch': 2.95}\n"
     ]
    },
    {
     "name": "stderr",
     "output_type": "stream",
     "text": [
      "                                                     \n",
      "100%|██████████| 1527/1527 [7:54:16<00:00, 18.64s/it]\n",
      "Some non-default generation parameters are set in the model config. These should go into a GenerationConfig file (https://huggingface.co/docs/transformers/generation_strategies#save-a-custom-decoding-strategy-with-your-model) instead. This warning will be raised to an exception in v4.41.\n",
      "Non-default generation parameters: {'max_length': 200}\n"
     ]
    },
    {
     "name": "stdout",
     "output_type": "stream",
     "text": [
      "{'eval_loss': 0.08631503582000732, 'eval_runtime': 928.7818, 'eval_samples_per_second': 1.461, 'eval_steps_per_second': 0.183, 'epoch': 3.0}\n",
      "{'train_runtime': 28456.2952, 'train_samples_per_second': 0.429, 'train_steps_per_second': 0.054, 'train_loss': 0.8641671183535533, 'epoch': 3.0}\n"
     ]
    }
   ],
   "source": [
    "trainer.train()\n",
    "trainer.save_model('./Trained Model/FineTuned Model')"
   ]
  },
  {
   "cell_type": "markdown",
   "metadata": {},
   "source": [
    "Once we finished training our model, it is saved to the Trained Model folder. However, due to the size limit of GitHub, the final version of the FineTuned Model is pushed to a Hugging Face repo so that we can easily reference it for further usage."
   ]
  },
  {
   "cell_type": "code",
   "execution_count": 24,
   "metadata": {},
   "outputs": [
    {
     "name": "stderr",
     "output_type": "stream",
     "text": [
      "Some non-default generation parameters are set in the model config. These should go into a GenerationConfig file (https://huggingface.co/docs/transformers/generation_strategies#save-a-custom-decoding-strategy-with-your-model) instead. This warning will be raised to an exception in v4.41.\n",
      "Non-default generation parameters: {'max_length': 200}\n"
     ]
    }
   ],
   "source": []
  },
  {
   "cell_type": "markdown",
   "metadata": {},
   "source": [
    "The next step is to test our fine tune model to make sure everything is working correctly."
   ]
  },
  {
   "cell_type": "code",
   "execution_count": 16,
   "metadata": {},
   "outputs": [
    {
     "name": "stderr",
     "output_type": "stream",
     "text": [
      "config.json: 100%|██████████| 896/896 [00:00<?, ?B/s] \n",
      "model.safetensors: 100%|██████████| 2.46G/2.46G [00:24<00:00, 99.4MB/s]\n",
      "generation_config.json: 100%|██████████| 184/184 [00:00<?, ?B/s] \n",
      "tokenizer_config.json: 100%|██████████| 39.9k/39.9k [00:00<00:00, 39.9MB/s]\n",
      "sentencepiece.bpe.model: 100%|██████████| 4.85M/4.85M [00:00<00:00, 21.7MB/s]\n",
      "tokenizer.json: 100%|██████████| 17.3M/17.3M [00:00<00:00, 89.4MB/s]\n",
      "special_tokens_map.json: 100%|██████████| 4.23k/4.23k [00:00<?, ?B/s]\n"
     ]
    }
   ],
   "source": [
    "translator = pipeline(\"translation\", model=\"duongy18418/E-commerce_Translation_Model\")"
   ]
  },
  {
   "cell_type": "code",
   "execution_count": 17,
   "metadata": {},
   "outputs": [],
   "source": [
    "ecommerce_dataset = pandas.read_csv(\"./Datasets/Test/Amazon_Ecommerce_Data_2020.csv\", usecols=[\"Category\"], nrows=100)\n",
    "ecommerce_dataset = ecommerce_dataset.dropna()\n",
    "en_list = ecommerce_dataset['Category'].tolist()\n",
    "zh_list = []"
   ]
  },
  {
   "cell_type": "code",
   "execution_count": 18,
   "metadata": {},
   "outputs": [],
   "source": [
    "for i in range(len(en_list)):\n",
    "    zh_list.append(translator(en_list[i], src_lang='en', tgt_lang='zh'))"
   ]
  },
  {
   "cell_type": "code",
   "execution_count": 19,
   "metadata": {},
   "outputs": [
    {
     "name": "stdout",
     "output_type": "stream",
     "text": [
      "|    | Category-en                                                                                                                     | Category-zh                                                                                                                                                                                                                                                                                                                                                             |\n",
      "|---:|:--------------------------------------------------------------------------------------------------------------------------------|:------------------------------------------------------------------------------------------------------------------------------------------------------------------------------------------------------------------------------------------------------------------------------------------------------------------------------------------------------------------------|\n",
      "|  0 | Sports Outdoors Outdoor Recreation Skates, Skateboards Scooters Skateboarding Standard Skateboards Longboards Longboards        | [{'translation_text': 'zh.cz 玩具/游戏 玩具 玩具/玩具 玩具/玩具玩具 玩具玩具玩具'}]                                                                                                                                                                                                                                                                                     |\n",
      "|  1 | Toys Games Learning Education Science Kits Toys                                                                                 | [{'translation_text': 'zhh 电子产品 计算机/电脑 电脑组件 存储设备 存储设备 存储设备 存储设备 存储设备 存储设备 存储设备 存储设备 存储设备 存储设备 存储设备 存储设备 存储设备 存储设备 存储设备 存储设备 存储存储存器'}]                                                                                                                                                |\n",
      "|  2 | Toys Games Arts Crafts Craft Kits                                                                                               | [{'translation_text': 'zh?n? c?n? c?n? c?n? c?n? c?n? c?n? c?n? c?n? c?n? c?n? c?o'}]                                                                                                                                                                                                                                                                                   |\n",
      "|  3 | Toys Games Hobbies Models Model Kits Model Kits Airplane Jet Kits                                                               | [{'translation_text': 'zhh 电子产品 计算机/电脑 电脑组件 存储设备 存储设备 存储设备 存储设备 存储设备 存储设备 存储设备 存储设备 存储设备 存储设备 存储设备 存储设备 存储设备 存储设备 存储设备 存储设备 存储存储存器'}]                                                                                                                                                |\n",
      "|  4 | Toys Games Puzzles Jigsaw Puzzles                                                                                               | [{'translation_text': 'zh?n? c?n? c?n? c?n? c?n? c?n? c?n? c?n? c?n? c?n? c?n? c?o'}]                                                                                                                                                                                                                                                                                   |\n",
      "|  5 | Clothing, Shoes Jewelry Costumes Accessories Kids Baby Girls Costumes                                                           | [{'translation_text': 'zh?n?n? c?n? c?n? c?n? c?n? c?n? c?n? c?n? c?n? c?n? c?n? c?o'}]                                                                                                                                                                                                                                                                                 |\n",
      "|  6 | Toys Games Arts Crafts Drawing Painting Supplies Crayons                                                                        | [{'translation_text': 'zh?n? c?n? c?n? c?n? c?n? c?n? c?n? c?n? c?n? c?n? c?n? c?n? c'}]                                                                                                                                                                                                                                                                                |\n",
      "|  7 | Home Kitchen Home Decor Window Treatments Window Stickers Films Window Films                                                    | [{'translation_text': 'zh?n?n?c?n? c?o n?e?e?i?e?o n?e?o'}]                                                                                                                                                                                                                                                                                                             |\n",
      "|  8 | Toys Games Baby Toddler Toys                                                                                                    | [{'translation_text': 'zh?n? c?n? c?n? c?n? c?n? c?n? c?n? c?n? c?n? c?n? c?n? c?o'}]                                                                                                                                                                                                                                                                                   |\n",
      "|  9 | Toys Games Collectible Toys Statues, Bobbleheads Busts Statues                                                                  | [{'translation_text': 'zh.cz 玩具/游戏 玩具 玩具/玩具 玩具/玩具/玩具 玩具/玩具/玩具 玩具/玩具/玩具/玩具 玩具/玩具/玩具/玩具 玩具/玩具/玩具/玩具 玩具/玩具/玩具 玩具/玩具/玩具 玩具/玩具/玩具 玩具/玩具/玩具 玩具/玩具 玩具/玩具 玩具/玩具 玩具/玩具 玩具/玩具 玩具/玩具 玩具/玩具 玩具/玩具 玩具/玩具 玩具 玩具/玩具 玩具 玩具/玩具 玩具 玩具/玩具 玩具 玩具/玩具 玩'}] |\n",
      "| 10 | Baby Products Nursery decor Window Treatments Valances                                                                          | [{'translation_text': 'zh?n? c?e?e?e?e?o ni?e?e?o ni?e?o ni?e?o'}]                                                                                                                                                                                                                                                                                                      |\n",
      "| 11 | Toys Games Building Toys Building Sets                                                                                          | [{'translation_text': 'zh?n? c?e?e?e?e?e?o ni?e?e?o ni?e?o'}]                                                                                                                                                                                                                                                                                                           |\n",
      "| 12 | Toys Games Arts Crafts Craft Kits                                                                                               | [{'translation_text': 'zh?n? c?n? c?n? c?n? c?n? c?n? c?n? c?n? c?n? c?n? c?n? c?o'}]                                                                                                                                                                                                                                                                                   |\n",
      "| 13 | Toys Games Baby Toddler Toys Musical Toys                                                                                       | [{'translation_text': 'zh?n? c?e?e?e?e?e?o ni?e?e?o ni?e?o'}]                                                                                                                                                                                                                                                                                                           |\n",
      "| 14 | Toys Games Learning Education Flash Cards                                                                                       | [{'translation_text': 'zh?n? c?e?e?e?e?o ni?e?e?o ni?e?o ni?e?o'}]                                                                                                                                                                                                                                                                                                      |\n",
      "| 15 | Home Kitchen Furniture Kids' Furniture Tables Chairs Tables                                                                     | [{'translation_text': 'zh?n?n?c?n? c?o n?o'}]                                                                                                                                                                                                                                                                                                                           |\n",
      "| 16 | Toys Games Novelty Gag Toys Money Banks                                                                                         | [{'translation_text': 'zh?n? c?e?e?e?e?o ni?e?e?o ni?e?o ni?e?o'}]                                                                                                                                                                                                                                                                                                      |\n",
      "| 17 | Toys Games Baby Toddler Toys Musical Toys                                                                                       | [{'translation_text': 'zh?n? c?e?e?e?e?e?o ni?e?e?o ni?e?o'}]                                                                                                                                                                                                                                                                                                           |\n",
      "| 18 | Toys Games Sports Outdoor Play Slumber Bags                                                                                     | [{'translation_text': 'zhh 电子产品 计算机/电脑 电脑组件 存储设备 存储设备 存储设备 存储设备 存储设备 存储设备 存储设备 存储设备 存储设备 存储设备 存储设备 存储设备 存储设备 存储设备 存储设备 存储设备 存储存储存器'}]                                                                                                                                                |\n",
      "| 19 | Toys Games Hobbies Hobby Building Tools Hardware RC Linkages                                                                    | [{'translation_text': 'zh.exe 电子产品 游戏机配件 掌机配件'}]                                                                                                                                                                                                                                                                                                           |\n",
      "| 20 | Toys Games Building Toys Building Sets                                                                                          | [{'translation_text': 'zh?n? c?e?e?e?e?e?o ni?e?e?o ni?e?o'}]                                                                                                                                                                                                                                                                                                           |\n",
      "| 21 | Toys Games Party Supplies Party Tableware Plates                                                                                | [{'translation_text': 'zh?n? c?e?e?e?e?e?o ni?e?e?o ni?e?o'}]                                                                                                                                                                                                                                                                                                           |\n",
      "| 22 | Toys Games Baby Toddler Toys Teaching Clocks                                                                                    | [{'translation_text': 'zh?n? c?n? c?n? c?n? c?n? c?n? c?n? c?n? c?n? c?n? c?n? c?o'}]                                                                                                                                                                                                                                                                                   |\n",
      "| 23 | Toys Games Tricycles, Scooters Wagons Balance Bikes                                                                             | [{'translation_text': 'zh?n? c?n? c?n? c?n? c?n? c?n? c?n? c?n? c?n? c?n? c?n? c'}]                                                                                                                                                                                                                                                                                     |\n",
      "| 24 | Toys Games Kids' Electronics                                                                                                    | [{'translation_text': 'zh?n? c?e?e?e?e?e?o ni?e?e?o ni?e?o'}]                                                                                                                                                                                                                                                                                                           |\n",
      "| 25 | Home Kitchen Home decor Kids' Room decor                                                                                        | [{'translation_text': 'zhh 电子产品 游戏机配件 家用游戏机配件'}]                                                                                                                                                                                                                                                                                                        |\n",
      "| 26 | Baby Products Nursery decor Wall decor Growth Charts                                                                            | [{'translation_text': 'zh?n? c?e?e?e?e?o ni?e?e?o ni?e?o ni?e?o'}]                                                                                                                                                                                                                                                                                                      |\n",
      "| 27 | Toys Games Puzzles Jigsaw Puzzles                                                                                               | [{'translation_text': 'zh?n? c?n? c?n? c?n? c?n? c?n? c?n? c?n? c?n? c?n? c?n? c?o'}]                                                                                                                                                                                                                                                                                   |\n",
      "| 28 | Sports Outdoors Sports Fitness Team Sports                                                                                      | [{'translation_text': 'zhh 电子产品 计算机/电脑 电脑组件 存储设备 存储设备 存储设备 存储设备 存储设备 存储设备 存储设备 存储设备 存储设备 存储设备 存储设备 存储设备 存储设备 存储设备 存储设备 存储设备 存储存储存器'}]                                                                                                                                                |\n",
      "| 29 | Toys Games Dress Up Pretend Play Costumes                                                                                       | [{'translation_text': 'zh?n? c?e?e?e?e?e?o ni?e?e?o ni?e?o'}]                                                                                                                                                                                                                                                                                                           |\n",
      "| 30 | Home Kitchen Bedding Kids' Bedding Comforters Sets Comforter Sets                                                               | [{'translation_text': 'zh?n?n?c?n? c?o n?o c?o n?o c?o n?o'}]                                                                                                                                                                                                                                                                                                           |\n",
      "| 31 | Toys Games Toy Figures Playsets Action Figures                                                                                  | [{'translation_text': 'zh?n? c?e?e?e?e?e?o ni?e?e?o ni?e?o'}]                                                                                                                                                                                                                                                                                                           |\n",
      "| 32 | Clothing, Shoes Jewelry Costumes Accessories Kids Baby Boys Costumes                                                            | [{'translation_text': 'zh?n?n? c?n? c?n? c?n? c?n? c?n? c?n? c?n? c?n? c?n? c?n? c?o'}]                                                                                                                                                                                                                                                                                 |\n",
      "| 33 | Toys Games Play Vehicles                                                                                                        | [{'translation_text': 'zh?n? c?e?e?e?e?o ni?e?e?o ni?e?o'}]                                                                                                                                                                                                                                                                                                             |\n",
      "| 34 | Toys Games Novelty Gag Toys                                                                                                     | [{'translation_text': 'zh?n? c?e?e?e?e?e?o ni?e?e?o ni?e?o'}]                                                                                                                                                                                                                                                                                                           |\n",
      "| 35 | Toys Games Party Supplies                                                                                                       | [{'translation_text': 'zh?n? c?e?e?e?e?e?o ni?e?e?o ni?e?o'}]                                                                                                                                                                                                                                                                                                           |\n",
      "| 36 | Toys Games Party Supplies Banners                                                                                               | [{'translation_text': 'zh?n? c?e?e?e?e?o ni?e?e?o ni?e?o ni?e?o'}]                                                                                                                                                                                                                                                                                                      |\n",
      "| 37 | Toys Games Dolls Accessories Doll Accessories                                                                                   | [{'translation_text': 'zh?n? c?e?e?e?e?e?o ni?e?e?o ni?e?o'}]                                                                                                                                                                                                                                                                                                           |\n",
      "| 38 | Toys Games Arts Crafts Craft Kits                                                                                               | [{'translation_text': 'zh?n? c?n? c?n? c?n? c?n? c?n? c?n? c?n? c?n? c?n? c?n? c?o'}]                                                                                                                                                                                                                                                                                   |\n",
      "| 39 | Toys Games Games Accessories                                                                                                    | [{'translation_text': 'zh?n? c?e?e?e?e?o ni?e?e?o ni?e?o ni?e?o'}]                                                                                                                                                                                                                                                                                                      |\n",
      "| 40 | Toys Games Hobbies Trains Accessories Train Cars Freight Cars Gondolas                                                          | [{'translation_text': 'zh?n? c?e?e?e?e?o ni?e?e?o ni?e?o'}]                                                                                                                                                                                                                                                                                                             |\n",
      "| 41 | Home Kitchen Bedding Kids' Bedding Blankets Throws Throws                                                                       | [{'translation_text': 'zh?n?n?c?n? c?o n?o c?o n?o c?o n?o'}]                                                                                                                                                                                                                                                                                                           |\n",
      "| 42 | Pet Supplies Dogs Training Behavior Aids Agility Equipment Tunnels                                                              | [{'translation_text': 'zh.cz 艺术/娱乐 爱好/艺术创作 乐器配件 木管乐器配件 长笛配件 长笛管'}]                                                                                                                                                                                                                                                                           |\n",
      "| 43 | Toys Games Dolls Accessories Dolls                                                                                              | [{'translation_text': 'zh?n? c?e?e?e?e?e?o ni?e?e?o ni?e?o'}]                                                                                                                                                                                                                                                                                                           |\n",
      "| 44 | Toys Games Hobbies Remote App Controlled Vehicles Parts Remote App Controlled Vehicle Parts                                     | [{'translation_text': 'zh?n?c? c?e?e?o n?eueo'}]                                                                                                                                                                                                                                                                                                                        |\n",
      "| 45 | Toys Games Learning Education                                                                                                   | [{'translation_text': 'zh?n? c?e?e?e?e?e?o ni?e?e?o ni?e?o'}]                                                                                                                                                                                                                                                                                                           |\n",
      "| 46 | Toys Games Kids' Electronics Electronic Learning Toys                                                                           | [{'translation_text': 'zh?n? c?e?e?e?e?o/ni?e?e?'}]                                                                                                                                                                                                                                                                                                                     |\n",
      "| 47 | Clothing, Shoes Jewelry Novelty More Clothing Novelty Men Shirts T-Shirts                                                       | [{'translation_text': 'zh?n?n? c?n? c?n? c?n? c?n? c?n? c?n? c?n? c?n? c?n? c?n? c?o'}]                                                                                                                                                                                                                                                                                 |\n",
      "| 48 | Toys Games Hobbies Hobby Building Tools Hardware Paints                                                                         | [{'translation_text': 'zh?n? c?e?e?e?e?o ni?e?e?o ni?e?o ni?e?o'}]                                                                                                                                                                                                                                                                                                      |\n",
      "| 49 | Toys Games Arts Crafts                                                                                                          | [{'translation_text': 'zh?n? c?e?e?e?e?e?o ni?e?e?o ni?e?o'}]                                                                                                                                                                                                                                                                                                           |\n",
      "| 50 | Toys Games Games Accessories Card Games                                                                                         | [{'translation_text': 'zh?n? c?e?e?e?e?o ni?e?e?o ni?e?o ni?e?o'}]                                                                                                                                                                                                                                                                                                      |\n",
      "| 51 | Toys Games Dress Up Pretend Play Pretend Play Kitchen Toys                                                                      | [{'translation_text': 'zh?n? c?e?e?e?e?o ni?e?e?o ni?e?o ni?e?o'}]                                                                                                                                                                                                                                                                                                      |\n",
      "| 52 | Toys Games Dolls Accessories Dolls                                                                                              | [{'translation_text': 'zh?n? c?e?e?e?e?e?o ni?e?e?o ni?e?o'}]                                                                                                                                                                                                                                                                                                           |\n",
      "| 53 | Toys Games Kids' Electronics Electronic Learning Toys                                                                           | [{'translation_text': 'zh?n? c?e?e?e?e?o/ni?e?e?'}]                                                                                                                                                                                                                                                                                                                     |\n",
      "| 54 | Toys Games Games Accessories                                                                                                    | [{'translation_text': 'zh?n? c?e?e?e?e?o ni?e?e?o ni?e?o ni?e?o'}]                                                                                                                                                                                                                                                                                                      |\n",
      "| 55 | Clothing, Shoes Jewelry Men Accessories Wallets, Card Cases Money Organizers Wallets                                            | [{'translation_text': 'zh.cz 艺术/娱乐 爱好/艺术创作 乐器配件 木管乐器配件 长笛配件 长笛管'}]                                                                                                                                                                                                                                                                           |\n",
      "| 56 | Toys Games Toy Figures Playsets Action Figures                                                                                  | [{'translation_text': 'zh?n? c?e?e?e?e?e?o ni?e?e?o ni?e?o'}]                                                                                                                                                                                                                                                                                                           |\n",
      "| 57 | Toys Games Baby Toddler Toys                                                                                                    | [{'translation_text': 'zh?n? c?n? c?n? c?n? c?n? c?n? c?n? c?n? c?n? c?n? c?n? c?o'}]                                                                                                                                                                                                                                                                                   |\n",
      "| 58 | Toys Games Baby Toddler Toys Sorting Stacking Toys                                                                              | [{'translation_text': 'zh?n? c?e?e?e?e?o ni?e?e?o ni?e?o ni?e?o'}]                                                                                                                                                                                                                                                                                                      |\n",
      "| 59 | Toys Games Collectible Toys Statues, Bobbleheads Busts Statues                                                                  | [{'translation_text': 'zh.cz 玩具/游戏 玩具 玩具/玩具 玩具/玩具/玩具 玩具/玩具/玩具 玩具/玩具/玩具/玩具 玩具/玩具/玩具/玩具 玩具/玩具/玩具/玩具 玩具/玩具/玩具 玩具/玩具/玩具 玩具/玩具/玩具 玩具/玩具/玩具 玩具/玩具 玩具/玩具 玩具/玩具 玩具/玩具 玩具/玩具 玩具/玩具 玩具/玩具 玩具/玩具 玩具/玩具 玩具 玩具/玩具 玩具 玩具/玩具 玩具 玩具/玩具 玩具 玩具/玩具 玩'}] |\n",
      "| 60 | Clothing, Shoes Jewelry Costumes Accessories Women Wigs                                                                         | [{'translation_text': 'zh?n?n?c? n?h? n?h? n?h? n?h? n?h? n?h? n?h? n?h? n?h? n?h? n?h? n?h? n?h? n?h? n?h? n?h? n?h? n?h? n? n?h? n? n?h? n?h? n?h? n?h? n?h? n?h? n?h? n?h? n?h? n?h? n?h? n?h? n?h? n?h? n?h? n?h? n?h? n?h? n?h? n?h? n'}]                                                                                                                          |\n",
      "| 61 | Toys Games Toy Figures Playsets Action Figures                                                                                  | [{'translation_text': 'zh?n? c?e?e?e?e?e?o ni?e?e?o ni?e?o'}]                                                                                                                                                                                                                                                                                                           |\n",
      "| 62 | Toys Games Toy Figures Playsets Action Figures                                                                                  | [{'translation_text': 'zh?n? c?e?e?e?e?e?o ni?e?e?o ni?e?o'}]                                                                                                                                                                                                                                                                                                           |\n",
      "| 63 | Toys Games Stuffed Animals Plush Toys Stuffed Animals Teddy Bears                                                               | [{'translation_text': 'zh?n? c?e?e?e?e?e?o ni?e?e?o ni?e?o'}]                                                                                                                                                                                                                                                                                                           |\n",
      "| 64 | Toys Games Dolls Accessories Dolls                                                                                              | [{'translation_text': 'zh?n? c?e?e?e?e?e?o ni?e?e?o ni?e?o'}]                                                                                                                                                                                                                                                                                                           |\n",
      "| 65 | Toys Games Dolls Accessories Playsets                                                                                           | [{'translation_text': 'zh?n? c?e?e?e?e?e?o ni?e?e?o ni?e?o'}]                                                                                                                                                                                                                                                                                                           |\n",
      "| 66 | Toys Games Stuffed Animals Plush Toys Stuffed Animals Teddy Bears                                                               | [{'translation_text': 'zh?n? c?e?e?e?e?e?o ni?e?e?o ni?e?o'}]                                                                                                                                                                                                                                                                                                           |\n",
      "| 67 | Toys Games Novelty Gag Toys Miniatures                                                                                          | [{'translation_text': 'zh?n? c?e?e?e?e?o ni?e?e?o ni?e?o ni?e?o'}]                                                                                                                                                                                                                                                                                                      |\n",
      "| 68 | Toys Games Stuffed Animals Plush Toys Plush Puppets                                                                             | [{'translation_text': 'zh?n? c?e?e?e?e?e?o ni?e?e?o ni?e?o'}]                                                                                                                                                                                                                                                                                                           |\n",
      "| 69 | Toys Games Hobbies Remote App Controlled Vehicles Parts Remote App Controlled Vehicle Parts Wheels Tires Tires                  | [{'translation_text': 'zh.cz 玩具/游戏 玩具 玩具/游戏 玩具/玩具游戏'}]                                                                                                                                                                                                                                                                                                  |\n",
      "| 70 | Home Kitchen Home decor Kids' Room decor Wall decor                                                                             | [{'translation_text': 'zhh 电子产品 游戏机配件 家用游戏机配件'}]                                                                                                                                                                                                                                                                                                        |\n",
      "| 71 | Toys Games Stuffed Animals Plush Toys Plush Figures                                                                             | [{'translation_text': 'zh?n? c?e?e?e?e?e?o ni?e?e?o ni?e?o'}]                                                                                                                                                                                                                                                                                                           |\n",
      "| 72 | Toys Games Hobbies Remote App Controlled Vehicles Parts Remote App Controlled Vehicle Parts Power Plant Driveline Systems Axles | [{'translation_text': 'zh.cz 玩具/游戏 玩具 玩具/游戏 玩具/玩具游戏'}]                                                                                                                                                                                                                                                                                                  |\n",
      "| 73 | Sports Outdoors Sports Fitness Team Sports Volleyball Volleyballs Outdoor Volleyballs                                           | [{'translation_text': 'zhh 电子产品 计算机/电脑 电脑组件 存储设备 存储设备 存储设备 存储设备 存储设备 存储设备 存储设备 存储设备 存储设备 存储设备 存储设备 存储设备 存储设备 存储设备 存储设备 存储设备 存储存储存器'}]                                                                                                                                                |\n",
      "| 74 | Toys Games Toy Figures Playsets Playsets Vehicles Playsets                                                                      | [{'translation_text': 'zh?n?n?c?n? c?o n?o'}]                                                                                                                                                                                                                                                                                                                           |\n",
      "| 75 | Toys Games Arts Crafts Clay Dough                                                                                               | [{'translation_text': 'zh?n? c?n? c?n? c?n? c?n? c?n? c?n? c?n? c?n? c?n? c?n? c?o'}]                                                                                                                                                                                                                                                                                   |\n",
      "| 76 | Toys Games Games Accessories Board Games                                                                                        | [{'translation_text': 'zh?n? c?e?e?e?e?o ni?e?e?o ni?e?o'}]                                                                                                                                                                                                                                                                                                             |\n",
      "| 77 | Toys Games Stuffed Animals Plush Toys Plush Figures                                                                             | [{'translation_text': 'zh?n? c?e?e?e?e?e?o ni?e?e?o ni?e?o'}]                                                                                                                                                                                                                                                                                                           |\n",
      "| 78 | Toys Games Games Accessories Game Accessories Standard Game Dice                                                                | [{'translation_text': 'zh?n? c?e?e?e?e?o ni?e?e?o ni?e?o ni?e?o'}]                                                                                                                                                                                                                                                                                                      |\n",
      "| 79 | Toys Games Kids' Electronics                                                                                                    | [{'translation_text': 'zh?n? c?e?e?e?e?e?o ni?e?e?o ni?e?o'}]                                                                                                                                                                                                                                                                                                           |\n",
      "| 80 | Toys Games Dolls Accessories Dolls                                                                                              | [{'translation_text': 'zh?n? c?e?e?e?e?e?o ni?e?e?o ni?e?o'}]                                                                                                                                                                                                                                                                                                           |\n",
      "| 81 | Sports Outdoors Fan Shop Toys Game Room Games                                                                                   | [{'translation_text': 'zh?n? c?e?e?e?e?e?o ni?e?e?o ni?e?o'}]                                                                                                                                                                                                                                                                                                           |\n",
      "| 82 | Toys Games Dress Up Pretend Play Pretend Play Kitchen Toys Play Food                                                            | [{'translation_text': 'zhh 电子产品 计算机/电脑 电脑组件 存储设备 存储设备 存储设备 存储设备 存储设备 存储设备 存储设备 存储设备 存储设备 存储设备 存储设备 存储设备 存储设备 存储设备 存储设备 存储设备 存储存储存器'}]                                                                                                                                                |\n",
      "| 83 | Toys Games Party Supplies Banners                                                                                               | [{'translation_text': 'zh?n? c?e?e?e?e?o ni?e?e?o ni?e?o ni?e?o'}]                                                                                                                                                                                                                                                                                                      |\n",
      "| 84 | Toys Games Baby Toddler Toys                                                                                                    | [{'translation_text': 'zh?n? c?n? c?n? c?n? c?n? c?n? c?n? c?n? c?n? c?n? c?n? c?o'}]                                                                                                                                                                                                                                                                                   |\n",
      "| 85 | Toys Games Hobbies Trains Accessories Train Cars                                                                                | [{'translation_text': 'zh?n? c?e?e?e?e?e?o ni?e?e?o ni?e?o'}]                                                                                                                                                                                                                                                                                                           |\n",
      "| 86 | Toys Games Games Accessories Card Games Standard Playing Card Decks                                                             | [{'translation_text': 'zh?n? c?e?e?e?e?o ni?e?e?o ni?e?o ni?e?o'}]                                                                                                                                                                                                                                                                                                      |\n",
      "| 87 | Toys Games Stuffed Animals Plush Toys                                                                                           | [{'translation_text': 'zh?n? c?e?e?e?e?o ni?e?e?o ni?e?o'}]                                                                                                                                                                                                                                                                                                             |\n",
      "| 88 | Toys Games Hobbies Remote App Controlled Vehicles Parts Remote App Controlled Vehicle Parts                                     | [{'translation_text': 'zh?n?c? c?e?e?o n?eueo'}]                                                                                                                                                                                                                                                                                                                        |\n",
      "| 89 | Toys Games Kids' Electronics                                                                                                    | [{'translation_text': 'zh?n? c?e?e?e?e?e?o ni?e?e?o ni?e?o'}]                                                                                                                                                                                                                                                                                                           |\n",
      "| 90 | Toys Games Games Accessories Card Games Standard Playing Card Decks                                                             | [{'translation_text': 'zh?n? c?e?e?e?e?o ni?e?e?o ni?e?o ni?e?o'}]                                                                                                                                                                                                                                                                                                      |\n",
      "| 91 | Toys Games Hobbies Remote App Controlled Vehicles Parts Remote App Controlled Vehicles Quadcopters Multirotors                  | [{'translation_text': 'zh.cz 玩具/游戏 玩具 玩具/游戏 玩具/玩具游戏'}]                                                                                                                                                                                                                                                                                                  |\n",
      "| 92 | Arts, Crafts Sewing Crafting Paper Paper Crafts Paper Craft Tools                                                               | [{'translation_text': 'zh.cz 电子产品 计算机/电脑 电脑组件 存储设备 存储设备 存储设备 存储设备 存储设备 存储设备 存储设备 存储设备 存储设备 存储设备 存储设备 存储设备 存储设备 存储设备 存储设备 存储设备 存储存储存器'}]                                                                                                                                              |\n",
      "| 93 | Toys Games Building Toys                                                                                                        | [{'translation_text': 'zh?n? c?e?e?e?e?e?o ni?e?e?o ni?e?o'}]                                                                                                                                                                                                                                                                                                           |\n",
      "| 94 | Toys Games Party Supplies                                                                                                       | [{'translation_text': 'zh?n? c?e?e?e?e?e?o ni?e?e?o ni?e?o'}]                                                                                                                                                                                                                                                                                                           |\n",
      "| 95 | Clothing, Shoes Jewelry Costumes Accessories Kids Baby Girls Costumes                                                           | [{'translation_text': 'zh?n?n? c?n? c?n? c?n? c?n? c?n? c?n? c?n? c?n? c?n? c?n? c?o'}]                                                                                                                                                                                                                                                                                 |\n",
      "| 96 | Toys Games Learning Education Science Kits Toys                                                                                 | [{'translation_text': 'zhh 电子产品 计算机/电脑 电脑组件 存储设备 存储设备 存储设备 存储设备 存储设备 存储设备 存储设备 存储设备 存储设备 存储设备 存储设备 存储设备 存储设备 存储设备 存储设备 存储设备 存储存储存器'}]                                                                                                                                                |\n",
      "| 97 | Toys Games Dolls Accessories Dolls                                                                                              | [{'translation_text': 'zh?n? c?e?e?e?e?e?o ni?e?e?o ni?e?o'}]                                                                                                                                                                                                                                                                                                           |\n",
      "| 98 | Toys Games Sports Outdoor Play Play Sets Playground Equipment                                                                   | [{'translation_text': 'zhh 电子产品 计算机/电脑 电脑组件 存储设备 存储设备 存储设备 存储设备 存储设备 存储设备 存储设备 存储设备 存储设备 存储设备 存储设备 存储设备 存储设备 存储设备 存储设备 存储设备 存储存储存器'}]                                                                                                                                                |\n",
      "| 99 | Toys Games Stuffed Animals Plush Toys Plush Pillows                                                                             | [{'translation_text': 'zh?n? c?e?e?e?e?e?o ni?e?e?o ni?e?o'}]                                                                                                                                                                                                                                                                                                           |\n"
     ]
    }
   ],
   "source": [
    "ecommerce_dataset = pandas.DataFrame(list(zip(en_list, zh_list)), columns=['Category-en', 'Category-zh'])\n",
    "print(ecommerce_dataset.to_markdown())"
   ]
  },
  {
   "cell_type": "code",
   "execution_count": 20,
   "metadata": {},
   "outputs": [
    {
     "ename": "ModuleNotFoundError",
     "evalue": "No module named 'openpyxl'",
     "output_type": "error",
     "traceback": [
      "\u001b[1;31m---------------------------------------------------------------------------\u001b[0m",
      "\u001b[1;31mModuleNotFoundError\u001b[0m                       Traceback (most recent call last)",
      "Cell \u001b[1;32mIn[20], line 2\u001b[0m\n\u001b[0;32m      1\u001b[0m currentDateTime \u001b[38;5;241m=\u001b[39m datetime\u001b[38;5;241m.\u001b[39mnow()\u001b[38;5;241m.\u001b[39mstrftime(\u001b[38;5;124m\"\u001b[39m\u001b[38;5;124m%\u001b[39m\u001b[38;5;124mm-\u001b[39m\u001b[38;5;132;01m%d\u001b[39;00m\u001b[38;5;124m-\u001b[39m\u001b[38;5;124m%\u001b[39m\u001b[38;5;124mY \u001b[39m\u001b[38;5;124m%\u001b[39m\u001b[38;5;124mH-\u001b[39m\u001b[38;5;124m%\u001b[39m\u001b[38;5;124mM-\u001b[39m\u001b[38;5;124m%\u001b[39m\u001b[38;5;124mS \u001b[39m\u001b[38;5;124m%\u001b[39m\u001b[38;5;124mp\u001b[39m\u001b[38;5;124m\"\u001b[39m)\n\u001b[1;32m----> 2\u001b[0m \u001b[43mecommerce_dataset\u001b[49m\u001b[38;5;241;43m.\u001b[39;49m\u001b[43mto_excel\u001b[49m\u001b[43m(\u001b[49m\u001b[38;5;124;43mf\u001b[39;49m\u001b[38;5;124;43m'\u001b[39;49m\u001b[38;5;124;43m./Results/result \u001b[39;49m\u001b[38;5;132;43;01m{\u001b[39;49;00m\u001b[43mcurrentDateTime\u001b[49m\u001b[38;5;132;43;01m}\u001b[39;49;00m\u001b[38;5;124;43m.xlsx\u001b[39;49m\u001b[38;5;124;43m'\u001b[39;49m\u001b[43m,\u001b[49m\u001b[43m \u001b[49m\u001b[43mindex\u001b[49m\u001b[38;5;241;43m=\u001b[39;49m\u001b[38;5;28;43;01mFalse\u001b[39;49;00m\u001b[43m)\u001b[49m\n",
      "File \u001b[1;32mc:\\Users\\duong\\AppData\\Local\\Programs\\Python\\Python311\\Lib\\site-packages\\pandas\\util\\_decorators.py:211\u001b[0m, in \u001b[0;36mdeprecate_kwarg.<locals>._deprecate_kwarg.<locals>.wrapper\u001b[1;34m(*args, **kwargs)\u001b[0m\n\u001b[0;32m    209\u001b[0m     \u001b[38;5;28;01melse\u001b[39;00m:\n\u001b[0;32m    210\u001b[0m         kwargs[new_arg_name] \u001b[38;5;241m=\u001b[39m new_arg_value\n\u001b[1;32m--> 211\u001b[0m \u001b[38;5;28;01mreturn\u001b[39;00m \u001b[43mfunc\u001b[49m\u001b[43m(\u001b[49m\u001b[38;5;241;43m*\u001b[39;49m\u001b[43margs\u001b[49m\u001b[43m,\u001b[49m\u001b[43m \u001b[49m\u001b[38;5;241;43m*\u001b[39;49m\u001b[38;5;241;43m*\u001b[39;49m\u001b[43mkwargs\u001b[49m\u001b[43m)\u001b[49m\n",
      "File \u001b[1;32mc:\\Users\\duong\\AppData\\Local\\Programs\\Python\\Python311\\Lib\\site-packages\\pandas\\util\\_decorators.py:211\u001b[0m, in \u001b[0;36mdeprecate_kwarg.<locals>._deprecate_kwarg.<locals>.wrapper\u001b[1;34m(*args, **kwargs)\u001b[0m\n\u001b[0;32m    209\u001b[0m     \u001b[38;5;28;01melse\u001b[39;00m:\n\u001b[0;32m    210\u001b[0m         kwargs[new_arg_name] \u001b[38;5;241m=\u001b[39m new_arg_value\n\u001b[1;32m--> 211\u001b[0m \u001b[38;5;28;01mreturn\u001b[39;00m \u001b[43mfunc\u001b[49m\u001b[43m(\u001b[49m\u001b[38;5;241;43m*\u001b[39;49m\u001b[43margs\u001b[49m\u001b[43m,\u001b[49m\u001b[43m \u001b[49m\u001b[38;5;241;43m*\u001b[39;49m\u001b[38;5;241;43m*\u001b[39;49m\u001b[43mkwargs\u001b[49m\u001b[43m)\u001b[49m\n",
      "File \u001b[1;32mc:\\Users\\duong\\AppData\\Local\\Programs\\Python\\Python311\\Lib\\site-packages\\pandas\\core\\generic.py:2374\u001b[0m, in \u001b[0;36mNDFrame.to_excel\u001b[1;34m(self, excel_writer, sheet_name, na_rep, float_format, columns, header, index, index_label, startrow, startcol, engine, merge_cells, encoding, inf_rep, verbose, freeze_panes, storage_options)\u001b[0m\n\u001b[0;32m   2361\u001b[0m \u001b[38;5;28;01mfrom\u001b[39;00m \u001b[38;5;21;01mpandas\u001b[39;00m\u001b[38;5;21;01m.\u001b[39;00m\u001b[38;5;21;01mio\u001b[39;00m\u001b[38;5;21;01m.\u001b[39;00m\u001b[38;5;21;01mformats\u001b[39;00m\u001b[38;5;21;01m.\u001b[39;00m\u001b[38;5;21;01mexcel\u001b[39;00m \u001b[38;5;28;01mimport\u001b[39;00m ExcelFormatter\n\u001b[0;32m   2363\u001b[0m formatter \u001b[38;5;241m=\u001b[39m ExcelFormatter(\n\u001b[0;32m   2364\u001b[0m     df,\n\u001b[0;32m   2365\u001b[0m     na_rep\u001b[38;5;241m=\u001b[39mna_rep,\n\u001b[1;32m   (...)\u001b[0m\n\u001b[0;32m   2372\u001b[0m     inf_rep\u001b[38;5;241m=\u001b[39minf_rep,\n\u001b[0;32m   2373\u001b[0m )\n\u001b[1;32m-> 2374\u001b[0m \u001b[43mformatter\u001b[49m\u001b[38;5;241;43m.\u001b[39;49m\u001b[43mwrite\u001b[49m\u001b[43m(\u001b[49m\n\u001b[0;32m   2375\u001b[0m \u001b[43m    \u001b[49m\u001b[43mexcel_writer\u001b[49m\u001b[43m,\u001b[49m\n\u001b[0;32m   2376\u001b[0m \u001b[43m    \u001b[49m\u001b[43msheet_name\u001b[49m\u001b[38;5;241;43m=\u001b[39;49m\u001b[43msheet_name\u001b[49m\u001b[43m,\u001b[49m\n\u001b[0;32m   2377\u001b[0m \u001b[43m    \u001b[49m\u001b[43mstartrow\u001b[49m\u001b[38;5;241;43m=\u001b[39;49m\u001b[43mstartrow\u001b[49m\u001b[43m,\u001b[49m\n\u001b[0;32m   2378\u001b[0m \u001b[43m    \u001b[49m\u001b[43mstartcol\u001b[49m\u001b[38;5;241;43m=\u001b[39;49m\u001b[43mstartcol\u001b[49m\u001b[43m,\u001b[49m\n\u001b[0;32m   2379\u001b[0m \u001b[43m    \u001b[49m\u001b[43mfreeze_panes\u001b[49m\u001b[38;5;241;43m=\u001b[39;49m\u001b[43mfreeze_panes\u001b[49m\u001b[43m,\u001b[49m\n\u001b[0;32m   2380\u001b[0m \u001b[43m    \u001b[49m\u001b[43mengine\u001b[49m\u001b[38;5;241;43m=\u001b[39;49m\u001b[43mengine\u001b[49m\u001b[43m,\u001b[49m\n\u001b[0;32m   2381\u001b[0m \u001b[43m    \u001b[49m\u001b[43mstorage_options\u001b[49m\u001b[38;5;241;43m=\u001b[39;49m\u001b[43mstorage_options\u001b[49m\u001b[43m,\u001b[49m\n\u001b[0;32m   2382\u001b[0m \u001b[43m\u001b[49m\u001b[43m)\u001b[49m\n",
      "File \u001b[1;32mc:\\Users\\duong\\AppData\\Local\\Programs\\Python\\Python311\\Lib\\site-packages\\pandas\\io\\formats\\excel.py:944\u001b[0m, in \u001b[0;36mExcelFormatter.write\u001b[1;34m(self, writer, sheet_name, startrow, startcol, freeze_panes, engine, storage_options)\u001b[0m\n\u001b[0;32m    940\u001b[0m     need_save \u001b[38;5;241m=\u001b[39m \u001b[38;5;28;01mFalse\u001b[39;00m\n\u001b[0;32m    941\u001b[0m \u001b[38;5;28;01melse\u001b[39;00m:\n\u001b[0;32m    942\u001b[0m     \u001b[38;5;66;03m# error: Cannot instantiate abstract class 'ExcelWriter' with abstract\u001b[39;00m\n\u001b[0;32m    943\u001b[0m     \u001b[38;5;66;03m# attributes 'engine', 'save', 'supported_extensions' and 'write_cells'\u001b[39;00m\n\u001b[1;32m--> 944\u001b[0m     writer \u001b[38;5;241m=\u001b[39m \u001b[43mExcelWriter\u001b[49m\u001b[43m(\u001b[49m\u001b[43m  \u001b[49m\u001b[38;5;66;43;03m# type: ignore[abstract]\u001b[39;49;00m\n\u001b[0;32m    945\u001b[0m \u001b[43m        \u001b[49m\u001b[43mwriter\u001b[49m\u001b[43m,\u001b[49m\u001b[43m \u001b[49m\u001b[43mengine\u001b[49m\u001b[38;5;241;43m=\u001b[39;49m\u001b[43mengine\u001b[49m\u001b[43m,\u001b[49m\u001b[43m \u001b[49m\u001b[43mstorage_options\u001b[49m\u001b[38;5;241;43m=\u001b[39;49m\u001b[43mstorage_options\u001b[49m\n\u001b[0;32m    946\u001b[0m \u001b[43m    \u001b[49m\u001b[43m)\u001b[49m\n\u001b[0;32m    947\u001b[0m     need_save \u001b[38;5;241m=\u001b[39m \u001b[38;5;28;01mTrue\u001b[39;00m\n\u001b[0;32m    949\u001b[0m \u001b[38;5;28;01mtry\u001b[39;00m:\n",
      "File \u001b[1;32mc:\\Users\\duong\\AppData\\Local\\Programs\\Python\\Python311\\Lib\\site-packages\\pandas\\io\\excel\\_openpyxl.py:56\u001b[0m, in \u001b[0;36mOpenpyxlWriter.__init__\u001b[1;34m(self, path, engine, date_format, datetime_format, mode, storage_options, if_sheet_exists, engine_kwargs, **kwargs)\u001b[0m\n\u001b[0;32m     43\u001b[0m \u001b[38;5;28;01mdef\u001b[39;00m \u001b[38;5;21m__init__\u001b[39m(\n\u001b[0;32m     44\u001b[0m     \u001b[38;5;28mself\u001b[39m,\n\u001b[0;32m     45\u001b[0m     path: FilePath \u001b[38;5;241m|\u001b[39m WriteExcelBuffer \u001b[38;5;241m|\u001b[39m ExcelWriter,\n\u001b[1;32m   (...)\u001b[0m\n\u001b[0;32m     54\u001b[0m ) \u001b[38;5;241m-\u001b[39m\u001b[38;5;241m>\u001b[39m \u001b[38;5;28;01mNone\u001b[39;00m:\n\u001b[0;32m     55\u001b[0m     \u001b[38;5;66;03m# Use the openpyxl module as the Excel writer.\u001b[39;00m\n\u001b[1;32m---> 56\u001b[0m     \u001b[38;5;28;01mfrom\u001b[39;00m \u001b[38;5;21;01mopenpyxl\u001b[39;00m\u001b[38;5;21;01m.\u001b[39;00m\u001b[38;5;21;01mworkbook\u001b[39;00m \u001b[38;5;28;01mimport\u001b[39;00m Workbook\n\u001b[0;32m     58\u001b[0m     engine_kwargs \u001b[38;5;241m=\u001b[39m combine_kwargs(engine_kwargs, kwargs)\n\u001b[0;32m     60\u001b[0m     \u001b[38;5;28msuper\u001b[39m()\u001b[38;5;241m.\u001b[39m\u001b[38;5;21m__init__\u001b[39m(\n\u001b[0;32m     61\u001b[0m         path,\n\u001b[0;32m     62\u001b[0m         mode\u001b[38;5;241m=\u001b[39mmode,\n\u001b[1;32m   (...)\u001b[0m\n\u001b[0;32m     65\u001b[0m         engine_kwargs\u001b[38;5;241m=\u001b[39mengine_kwargs,\n\u001b[0;32m     66\u001b[0m     )\n",
      "\u001b[1;31mModuleNotFoundError\u001b[0m: No module named 'openpyxl'"
     ]
    }
   ],
   "source": [
    "currentDateTime = datetime.now().strftime(\"%m-%d-%Y %H-%M-%S %p\")\n",
    "ecommerce_dataset.to_excel(f'./Results/result {currentDateTime}.xlsx', index=False)"
   ]
  },
  {
   "cell_type": "code",
   "execution_count": null,
   "metadata": {},
   "outputs": [],
   "source": []
  }
 ],
 "metadata": {
  "kernelspec": {
   "display_name": "Python 3",
   "language": "python",
   "name": "python3"
  },
  "language_info": {
   "codemirror_mode": {
    "name": "ipython",
    "version": 3
   },
   "file_extension": ".py",
   "mimetype": "text/x-python",
   "name": "python",
   "nbconvert_exporter": "python",
   "pygments_lexer": "ipython3",
   "version": "3.11.8"
  }
 },
 "nbformat": 4,
 "nbformat_minor": 2
}
